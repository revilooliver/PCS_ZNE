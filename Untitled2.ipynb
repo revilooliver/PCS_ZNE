{
 "cells": [
  {
   "cell_type": "code",
   "execution_count": 2,
   "id": "07f819b0-2ec5-4f1c-a14e-7473738701a2",
   "metadata": {},
   "outputs": [],
   "source": [
    "import time, random\n",
    "import numpy as np\n",
    "# import pennylane as qml\n",
    "# from qiskit import Aer, transpile, execute\n",
    "from qiskit.circuit import QuantumCircuit\n",
    "from qiskit.quantum_info import random_clifford, Pauli, Statevector\n",
    "import matplotlib.pyplot as plt\n",
    "\n",
    "np.set_printoptions(precision=6, edgeitems=10, linewidth=150, suppress=True)"
   ]
  },
  {
   "cell_type": "code",
   "execution_count": 5,
   "id": "2c3def47-748f-4cd5-bfff-60f22e4ba79c",
   "metadata": {},
   "outputs": [],
   "source": [
    "import qiskit\n",
    "import itertools\n",
    "from qiskit import *\n",
    "from qiskit.quantum_info import Clifford, random_clifford\n",
    "from qiskit.synthesis import synth_clifford_full\n",
    "from qiskit.quantum_info import hellinger_fidelity as hf\n",
    "\n",
    "from utils.pauli_checks import ChecksFinder, add_pauli_checks, add_meas_pauli_checks, add_linear_meas_pauli_checks,  search_for_pauli_list\n",
    "from utils.pauli_checks import gen_initial_layout, gen_final_layout, filter_results, pauli_strings_commute\n",
    "\n",
    "from utils.utils import norm_dict, total_counts\n",
    "# from utils.vqe_utils import evaluation\n",
    "from utils.postprocess import singlecheck_postprocess, rightchecks_postprocess, filter_results_reindex"
   ]
  },
  {
   "cell_type": "markdown",
   "id": "e4002634-170a-4e35-a7de-e92b72919fd1",
   "metadata": {},
   "source": [
    "#### Generate Circuit"
   ]
  },
  {
   "cell_type": "code",
   "execution_count": 95,
   "id": "9ff26ff7-d4e6-44bb-8d20-defcc7770d76",
   "metadata": {},
   "outputs": [
    {
     "name": "stdout",
     "output_type": "stream",
     "text": [
      "                            ┌───┐                                         \n",
      "q_0: ───────────X───■────■──┤ Z ├─────────────────────────────────────────\n",
      "                │ ┌─┴─┐  │  └───┘   ┌───┐┌───┐                            \n",
      "q_1: ───────────┼─┤ X ├──┼────────X─┤ X ├┤ X ├────────────────────────────\n",
      "     ┌───┐      │ └───┘┌─┴─┐┌───┐ │ └─┬─┘└─┬─┘┌───┐        ┌───┐┌───┐┌───┐\n",
      "q_2: ┤ H ├──────┼──────┤ X ├┤ S ├─X───┼────■──┤ S ├─X───■──┤ H ├┤ S ├┤ X ├\n",
      "     ├───┤┌───┐ │ ┌───┐├───┤└───┘     │  ┌───┐└───┘ │ ┌─┴─┐├───┤└───┘└───┘\n",
      "q_3: ┤ S ├┤ H ├─X─┤ S ├┤ H ├──────────■──┤ H ├──────X─┤ X ├┤ Z ├──────────\n",
      "     └───┘└───┘   └───┘└───┘             └───┘        └───┘└───┘          \n"
     ]
    }
   ],
   "source": [
    "num_qubits = 4\n",
    "Clifford = random_clifford(num_qubits)\n",
    "circuit = Clifford.to_circuit()\n",
    "print(circuit)"
   ]
  },
  {
   "cell_type": "markdown",
   "id": "9f7b9784-2083-4b05-b027-81b4f5323669",
   "metadata": {},
   "source": [
    "#### Apply Checks"
   ]
  },
  {
   "cell_type": "code",
   "execution_count": 98,
   "id": "d0756b6c-1824-4a18-a0be-424a72d281f2",
   "metadata": {},
   "outputs": [
    {
     "name": "stdout",
     "output_type": "stream",
     "text": [
      "[['-1YIII', '+1IIIZ'], ['-1IXZY', '+1IIZI'], ['-1IYYY', '+1IZII'], ['+1IYZZ', '+1ZIII']]\n"
     ]
    }
   ],
   "source": [
    "characters = ['I', 'Z']\n",
    "strings = [''.join(p) for p in itertools.product(characters, repeat=num_qubits)]\n",
    "\n",
    "test_finder = ChecksFinder(num_qubits, circuit)\n",
    "p1_list = []\n",
    "for string in strings:\n",
    "    string_list = list(string)\n",
    "    result = test_finder.find_checks_sym(pauli_group_elem = string_list)\n",
    "    #print(result.p1_str, result.p2_str)\n",
    "    p1_list.append([result.p1_str, result.p2_str])\n",
    "    \n",
    "sorted_list = sorted(p1_list, key=lambda s: s[1].count('I'))\n",
    "pauli_list = sorted_list[-num_qubits -1:-1]\n",
    "print(pauli_list)"
   ]
  },
  {
   "cell_type": "code",
   "execution_count": 100,
   "id": "dd026414-4438-46c1-b502-cb07ef1b5aa1",
   "metadata": {},
   "outputs": [],
   "source": [
    "initial_layout = {}\n",
    "for i in range(0, num_qubits):\n",
    "    initial_layout[i] = [i]\n",
    "\n",
    "final_layout = {}\n",
    "for i in range(0, num_qubits):\n",
    "    final_layout[i] = [i]"
   ]
  },
  {
   "cell_type": "code",
   "execution_count": 102,
   "id": "858ba798-1046-4083-ae5b-2aa3b401292f",
   "metadata": {},
   "outputs": [],
   "source": [
    "num_checks = 1\n",
    "single_side = False\n",
    "\n",
    "#add pauli check on two sides:\n",
    "#specify the left and right pauli strings\n",
    "pcs_qc_list = []\n",
    "sign_list = []\n",
    "pl_list = []\n",
    "pr_list = []\n",
    "\n",
    "for i in range(0, num_checks):\n",
    "    pl = pauli_list[i][0][2:]\n",
    "    pr = pauli_list[i][1][2:]\n",
    "    if i == 0:\n",
    "        temp_qc = add_pauli_checks(circuit, pl, pr, initial_layout, final_layout, False, single_side, False, False, False, 0)\n",
    "        save_qc = add_pauli_checks(circuit, pl, pr, initial_layout, final_layout, False, single_side, False, False, False, 0)\n",
    "        prev_qc = temp_qc\n",
    "    else:\n",
    "        temp_qc = add_pauli_checks(prev_qc, pl, pr, initial_layout, final_layout, False, single_side, False, False, False, 0)\n",
    "        save_qc = add_pauli_checks(prev_qc, pl, pr, initial_layout, final_layout, False, single_side, False, False, False, 0) \n",
    "        prev_qc = temp_qc\n",
    "    pl_list.append(pl)\n",
    "    pr_list.append(pr)\n",
    "    sign_list.append(pauli_list[i][0][:2])\n",
    "    pcs_qc_list.append(save_qc)"
   ]
  },
  {
   "cell_type": "code",
   "execution_count": 104,
   "id": "f971679e-04f7-44f6-bc49-31504ce03265",
   "metadata": {},
   "outputs": [
    {
     "name": "stdout",
     "output_type": "stream",
     "text": [
      "                                         ┌───┐                             »\n",
      "   q_0: ─────────────────────X───■────■──┤ Z ├────■────────────────────────»\n",
      "                             │ ┌─┴─┐  │  └───┘    │ ┌───┐┌───┐             »\n",
      "   q_1: ─────────────────────┼─┤ X ├──┼────────X──┼─┤ X ├┤ X ├─────────────»\n",
      "        ┌───┐                │ └───┘┌─┴─┐┌───┐ │  │ └─┬─┘└─┬─┘┌───┐        »\n",
      "   q_2: ┤ H ├────────────────┼──────┤ X ├┤ S ├─X──┼───┼────■──┤ S ├─X───■──»\n",
      "        └───┘┌───┐┌───┐┌───┐ │ ┌───┐├───┤└───┘    │   │  ┌───┐└───┘ │ ┌─┴─┐»\n",
      "   q_3: ─────┤ Y ├┤ S ├┤ H ├─X─┤ S ├┤ H ├─────────┼───■──┤ H ├──────X─┤ X ├»\n",
      "        ┌───┐└─┬─┘└───┘└───┘   └───┘└───┘         │ ┌───┐└───┘        └───┘»\n",
      "   q_4: ┤ H ├──■──────────────────────────────────■─┤ H ├──────────────────»\n",
      "        └───┘                                       └───┘                  »\n",
      "meas: 5/═══════════════════════════════════════════════════════════════════»\n",
      "                                                                           »\n",
      "«                        ░ ┌─┐            \n",
      "«   q_0: ────────────────░─┤M├────────────\n",
      "«                        ░ └╥┘┌─┐         \n",
      "«   q_1: ────────────────░──╫─┤M├─────────\n",
      "«        ┌───┐┌───┐┌───┐ ░  ║ └╥┘┌─┐      \n",
      "«   q_2: ┤ H ├┤ S ├┤ X ├─░──╫──╫─┤M├──────\n",
      "«        ├───┤└───┘└───┘ ░  ║  ║ └╥┘┌─┐   \n",
      "«   q_3: ┤ Z ├───────────░──╫──╫──╫─┤M├───\n",
      "«        └───┘           ░  ║  ║  ║ └╥┘┌─┐\n",
      "«   q_4: ────────────────░──╫──╫──╫──╫─┤M├\n",
      "«                        ░  ║  ║  ║  ║ └╥┘\n",
      "«meas: 5/═══════════════════╩══╩══╩══╩══╩═\n",
      "«                           0  1  2  3  4 \n",
      "(['-1'], ['YIII'], ['IIIZ'])\n"
     ]
    }
   ],
   "source": [
    "total_qubits = num_qubits + num_checks\n",
    "qc = QuantumCircuit(total_qubits)\n",
    "\n",
    "qc.compose(pcs_qc_list[-1], qubits=[i for i in range(0, total_qubits)], inplace=True)\n",
    "qc.measure_all()\n",
    "print(qc)\n",
    "print((sign_list, pl_list, pr_list))"
   ]
  },
  {
   "cell_type": "markdown",
   "id": "11eac23a-ca5d-4c3f-a5a1-ae6eee6c661c",
   "metadata": {},
   "source": [
    "#### Compute Expectation (assume extra gates used for measuring in other bases are in the pcs circuit already)"
   ]
  },
  {
   "cell_type": "code",
   "execution_count": 117,
   "id": "503661cd-cb9e-4b1d-a847-28933b9a678a",
   "metadata": {},
   "outputs": [
    {
     "ename": "ValidationError",
     "evalue": "2 validation errors for OptionsV2\noptimization_level\n  Unexpected keyword argument [type=unexpected_keyword_argument, input_value=2, input_type=int]\n    For further information visit https://errors.pydantic.dev/2.9/v/unexpected_keyword_argument\nresilience_level\n  Unexpected keyword argument [type=unexpected_keyword_argument, input_value=1, input_type=int]\n    For further information visit https://errors.pydantic.dev/2.9/v/unexpected_keyword_argument",
     "output_type": "error",
     "traceback": [
      "\u001b[0;31m---------------------------------------------------------------------------\u001b[0m",
      "\u001b[0;31mValidationError\u001b[0m                           Traceback (most recent call last)",
      "Cell \u001b[0;32mIn[117], line 12\u001b[0m\n\u001b[1;32m      9\u001b[0m fake_backend \u001b[38;5;241m=\u001b[39m FakeGeneva() \u001b[38;5;66;03m# select backend\u001b[39;00m\n\u001b[1;32m     10\u001b[0m noise_model \u001b[38;5;241m=\u001b[39m noise\u001b[38;5;241m.\u001b[39mNoiseModel\u001b[38;5;241m.\u001b[39mfrom_backend(fake_backend)\n\u001b[0;32m---> 12\u001b[0m options \u001b[38;5;241m=\u001b[39m \u001b[43mOptions\u001b[49m\u001b[43m(\u001b[49m\u001b[43moptimization_level\u001b[49m\u001b[38;5;241;43m=\u001b[39;49m\u001b[38;5;241;43m2\u001b[39;49m\u001b[43m,\u001b[49m\u001b[43m \u001b[49m\u001b[43mresilience_level\u001b[49m\u001b[38;5;241;43m=\u001b[39;49m\u001b[38;5;241;43m1\u001b[39;49m\u001b[43m)\u001b[49m \u001b[38;5;66;03m# choose the proper levels on hardware\u001b[39;00m\n\u001b[1;32m     13\u001b[0m options\u001b[38;5;241m.\u001b[39msimulator \u001b[38;5;241m=\u001b[39m {\n\u001b[1;32m     14\u001b[0m     \u001b[38;5;124m\"\u001b[39m\u001b[38;5;124mnoise_model\u001b[39m\u001b[38;5;124m\"\u001b[39m: noise_model,\n\u001b[1;32m     15\u001b[0m     \u001b[38;5;124m\"\u001b[39m\u001b[38;5;124mbasis_gates\u001b[39m\u001b[38;5;124m\"\u001b[39m: fake_backend\u001b[38;5;241m.\u001b[39mconfiguration()\u001b[38;5;241m.\u001b[39mbasis_gates,\n\u001b[1;32m     16\u001b[0m     \u001b[38;5;124m\"\u001b[39m\u001b[38;5;124mcoupling_map\u001b[39m\u001b[38;5;124m\"\u001b[39m: fake_backend\u001b[38;5;241m.\u001b[39mconfiguration()\u001b[38;5;241m.\u001b[39mcoupling_map,\n\u001b[1;32m     17\u001b[0m     \u001b[38;5;124m\"\u001b[39m\u001b[38;5;124mseed_simulator\u001b[39m\u001b[38;5;124m\"\u001b[39m: \u001b[38;5;241m42\u001b[39m\n\u001b[1;32m     18\u001b[0m }\n\u001b[1;32m     20\u001b[0m \u001b[38;5;66;03m# backend = service.get_backend(\"\") \u001b[39;00m\n\u001b[1;32m     21\u001b[0m \u001b[38;5;66;03m# backend = \"ibmq_qasm_simulator\" # use the simulator for now\u001b[39;00m\n",
      "File \u001b[0;32m/opt/anaconda3/envs/pcs/lib/python3.12/site-packages/pydantic/_internal/_dataclasses.py:141\u001b[0m, in \u001b[0;36mcomplete_dataclass.<locals>.__init__\u001b[0;34m(__dataclass_self__, *args, **kwargs)\u001b[0m\n\u001b[1;32m    139\u001b[0m __tracebackhide__ \u001b[38;5;241m=\u001b[39m \u001b[38;5;28;01mTrue\u001b[39;00m\n\u001b[1;32m    140\u001b[0m s \u001b[38;5;241m=\u001b[39m __dataclass_self__\n\u001b[0;32m--> 141\u001b[0m \u001b[43ms\u001b[49m\u001b[38;5;241;43m.\u001b[39;49m\u001b[43m__pydantic_validator__\u001b[49m\u001b[38;5;241;43m.\u001b[39;49m\u001b[43mvalidate_python\u001b[49m\u001b[43m(\u001b[49m\u001b[43mArgsKwargs\u001b[49m\u001b[43m(\u001b[49m\u001b[43margs\u001b[49m\u001b[43m,\u001b[49m\u001b[43m \u001b[49m\u001b[43mkwargs\u001b[49m\u001b[43m)\u001b[49m\u001b[43m,\u001b[49m\u001b[43m \u001b[49m\u001b[43mself_instance\u001b[49m\u001b[38;5;241;43m=\u001b[39;49m\u001b[43ms\u001b[49m\u001b[43m)\u001b[49m\n",
      "\u001b[0;31mValidationError\u001b[0m: 2 validation errors for OptionsV2\noptimization_level\n  Unexpected keyword argument [type=unexpected_keyword_argument, input_value=2, input_type=int]\n    For further information visit https://errors.pydantic.dev/2.9/v/unexpected_keyword_argument\nresilience_level\n  Unexpected keyword argument [type=unexpected_keyword_argument, input_value=1, input_type=int]\n    For further information visit https://errors.pydantic.dev/2.9/v/unexpected_keyword_argument"
     ]
    }
   ],
   "source": [
    "# from qiskit_ibm_runtime import Session, Options, SamplerV2 as Sampler\n",
    "from qiskit_ibm_runtime import Session, Sampler, Options\n",
    "from qiskit_ibm_runtime.fake_provider import *\n",
    "from qiskit_aer import AerSimulator\n",
    "import qiskit_aer.noise as noise\n",
    "from itertools import combinations\n",
    "\n",
    "# Make a noise model\n",
    "fake_backend = FakeGeneva() # select backend\n",
    "noise_model = noise.NoiseModel.from_backend(fake_backend)\n",
    "\n",
    "options = Options(optimization_level=2, resilience_level=1) # choose the proper levels on hardware\n",
    "options.simulator = {\n",
    "    \"noise_model\": noise_model,\n",
    "    \"basis_gates\": fake_backend.configuration().basis_gates,\n",
    "    \"coupling_map\": fake_backend.configuration().coupling_map,\n",
    "    \"seed_simulator\": 42\n",
    "}\n",
    "\n",
    "# backend = service.get_backend(\"\") \n",
    "# backend = \"ibmq_qasm_simulator\" # use the simulator for now\n",
    "backend = AerSimulator()"
   ]
  },
  {
   "cell_type": "code",
   "execution_count": 111,
   "id": "407045f7-4cb1-4b4e-a557-7f11693e9a1b",
   "metadata": {},
   "outputs": [],
   "source": [
    "# from qiskit_ibm_runtime.fake_provider import FakeManilaV2\n",
    "\n",
    "# backend = FakeManilaV2()"
   ]
  },
  {
   "cell_type": "code",
   "execution_count": 113,
   "id": "f3255158-200a-4a6f-ba97-5e3c32630431",
   "metadata": {},
   "outputs": [
    {
     "ename": "NameError",
     "evalue": "name 'Session' is not defined",
     "output_type": "error",
     "traceback": [
      "\u001b[0;31m---------------------------------------------------------------------------\u001b[0m",
      "\u001b[0;31mNameError\u001b[0m                                 Traceback (most recent call last)",
      "Cell \u001b[0;32mIn[113], line 5\u001b[0m\n\u001b[1;32m      2\u001b[0m check_id \u001b[38;5;241m=\u001b[39m \u001b[38;5;241m1\u001b[39m\n\u001b[1;32m      3\u001b[0m \u001b[38;5;66;03m# Submit hardware jobs via Qiskit Runtime;\u001b[39;00m\n\u001b[0;32m----> 5\u001b[0m \u001b[38;5;28;01mwith\u001b[39;00m \u001b[43mSession\u001b[49m(backend\u001b[38;5;241m=\u001b[39mbackend) \u001b[38;5;28;01mas\u001b[39;00m session:\n\u001b[1;32m      6\u001b[0m     sampler \u001b[38;5;241m=\u001b[39m Sampler(session\u001b[38;5;241m=\u001b[39msession, options\u001b[38;5;241m=\u001b[39moptions)\n\u001b[1;32m      8\u001b[0m     \u001b[38;5;66;03m# same as the calibration process\u001b[39;00m\n",
      "\u001b[0;31mNameError\u001b[0m: name 'Session' is not defined"
     ]
    }
   ],
   "source": [
    "prep_b_lists_filtered = []\n",
    "check_id = 1\n",
    "# Submit hardware jobs via Qiskit Runtime;\n",
    "\n",
    "with Session(backend=backend) as session:\n",
    "    sampler = Sampler(session=session, options=options)\n",
    "\n",
    "    # same as the calibration process\n",
    "    job = sampler.run( prepcheck_circs_list[check_id-1], shots=100, initial_layout=[])\n",
    "    print(f\"Job ID: {job.job_id()}\")\n",
    "    print(f\">>> Job Status: {job.status()}\")\n",
    "\n",
    "    result = job.result()\n",
    "\n",
    "    # Close the session only if all jobs are finished\n",
    "    # and you don't need to run more in the session.\n",
    "    session.close()\n",
    "\n",
    "prep_b_lists_check = []\n",
    "\n",
    "for i in range(total_trials):\n",
    "    di = {}\n",
    "    for key in list(result.quasi_dists[i].binary_probabilities().keys()):\n",
    "        di.update({key[:num_qubits + check_id]: result.quasi_dists[i].binary_probabilities().get(key)})\n",
    "    prep_b_lists_check.append(di)\n",
    "\n",
    "\n",
    "prep_filtered_b_lists = []\n",
    "for i in range(total_trials):\n",
    "    bit_list = ['1' if i == '+1' else '0' for i in prepchecks_list[check_id-1][i][0][check_id - 1::-1]]\n",
    "#     print(bit_list)\n",
    "    prep_output_dist = rightchecks_postprocess(prep_b_lists_check[i], num_qubits, check_id, pr_list = prepchecks_list[check_id - 1][i][2])\n",
    "    prep_filted_dist = filter_results_reindex(prep_output_dist, num_qubits, [j for j in range(0, check_id)], bit_list)\n",
    "    print(i, total_counts(prep_filted_dist))\n",
    "    prep_filtered_b_lists.append(prep_filted_dist)\n",
    "prep_b_lists_filtered.append(prep_filtered_b_lists)"
   ]
  },
  {
   "cell_type": "code",
   "execution_count": null,
   "id": "a3278a41-c4d6-403b-88f4-57d257c6cb0b",
   "metadata": {},
   "outputs": [],
   "source": [
    "def compute_expectation_pcs(pcs_circ, observable):\n",
    "    "
   ]
  },
  {
   "cell_type": "code",
   "execution_count": 121,
   "id": "a66dddc9-88f6-4ff8-8684-d0e59131d12b",
   "metadata": {},
   "outputs": [],
   "source": [
    "def compute_expectation_pcs(pcs_circ: QuantumCircuit, num_qubits: int, num_checks: int, observable: str, backend=None, shots: int = 8192):\n",
    "    # Modify the circuit to measure the main qubits in the appropriate basis\n",
    "    measure_circ = pcs_circ.copy()\n",
    "    measure_circ.barrier()\n",
    "    for i, pauli in enumerate(observable[:num_qubits]):  # Make sure to apply measurement transformation only to main qubits\n",
    "        if pauli == 'X':\n",
    "            measure_circ.h(i)\n",
    "        elif pauli == 'Y':\n",
    "            measure_circ.sdg(i)\n",
    "            measure_circ.h(i)\n",
    "    # Measure all main qubits\n",
    "    measure_circ.measure(range(num_qubits), range(num_qubits))\n",
    "\n",
    "    # Execute the circuit\n",
    "    transpiled_circuit = transpile(measure_circ, backend=backend)\n",
    "    job = backend.run(transpiled_circuit, shots=shots)\n",
    "    result = job.result()\n",
    "    counts = result.get_counts()\n",
    "\n",
    "    # Post-select the results where ancilla qubits are all zero\n",
    "    filtered_counts = {state: count for state, count in counts.items() if state[-num_checks:] == '0' * num_checks}\n",
    "    total_counts = sum(filtered_counts.values())\n",
    "\n",
    "    # Calculate the expectation value of the observable for the post-selected states\n",
    "    if total_counts == 0:\n",
    "        return 0  # Avoid division by zero if no post-selected counts are available\n",
    "\n",
    "    expectation = 0\n",
    "    for outcome, count in filtered_counts.items():\n",
    "        # Only consider the states of the main qubits\n",
    "        main_qubit_state = outcome[:num_qubits]\n",
    "        # Convert binary outcome to +1 or -1 eigenvalues and compute weighted sum\n",
    "        eigenvalue = 1 if main_qubit_state.count('1') % 2 == 0 else -1\n",
    "        expectation += eigenvalue * count\n",
    "\n",
    "    return expectation / total_counts\n",
    "\n",
    "# Example usage\n",
    "# backend = Aer.get_backend('qasm_simulator')\n",
    "# pcs_circuit = QuantumCircuit(4, 2)  # Assume 4 main qubits and 2 ancilla for example\n",
    "# pcs_circuit.h(range(4))  # Some state preparation for the main qubits\n",
    "# pcs_circuit.cx(3, 4)  # Example of an error-checking operation using ancilla\n",
    "# pcs_circuit.cx(3, 5)\n",
    "# observable = 'ZZZZ'\n",
    "# expectation_value = compute_expectation_pcs(pcs_circuit, observable, backend)\n",
    "# print(f\"Expectation value: {expectation_value:.3f}\")\n"
   ]
  },
  {
   "cell_type": "code",
   "execution_count": null,
   "id": "4fc1eada-0731-4e01-a428-079b73cd227b",
   "metadata": {},
   "outputs": [],
   "source": []
  }
 ],
 "metadata": {
  "kernelspec": {
   "display_name": "Python [conda env:pcs]",
   "language": "python",
   "name": "conda-env-pcs-py"
  },
  "language_info": {
   "codemirror_mode": {
    "name": "ipython",
    "version": 3
   },
   "file_extension": ".py",
   "mimetype": "text/x-python",
   "name": "python",
   "nbconvert_exporter": "python",
   "pygments_lexer": "ipython3",
   "version": "3.12.7"
  }
 },
 "nbformat": 4,
 "nbformat_minor": 5
}
