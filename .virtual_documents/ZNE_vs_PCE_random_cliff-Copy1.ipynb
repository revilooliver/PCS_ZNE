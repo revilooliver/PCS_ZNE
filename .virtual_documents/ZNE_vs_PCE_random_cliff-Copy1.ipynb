





import numpy as np

from qiskit_ibm_runtime import QiskitRuntimeService
from qiskit_aer import AerSimulator
import qiskit_aer.noise as noise

from utils.pce_vs_zne_utils import *

from qiskit import *

from utils.pauli_checks import convert_to_PCS_circ # new util

from mitiq import zne

from utils.pce_vs_zne_utils import *

from qiskit_ibm_runtime.fake_provider import *
from qiskit_aer import AerSimulator

np.set_printoptions(precision=6, edgeitems=10, linewidth=150, suppress=True)





USE_REAL_HARDWARE = False


# Fake backend noise model
# fake_backend = FakeMelbourneV2()
# noise_model = noise.NoiseModel.from_backend(fake_backend)


# Custom nosie model
prob_1 = 1e-3 # 1-qubit gate
prob_2 = 1e-2  # 2-qubit gate

error_1 = noise.depolarizing_error(prob_1, 1)
error_2 = noise.depolarizing_error(prob_2, 2)

noise_model = noise.NoiseModel()
noise_model.add_all_qubit_quantum_error(error_1, ['u1', 'u2', 'u3', 'sx', 'x'])
noise_model.add_all_qubit_quantum_error(error_2, ['cx'])

# test set
# noise_model.add_all_qubit_quantum_error(error_1, ['z', 'y', 'x', 's', 'sdg', 'h'])
# noise_model.add_all_qubit_quantum_error(error_2, ['cx'])


service = QiskitRuntimeService()
print(service.instances())


if QiskitRuntimeService.saved_accounts() and USE_REAL_HARDWARE:
    service = QiskitRuntimeService()
    backend = service.least_busy(operational=True, simulator=False)
    noise_model = False
else:
    backend = AerSimulator(noise_model=noise_model, method="stabilizer")

print(backend)





# circuit parameters
num_qubits = 10
circuit_depth = 60
num_circs = 20

# observable we're estimating
pauli_string = 'Z' * num_qubits

# pce parameters
num_checks = num_qubits//2
print(f"num_checks = {num_checks}")
num_checks_to_fit = num_checks
extrap_checks = range(num_checks_to_fit + 1, num_qubits + 1)
only_Z_checks = True

# number of shots per check layer
shots_per_check = 10_000

# zne parameters
verbose = True


# cliff_circs = random_cliff_mirror_circs(num_qubits, num_circs)
cliff_circs = random_cliff_circs(num_qubits, circuit_depth, num_circs, pauli_string)
print(len(cliff_circs))
cliff_circs[-1].draw("mpl", fold=-1)


ideal_expectations = []
for circ in cliff_circs:
    ideal_expect = get_ideal_expectation(circ, pauli_string)
    ideal_expectations.append(ideal_expect)

print(ideal_expectations)


pcs_circs = [[] for _ in range(num_circs)]
signs_list = [[] for _ in range(num_circs)]

for i, circ in enumerate(cliff_circs):
    print("i =", i+1, "out of", num_circs)
    for check_id in range(1, num_checks + 1):
        print("check_id =", check_id)
        sign, pcs_circ = convert_to_PCS_circ(circ, num_qubits, check_id, only_Z_checks=only_Z_checks, barriers=True)
        pcs_circs[i].append(pcs_circ)
        signs_list[i].append(sign)

print(len(pcs_circs))
print(len(pcs_circs[0]))
# print(signs_list)

# pcs_circs[0][0].draw("mpl", fold=-1)





# Updated ZNE tests: sweeping over methods, scale factor sets, and folding techniques

# List of ZNE methods
# zne_methods_list = ["linear", "richardson"]
zne_methods_list = ["richardson"]

# List of scale factor sets to test
scale_factors_list = [
    # [1, 1.1, 1.2],
    [1, 3, 5],
    [1, 2, 3, 4, 5],
    # [1, 1.1, 1.2, 1.3, 1.4]
    # You can add additional scale factor sets here
]

# List of folding techniques (global and local)
# fold_methods_list = [zne.scaling.fold_global, zne.scaling.fold_gates_at_random]
fold_methods_list = [zne.scaling.fold_gates_at_random]

# Dictionary to store the averaged errors
zne_avg_errors = {}

# Iterate over each ZNE method, scale factors set, and fold method
for zne_m in zne_methods_list:
    for scale_factors in scale_factors_list:
        # Automatically skip tests if using Richardson with non-integer scale factors.
        if zne_m == "richardson" and not all(isinstance(sf, int) for sf in scale_factors):
            print(f"Skipping test for method: {zne_m}, scale factors: {scale_factors}"
                  "because partial folding (non-integer scale factors) is not supported with Richardson extrapolation.")
            continue

        for fold_method in fold_methods_list:
            print(f"Running ZNE tests with method: {zne_m}, scale factors: {scale_factors}, fold method: {fold_method.__name__}")
            zne_abs_errors = []

            zne_shots_per_circ = (shots_per_check * num_checks_to_fit) // len(scale_factors)
            print(f"ZNE shots per circuit: {zne_shots_per_circ}")

            # Run the circuits for the current combination
            for i, circ in enumerate(cliff_circs):
                zne_exp = mitigate_zne(
                    circ,
                    backend,
                    pauli_string,
                    shots = zne_shots_per_circ,
                    method=zne_m,
                    scale_factors=scale_factors,
                    fold_method=fold_method,
                )
                print(f"ZNE ({zne_m}, scale_factors={scale_factors}, fold_method={fold_method.__name__}) mitigated exp for {pauli_string}: {zne_exp}")
                print(f"Ideal expectation = {ideal_expectations[i]}")

                abs_error = np.abs(ideal_expectations[i] - zne_exp)
                zne_abs_errors.append(abs_error)

            avg_error = np.mean(zne_abs_errors)
            key = f"ZNE_{zne_m}_{'_'.join(str(s) for s in scale_factors)}_{fold_method.__name__}"
            zne_avg_errors[key] = avg_error
            print(f"Average absolute error for {key}: {avg_error:.5f}\n")

print("Final ZNE results:")
print(zne_avg_errors)


# List of extrapolation methods to test: linear and exponential
extrapolation_methods = ["linear", "exponential"]

# Dictionary to store the averaged errors for PCE
pce_avg_errors = {}

# Loop over each extrapolation method
for ext_method in extrapolation_methods:
    pce_abs_errors = []
    print(f"\nProcessing PCE with extrapolation method: {ext_method}\n")

    # Loop over each circuit
    for i, cliff_circ in enumerate(cliff_circs):
        print(f"Processing PCE for circuit {i+1} out of {num_circs}")
        expectation_values = []

        # Loop over each number of checks for the current circuit
        for j in range(num_checks):
            pcs_circ = pcs_circs[i][j]
            signs = signs_list[i][j]
            expectation_value = ibmq_executor_pcs(
                pcs_circ,
                backend=backend,
                pauli_string=pauli_string,
                num_qubits=num_qubits,
                signs=signs
            )
            expectation_values.append(expectation_value)

        print(f"Expectation values: {expectation_values}")

        # Extrapolate the expectation values using the current extrapolation method
        extrapolated_values, poly = extrapolate_checks(
            num_checks_to_fit,
            extrap_checks,
            expectation_values,
            method=ext_method
        )
        pce_exp = extrapolated_values[-1]

        print(f"PCE exp for {pauli_string} using {ext_method}: {pce_exp}")
        print(f"Ideal expectation = {ideal_expectations[i]}")

        abs_error = np.abs(ideal_expectations[i] - pce_exp)
        print(f"Absolute error = {abs_error}\n")
        pce_abs_errors.append(abs_error)

    # Compute average absolute error for the current extrapolation method
    pce_avg_error = np.mean(pce_abs_errors)
    key = f"PCE_{ext_method}"
    pce_avg_errors[key] = pce_avg_error
    print(f"Average absolute error for {key}: {pce_avg_error:.5f}\n")

print("Final PCE results:")
print(pce_avg_errors)


# Combine all errors in a single dictionary
avg_errors = zne_avg_errors.copy()
avg_errors.update(pce_avg_errors)

print(avg_errors)


circ_folder = "data_PCE_vs_ZNE/rand_cliffs"
file_name = f"avg_errors_n={num_qubits}_d={circuit_depth}_num_circs={num_circs}_num_samp={10_000}.csv"
save_avg_errors(circ_folder, file_name, avg_errors, overwrite=True)





# Set the directory and parameters to match your saved CSV file.
data_dir = "data_PCE_vs_ZNE/rand_cliffs"
num_circs = 20
# depth = 10
depth = circuit_depth
num_samples = 10_000

# Load the saved average errors.
data = load_avg_errors(data_dir, num_circs=num_circs, num_samples=num_samples, depth=depth)
print("Loaded data:")
print(data)

# Plot the data.
plot_save_path = os.path.join(data_dir, f"error_plot_num_circs={num_circs}_num_samps={num_samples}_d={depth}.png")
plot_avg_errors_by_qubit(data, num_samples=num_samples, num_circs=num_circs, depth=depth, save_path=plot_save_path)



