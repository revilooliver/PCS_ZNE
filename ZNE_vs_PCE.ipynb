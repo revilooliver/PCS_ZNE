{
 "cells": [
  {
   "cell_type": "markdown",
   "id": "e0ce0df0-ab0c-4542-a424-c7a5c35a7c54",
   "metadata": {},
   "source": [
    "Mitq tutorial: https://mitiq.readthedocs.io/en/stable/examples/ibmq-backends.html"
   ]
  },
  {
   "cell_type": "code",
   "execution_count": 168,
   "id": "2c5bab06-e04b-4dee-ab22-6aa89f4a095b",
   "metadata": {},
   "outputs": [],
   "source": [
    "import time, random\n",
    "import numpy as np\n",
    "# import pennylane as qml\n",
    "# from qiskit import Aer, transpile, execute\n",
    "from qiskit.circuit import QuantumCircuit\n",
    "from qiskit.quantum_info import random_clifford, Pauli, Statevector\n",
    "import matplotlib.pyplot as plt\n",
    "from copy import deepcopy\n",
    "\n",
    "np.set_printoptions(precision=6, edgeitems=10, linewidth=150, suppress=True)"
   ]
  },
  {
   "cell_type": "code",
   "execution_count": 105,
   "id": "5efe48b6-60b9-4736-be8a-d46e59092315",
   "metadata": {},
   "outputs": [],
   "source": [
    "import qiskit\n",
    "import itertools\n",
    "from qiskit import *\n",
    "from qiskit.quantum_info import Clifford, random_clifford\n",
    "from qiskit.synthesis import synth_clifford_full\n",
    "from qiskit.quantum_info import hellinger_fidelity as hf\n",
    "\n",
    "from utils.pauli_checks import ChecksFinder, add_pauli_checks, add_meas_pauli_checks, add_linear_meas_pauli_checks,  search_for_pauli_list\n",
    "from utils.pauli_checks import gen_initial_layout, gen_final_layout, complete_postprocess, filter_results\n",
    "\n",
    "from utils.pauli_checks import convert_to_PCS_circ # new util\n",
    "\n",
    "from utils.utils import norm_dict, total_counts\n",
    "# from utils.vqe_utils import evaluation"
   ]
  },
  {
   "cell_type": "code",
   "execution_count": 107,
   "id": "70acb353-c427-4283-9176-20de93275193",
   "metadata": {},
   "outputs": [],
   "source": [
    "from qiskit_ibm_runtime import QiskitRuntimeService\n",
    "from qiskit_aer import QasmSimulator\n",
    "\n",
    "from mitiq import zne\n",
    "from mitiq.interface.mitiq_qiskit.qiskit_utils import initialized_depolarizing_noise"
   ]
  },
  {
   "cell_type": "markdown",
   "id": "327318b6-e3d7-47b5-a3cf-90bb448db9ca",
   "metadata": {},
   "source": [
    "#### Backend settings"
   ]
  },
  {
   "cell_type": "code",
   "execution_count": 110,
   "id": "3958caf4-1244-43a3-9db8-dd8d90359f69",
   "metadata": {},
   "outputs": [],
   "source": [
    "USE_REAL_HARDWARE = False"
   ]
  },
  {
   "cell_type": "code",
   "execution_count": 112,
   "id": "1c88a86a-955e-473b-af03-7bfb1b688405",
   "metadata": {},
   "outputs": [],
   "source": [
    "from qiskit_ibm_runtime.fake_provider import *\n",
    "from qiskit_aer import AerSimulator\n",
    "import qiskit_aer.noise as noise\n",
    "from itertools import combinations\n",
    "\n",
    "# Make a noise model\n",
    "# fake_backend = FakeCairo()\n",
    "# noise_model = noise.NoiseModel.from_backend(fake_backend)\n",
    "\n",
    "prob_1 = 0.002  # 1-qubit gate\n",
    "prob_2 = 0.02  # 2-qubit gate\n",
    "\n",
    "error_1 = noise.depolarizing_error(prob_1, 1)\n",
    "error_2 = noise.depolarizing_error(prob_2, 2)\n",
    "\n",
    "noise_model = noise.NoiseModel()\n",
    "noise_model.add_all_qubit_quantum_error(error_1, ['u1', 'u2', 'u3', 'sx', 'x'])\n",
    "noise_model.add_all_qubit_quantum_error(error_2, ['cx'], ['cz'])"
   ]
  },
  {
   "cell_type": "code",
   "execution_count": 114,
   "id": "8e79eb0f-7149-46dd-9def-b5dcb94c90ad",
   "metadata": {},
   "outputs": [],
   "source": [
    "if QiskitRuntimeService.saved_accounts() and USE_REAL_HARDWARE:\n",
    "    service = QiskitRuntimeService()\n",
    "    backend = service.least_busy(operational=True, simulator=False)\n",
    "    noise_model = False\n",
    "else:\n",
    "    # Simulate the circuit with noise\n",
    "    backend = AerSimulator(noise_model=noise_model)"
   ]
  },
  {
   "cell_type": "markdown",
   "id": "e2dcef3a-dbcb-47c0-a196-9e1d45c2f25e",
   "metadata": {},
   "source": [
    "#### Generate circuit"
   ]
  },
  {
   "cell_type": "code",
   "execution_count": 117,
   "id": "52816bca-1681-43df-a721-85bdba2856ec",
   "metadata": {},
   "outputs": [],
   "source": [
    "# import supermarq\n",
    "\n",
    "# num_qubits = 4\n",
    "\n",
    "# qiskit_test = supermarq.benchmarks.mermin_bell.MerminBell(num_qubits)\n",
    "# # qiskit_test = supermarq.benchmarks.hamiltonian_simulation.HamiltonianSimulation(num_qubits, total_time=4)\n",
    "# circuit = qiskit_test.qiskit_circuit()\n",
    "\n",
    "# # # basis_gates = [\"x\",\"sx\",\"rz\",\"cx\",\"rx\"]\n",
    "# transpiled_circ = qiskit.transpile(qiskit_test.qiskit_circuit(), basis_gates = ['x', 'y', 'rz', 's', 'h', 'cx'])\n",
    "# circuit = transpiled_circ.copy()\n",
    "# circuit.remove_final_measurements()\n",
    "# circuit.draw(\"mpl\", fold=-1)"
   ]
  },
  {
   "cell_type": "code",
   "execution_count": 119,
   "id": "50f9803c-5ba9-4371-a992-5ff633023e9c",
   "metadata": {},
   "outputs": [],
   "source": [
    "# qreg, creg = qiskit.QuantumRegister(1), qiskit.ClassicalRegister(1)\n",
    "# # circuit = qiskit.QuantumCircuit(qreg, creg)\n",
    "# circuit = qiskit.QuantumCircuit(qreg)\n",
    "# for _ in range(10):\n",
    "#     circuit.x(qreg)\n",
    "# # circuit.measure(qreg, creg)\n",
    "# print(circuit)\n",
    "\n",
    "# num_qubits = 1"
   ]
  },
  {
   "cell_type": "code",
   "execution_count": 121,
   "id": "fcc16b01-cadf-40e5-a347-75cb877427dd",
   "metadata": {},
   "outputs": [],
   "source": [
    "# def hydrogen_trial_circuit(num_qubits):\n",
    "#     qc = QuantumCircuit(num_qubits)\n",
    "#     # prepare the Hartree-Fock state\n",
    "#     qc.x(0)\n",
    "#     qc.x(1)\n",
    "    \n",
    "#     qc.rx(np.pi/2, 0)\n",
    "#     qc.h(1)\n",
    "#     qc.h(2)\n",
    "#     qc.h(3)\n",
    "    \n",
    "#     qc.cx(0,1)\n",
    "#     qc.cx(1,2)\n",
    "#     qc.cx(2,3)\n",
    "    \n",
    "#     # qc.rz(1.0, 3)\n",
    "    \n",
    "#     qc.cx(2,3)\n",
    "#     qc.cx(1,2)\n",
    "#     qc.cx(0,1)\n",
    "    \n",
    "#     qc.rx(-np.pi/2, 0)\n",
    "#     qc.h(1)\n",
    "#     qc.h(2)\n",
    "#     qc.h(3)\n",
    "    \n",
    "#     return qc\n",
    "\n",
    "# num_qubits = 4\n",
    "# circuit = hydrogen_trial_circuit(num_qubits)\n",
    "# # circuit.measure_all()\n",
    "# print(circuit)"
   ]
  },
  {
   "cell_type": "code",
   "execution_count": 123,
   "id": "4d0191bf-1474-4c18-b43a-f983988b5fd8",
   "metadata": {},
   "outputs": [
    {
     "name": "stdout",
     "output_type": "stream",
     "text": [
      "     ┌───┐                              ┌───┐\n",
      "q_0: ┤ H ├──■────■────■────■────■────■──┤ H ├\n",
      "     └───┘┌─┴─┐  │    │    │    │  ┌─┴─┐└───┘\n",
      "q_1: ─────┤ X ├──┼────┼────┼────┼──┤ X ├─────\n",
      "          └───┘┌─┴─┐  │    │  ┌─┴─┐└───┘     \n",
      "q_2: ──────────┤ X ├──┼────┼──┤ X ├──────────\n",
      "               └───┘┌─┴─┐┌─┴─┐└───┘          \n",
      "q_3: ───────────────┤ X ├┤ X ├───────────────\n",
      "                    └───┘└───┘               \n"
     ]
    }
   ],
   "source": [
    "def ghz_mirror_circuit(num_qubits):\n",
    "    qc = QuantumCircuit(num_qubits)\n",
    "\n",
    "    # p = 4\n",
    "    p = 1\n",
    "    for _ in range(p):\n",
    "        qc.h(0)\n",
    "        for i in range(1, num_qubits):\n",
    "            qc.cx(0, i)\n",
    "        for i in range(num_qubits-1, 0, -1):\n",
    "            qc.cx(0, i)\n",
    "        qc.h(0)\n",
    "        # for i in range(num_qubits):\n",
    "        #     qc.x(i)\n",
    "        #     qc.x(i)\n",
    "        #     qc.x(i)\n",
    "        #     qc.x(i)\n",
    "    \n",
    "    # qc.h(0)\n",
    "    # for i in range(1, num_qubits):\n",
    "    #     qc.cx(0, i)\n",
    "    # for i in range(num_qubits-1, 0, -1):\n",
    "    #     qc.cx(0, i)\n",
    "    # qc.h(0)\n",
    "\n",
    "    # for i in range(num_qubits):\n",
    "    #     qc.x(i)\n",
    "    #     qc.x(i)\n",
    "    #     qc.x(i)\n",
    "    #     qc.x(i)\n",
    "\n",
    "    # for i in range(num_qubits):\n",
    "    #     qc.x(i)\n",
    "    #     qc.x(i)\n",
    "    #     qc.x(i)\n",
    "    #     qc.x(i)\n",
    "\n",
    "    return qc\n",
    "\n",
    "\n",
    "\n",
    "num_qubits = 4\n",
    "circuit = ghz_mirror_circuit(num_qubits)\n",
    "print(circuit)"
   ]
  },
  {
   "cell_type": "markdown",
   "id": "b9fd1449-9dd9-48af-801e-8389ab295e10",
   "metadata": {},
   "source": [
    "#### Set observable(s)"
   ]
  },
  {
   "cell_type": "code",
   "execution_count": 126,
   "id": "a55b1832-5666-4f36-9ab1-3f324c29c85f",
   "metadata": {},
   "outputs": [],
   "source": [
    "pauli_string = 'Z'*num_qubits\n",
    "# pauli_string = 'X'*num_qubits\n",
    "# pauli_string = 'IIII'"
   ]
  },
  {
   "cell_type": "markdown",
   "id": "d0422edb-d37a-42bb-8abf-4f33298d0537",
   "metadata": {},
   "source": [
    "#### Ideal result"
   ]
  },
  {
   "cell_type": "code",
   "execution_count": 129,
   "id": "904b2107-e72a-4bb0-ac64-d47481c953ad",
   "metadata": {},
   "outputs": [
    {
     "name": "stdout",
     "output_type": "stream",
     "text": [
      "(0.9999999999999996+0j)\n"
     ]
    }
   ],
   "source": [
    "psi = Statevector(circuit)\n",
    "operator = Pauli(pauli_string)\n",
    "expect = np.array(psi).T.conj() @ operator.to_matrix() @ np.array(psi)\n",
    "print(expect)"
   ]
  },
  {
   "cell_type": "markdown",
   "id": "4845836b-7afd-4fbc-8093-64d0af29264c",
   "metadata": {},
   "source": [
    "#### Run ZNE"
   ]
  },
  {
   "cell_type": "code",
   "execution_count": 132,
   "id": "3b72d3dc-2cad-4563-ad13-0e6edd315577",
   "metadata": {},
   "outputs": [],
   "source": [
    "def apply_measurement_basis(circuit, pauli_string):\n",
    "    \"\"\"Modify the circuit to measure in the basis specified by the Pauli string.\"\"\"\n",
    "    for i, pauli in enumerate(pauli_string):\n",
    "        if pauli == 'X':\n",
    "            circuit.h(i)\n",
    "        elif pauli == 'Y':\n",
    "            circuit.sdg(i)\n",
    "            circuit.h(i)\n",
    "\n",
    "def compute_expectation_value(counts, pauli_string):\n",
    "    \"\"\"Compute expectation value of a Pauli string observable from measurement counts.\"\"\"\n",
    "    total_shots = sum(counts.values())\n",
    "    expectation = 0\n",
    "\n",
    "    for bitstring, count in counts.items():\n",
    "        # Reverse bitstring if needed to match Qiskit's little-endian convention\n",
    "        bitstring = bitstring[::-1]\n",
    "        value = 1\n",
    "\n",
    "        for i, pauli in enumerate(pauli_string):\n",
    "            if pauli == 'I':\n",
    "                continue\n",
    "            elif pauli == 'Z' or pauli == 'X' or pauli == 'Y':\n",
    "                # X and Y are already rotated to Z basis, so interpret as Z\n",
    "                value *= 1 if bitstring[i] == '0' else -1\n",
    "            else:\n",
    "                raise ValueError(f\"Invalid Pauli operator: {pauli}\")\n",
    "\n",
    "        expectation += value * count\n",
    "\n",
    "    return expectation / total_shots\n",
    "\n",
    "\n",
    "# def ibmq_executor(circuit: QuantumCircuit, shots: int = 10_000):\n",
    "def ibmq_executor(circuit: QuantumCircuit, pauli_string: str, shots: int = 10_000):\n",
    "    \"\"\"Returns the expectation value of the Pauli string observable.\n",
    "\n",
    "    Args:\n",
    "        circuit: Circuit to run.\n",
    "        pauli_string: String representing the Pauli operators to be measured (e.g., 'XYZI').\n",
    "        shots: Number of times to execute the circuit.\n",
    "        backend: Simulator or real quantum device to execute the circuit.\n",
    "    \"\"\"\n",
    "    # Modify the circuit to measure the required Pauli observables\n",
    "    measurement_circuit = circuit.copy()\n",
    "    measurement_circuit.barrier()\n",
    "    apply_measurement_basis(measurement_circuit, pauli_string)\n",
    "    measurement_circuit.measure_all()\n",
    "    # print(measurement_circuit)\n",
    "\n",
    "    # Transpile for the backend\n",
    "    exec_circuit = transpile(\n",
    "        measurement_circuit,\n",
    "        backend=backend,\n",
    "        optimization_level=0 # Preserve gate structure for simulation accuracy.\n",
    "    )\n",
    "\n",
    "    # print(\"transpiled circuit\")\n",
    "    # print(exec_circuit)\n",
    "\n",
    "    # Run the circuit\n",
    "    job = backend.run(exec_circuit, shots=shots)\n",
    "    counts = job.result().get_counts()\n",
    "\n",
    "    # Compute the expectation value based on counts\n",
    "    # expectation_value = sum((-1 if (bin(int(state, 16)).count('1') % 2) else 1) * count for state, count in counts.items()) / shots\n",
    "    expectation_value = compute_expectation_value(counts, pauli_string)\n",
    "    return expectation_value\n",
    "    "
   ]
  },
  {
   "cell_type": "code",
   "execution_count": 134,
   "id": "92a68e11-b1fc-4102-92d4-65ffe4c0b33d",
   "metadata": {},
   "outputs": [],
   "source": [
    "unmitigated = ibmq_executor(circuit, pauli_string)"
   ]
  },
  {
   "cell_type": "code",
   "execution_count": 136,
   "id": "93d14d88-2afc-4dff-9d09-69defc6666d6",
   "metadata": {},
   "outputs": [],
   "source": [
    "from functools import partial\n",
    "\n",
    "zne_executor = partial(ibmq_executor, pauli_string=pauli_string)\n",
    "mitigated = zne.execute_with_zne(circuit, zne_executor)"
   ]
  },
  {
   "cell_type": "code",
   "execution_count": 138,
   "id": "a2829f96-c922-402c-a9f8-9cf36d2b51d0",
   "metadata": {
    "scrolled": true
   },
   "outputs": [
    {
     "name": "stdout",
     "output_type": "stream",
     "text": [
      "Unmitigated result 0.873\n",
      "Mitigated result 1.012\n"
     ]
    }
   ],
   "source": [
    "print(f\"Unmitigated result {unmitigated:.3f}\")\n",
    "print(f\"Mitigated result {mitigated:.3f}\")"
   ]
  },
  {
   "cell_type": "markdown",
   "id": "5196e3cf-a73e-4704-9a15-090451359ab0",
   "metadata": {},
   "source": [
    "#### Run PCE"
   ]
  },
  {
   "cell_type": "code",
   "execution_count": 141,
   "id": "c5d32dbf-2ae8-4300-91d6-65db8b3f3302",
   "metadata": {},
   "outputs": [
    {
     "name": "stdout",
     "output_type": "stream",
     "text": [
      "1\n",
      "Found check 1: +1IIIX, +1IIIX\n",
      "Required number of checks found.\n",
      "p1_list =  [['+1IIIX', '+1IIIX']]\n",
      "2\n",
      "Found check 1: +1IIIX, +1IIIX\n",
      "Found check 2: +1IIIZ, +1IIIZ\n",
      "Required number of checks found.\n",
      "p1_list =  [['+1IIIX', '+1IIIX'], ['+1IIIZ', '+1IIIZ']]\n",
      "3\n",
      "Found check 1: +1IIIX, +1IIIX\n",
      "Found check 2: +1IIIZ, +1IIIZ\n",
      "Found check 3: +1IIXI, +1IIXI\n",
      "Required number of checks found.\n",
      "p1_list =  [['+1IIIX', '+1IIIX'], ['+1IIIZ', '+1IIIZ'], ['+1IIXI', '+1IIXI']]\n",
      "4\n",
      "Found check 1: +1IIIX, +1IIIX\n",
      "Found check 2: +1IIIZ, +1IIIZ\n",
      "Found check 3: +1IIXI, +1IIXI\n",
      "Found check 4: +1IIZI, +1IIZI\n",
      "Required number of checks found.\n",
      "p1_list =  [['+1IIIX', '+1IIIX'], ['+1IIIZ', '+1IIIZ'], ['+1IIXI', '+1IIXI'], ['+1IIZI', '+1IIZI']]\n",
      "[['+1'], ['+1', '+1'], ['+1', '+1', '+1'], ['+1', '+1', '+1', '+1']]\n"
     ]
    }
   ],
   "source": [
    "# num_checks = 2*num_qubits\n",
    "num_checks = num_qubits\n",
    "\n",
    "circs_list = []\n",
    "signs_list = []\n",
    "for check_id in range(1, num_checks + 1):\n",
    "    print(check_id)\n",
    "    sign, circ = convert_to_PCS_circ(circuit, num_qubits, check_id)\n",
    "    circs_list.append(circ)\n",
    "    signs_list.append(sign)\n",
    "\n",
    "print(signs_list)"
   ]
  },
  {
   "cell_type": "code",
   "execution_count": 143,
   "id": "3dbf1458-2211-4f97-bf56-07b1f852a6e9",
   "metadata": {},
   "outputs": [
    {
     "data": {
      "image/png": "[encoded data removed]",
      "text/plain": [
       "<Figure size 1625.27x702.333 with 1 Axes>"
      ]
     },
     "execution_count": 143,
     "metadata": {},
     "output_type": "execute_result"
    }
   ],
   "source": [
    "circs_list[-1].draw(\"mpl\", fold=-1)"
   ]
  },
  {
   "cell_type": "markdown",
   "id": "a9f6e854-f25e-4f27-99de-d76f7e242e87",
   "metadata": {},
   "source": [
    "#### Compute Expectation"
   ]
  },
  {
   "cell_type": "code",
   "execution_count": 159,
   "id": "29c687b5-20f4-44f3-a12a-7c615b476e71",
   "metadata": {},
   "outputs": [],
   "source": [
    "# def filter_counts(counts, num_checks):\n",
    "#     filtered_counts = {}\n",
    "#     for state, count in counts.items():\n",
    "#         if all(bit == '0' for bit in state[:num_checks]):\n",
    "#             remaining_state = state[num_checks:]\n",
    "#             if remaining_state in filtered_counts:\n",
    "#                 filtered_counts[remaining_state] += count\n",
    "#             else:\n",
    "#                 filtered_counts[remaining_state] = count\n",
    "\n",
    "#     return filtered_counts\n",
    "\n",
    "def filter_counts(no_checks, sign_list_in, in_counts):\n",
    "    \"\"\"\n",
    "    Adjusts for minus signs.\n",
    "    \"\"\"\n",
    "    sign_list = deepcopy(sign_list_in)\n",
    "    sign_list.reverse()\n",
    "    err_free_checks = \"\"\n",
    "    for i in sign_list:\n",
    "        if i == \"+1\":\n",
    "            err_free_checks += \"0\"\n",
    "        else:\n",
    "            err_free_checks += \"1\"\n",
    "            \n",
    "    out_counts = {}\n",
    "    for key in in_counts.keys():\n",
    "        if err_free_checks == key[:no_checks]:\n",
    "            new_key = key[no_checks:]\n",
    "            out_counts[new_key] = in_counts[key]\n",
    "    return out_counts\n",
    "\n",
    "def ibmq_executor_pcs(circuit: QuantumCircuit, pauli_string: str, num_qubits, shots: int = 10_000, signs = None):\n",
    "    \"\"\"Returns the expectation value of the Pauli string observable.\n",
    "\n",
    "    Args:\n",
    "        circuit: Circuit to run.\n",
    "        shots: Number of times to execute the circuit.\n",
    "        backend: Simulator or real quantum device to execute the circuit.\n",
    "    \"\"\"\n",
    "    # Modify the circuit to measure the required Pauli observables\n",
    "    measurement_circuit = circuit.copy()\n",
    "    apply_measurement_basis(measurement_circuit, pauli_string)\n",
    "    measurement_circuit.measure_all()\n",
    "    # print(measurement_circuit)\n",
    "\n",
    "    # Transpile for the backend\n",
    "    exec_circuit = transpile(\n",
    "        measurement_circuit,\n",
    "        backend=backend,\n",
    "        optimization_level=0,  # Preserve gate structure for simulation accuracy.\n",
    "    )\n",
    "\n",
    "    # print(\"transpiled circuit\")\n",
    "    # print(exec_circuit)\n",
    "\n",
    "    # Run the circuit\n",
    "    job = backend.run(exec_circuit, shots=shots)\n",
    "    # print(job.result().quasi_dists)\n",
    "\n",
    "    \n",
    "    counts = job.result().get_counts()\n",
    "    # print(\"counts: \", counts)\n",
    "    # print()\n",
    "\n",
    "    # Filter counts based on check data\n",
    "    total_qubits = circuit.num_qubits\n",
    "    num_checks = total_qubits - num_qubits\n",
    "    # filtered_counts = filter_counts(counts, num_checks)\n",
    "    filtered_counts = filter_counts(num_checks, signs, counts)\n",
    "    # print(\"filtered_counts: \", filtered_counts)\n",
    "\n",
    "    # Compute the expectation value based on filtered counts\n",
    "    expectation_value = compute_expectation_value(filtered_counts, pauli_string)\n",
    "    return expectation_value"
   ]
  },
  {
   "cell_type": "code",
   "execution_count": 161,
   "id": "48b3e0cd-e066-46d6-adcf-a9982b6eda5d",
   "metadata": {},
   "outputs": [],
   "source": [
    "# ibmq_executor_pcs(circ, num_qubits)"
   ]
  },
  {
   "cell_type": "code",
   "execution_count": 163,
   "id": "d5ec8c70-7972-4644-b6e8-6e0c8f027c3a",
   "metadata": {},
   "outputs": [],
   "source": [
    "# ibmq_executor_pcs(circs_list[0], num_qubits)"
   ]
  },
  {
   "cell_type": "markdown",
   "id": "199b828c-905b-4d2d-867f-2c42e6114adc",
   "metadata": {},
   "source": [
    "#### Run PCS for each # of checks"
   ]
  },
  {
   "cell_type": "code",
   "execution_count": 174,
   "id": "73783cf0-3914-4d11-9d1d-ae1aeb776014",
   "metadata": {
    "scrolled": true
   },
   "outputs": [
    {
     "name": "stdout",
     "output_type": "stream",
     "text": [
      "0\n",
      "1\n",
      "2\n",
      "3\n"
     ]
    }
   ],
   "source": [
    "expectation_values = []\n",
    "for i in range(num_checks):\n",
    "    print(i)\n",
    "    pcs_circ = circs_list[i]\n",
    "    signs = signs_list[i]\n",
    "    expectation_value = ibmq_executor_pcs(pcs_circ, pauli_string, num_qubits = num_qubits, signs=signs)\n",
    "    expectation_values.append(expectation_value)"
   ]
  },
  {
   "cell_type": "code",
   "execution_count": 176,
   "id": "6fc72bea-4490-412e-890c-ad6dca6ca5ae",
   "metadata": {},
   "outputs": [
    {
     "name": "stdout",
     "output_type": "stream",
     "text": [
      "[0.9220497231570948, 0.9429363520850179, 0.9329275569877074, 0.9251323728604851]\n"
     ]
    }
   ],
   "source": [
    "print(expectation_values)"
   ]
  },
  {
   "cell_type": "markdown",
   "id": "2208c65c-b3b9-48e5-964b-81b99d13b294",
   "metadata": {},
   "source": [
    "#### Extrapolate checks"
   ]
  },
  {
   "cell_type": "code",
   "execution_count": 179,
   "id": "26181b71-dff6-4a3a-8ae1-73d7b0963c19",
   "metadata": {},
   "outputs": [
    {
     "data": {
      "image/png": "[encoded data removed]",
      "text/plain": [
       "<Figure size 800x500 with 1 Axes>"
      ]
     },
     "metadata": {},
     "output_type": "display_data"
    },
    {
     "name": "stdout",
     "output_type": "stream",
     "text": [
      "Extrapolated expectation value at check number 5: 0.9306\n",
      "Extrapolated expectation value at check number 6: 0.9305\n",
      "Extrapolated expectation value at check number 7: 0.9304\n",
      "Extrapolated expectation value at check number 8: 0.9303\n"
     ]
    }
   ],
   "source": [
    "import numpy as np\n",
    "import matplotlib.pyplot as plt\n",
    "\n",
    "num_checks_to_fit = num_checks\n",
    "check_numbers = range(1, num_checks_to_fit+1)\n",
    "\n",
    "# extrapolation_layers = range(num_checks_to_fit+1, 2*num_checks_to_fit+1)\n",
    "extrapolation_layers = range(num_checks_to_fit+1, 2*num_qubits+1) # extraplate to 2n\n",
    "\n",
    "# Fit a polynomial of degree 1 (linear fit) to the check_numbers and expectation_values\n",
    "polynomial_coefficients = np.polyfit(check_numbers, expectation_values[:num_checks_to_fit], 1)\n",
    "polynomial = np.poly1d(polynomial_coefficients)\n",
    "\n",
    "extrapolated_values = polynomial(list(extrapolation_layers))\n",
    "\n",
    "x_values = np.linspace(min(check_numbers), max(extrapolation_layers), 400)\n",
    "y_values = polynomial(x_values)\n",
    "\n",
    "# Plotting\n",
    "plt.figure(figsize=(8, 5))\n",
    "plt.scatter(check_numbers, expectation_values[:num_checks_to_fit], color='blue', label='Actual Data')\n",
    "plt.plot(x_values, y_values, 'r--', label='Polynomial Fit')\n",
    "plt.scatter(list(extrapolation_layers), extrapolated_values, color='green', label='Extrapolated Values')\n",
    "plt.xlabel('Number of Checks')\n",
    "plt.ylabel('Expectation Value')\n",
    "plt.legend()\n",
    "plt.grid(True)\n",
    "plt.show()\n",
    "\n",
    "for layer, value in zip(extrapolation_layers, extrapolated_values):\n",
    "    print(f\"Extrapolated expectation value at check number {layer}: {value:.4f}\")"
   ]
  },
  {
   "cell_type": "code",
   "execution_count": 181,
   "id": "311f1a10-d64a-446f-a262-d2dbe6c183ca",
   "metadata": {},
   "outputs": [
    {
     "name": "stdout",
     "output_type": "stream",
     "text": [
      "ZNE result 1.012\n"
     ]
    }
   ],
   "source": [
    "print(f\"ZNE result {mitigated:.3f}\")"
   ]
  },
  {
   "cell_type": "markdown",
   "id": "4d014b5b-47aa-4ef5-a6a0-265b85b23c6e",
   "metadata": {},
   "source": [
    "# Tests"
   ]
  },
  {
   "cell_type": "code",
   "execution_count": 184,
   "id": "4fd5e3c6-c327-4433-805a-ea1d853d75c2",
   "metadata": {},
   "outputs": [],
   "source": [
    "import random\n",
    "\n",
    "# def generate_random_pauli_strings(num_qubits, num_observables):\n",
    "#     paulis = ['I', 'X', 'Y', 'Z']\n",
    "#     return [\n",
    "#         ''.join(random.choice(paulis) for _ in range(num_qubits))\n",
    "#         for _ in range(num_observables)\n",
    "#     \n",
    "\n",
    "def generate_random_pauli_strings(num_qubits, num_observables):\n",
    "    paulis = ['I', 'X', 'Y', 'Z']\n",
    "    unique_strings = set()\n",
    "\n",
    "    while len(unique_strings) < num_observables:\n",
    "        pauli_string = ''.join(random.choice(paulis) for _ in range(num_qubits))\n",
    "        unique_strings.add(pauli_string)\n",
    "\n",
    "    return list(unique_strings)\n"
   ]
  },
  {
   "cell_type": "code",
   "execution_count": 186,
   "id": "36ca0786-a529-4f64-976d-02f973c7f30f",
   "metadata": {},
   "outputs": [],
   "source": [
    "num_observables = 10\n",
    "pauli_strings = generate_random_pauli_strings(num_qubits, num_observables)"
   ]
  },
  {
   "cell_type": "code",
   "execution_count": 188,
   "id": "214b4f11-5449-4bbc-85f9-8c528712e7a3",
   "metadata": {},
   "outputs": [],
   "source": [
    "psi = Statevector(circuit)\n",
    "\n",
    "ideal_expectations = []\n",
    "for string in pauli_strings:\n",
    "    operator = Pauli(string)\n",
    "    expect = np.array(psi).T.conj() @ operator.to_matrix() @ np.array(psi)\n",
    "    # print(\"expecation for \", string, \": \", expect)\n",
    "    ideal_expectations.append(expect)"
   ]
  },
  {
   "cell_type": "code",
   "execution_count": 190,
   "id": "669a860e-9094-4f7c-b1f1-757b20236b1c",
   "metadata": {},
   "outputs": [
    {
     "name": "stdout",
     "output_type": "stream",
     "text": [
      "Average absolute error for ZNE: 0.03672\n"
     ]
    }
   ],
   "source": [
    "zne_abs_errors = []\n",
    "for i, pauli_string in enumerate(pauli_strings):\n",
    "    # unmitigated = ibmq_executor(circuit)\n",
    "    zne_executor = partial(ibmq_executor, pauli_string=pauli_string)\n",
    "    zne_exp = zne.execute_with_zne(circuit, zne_executor)\n",
    "    # print(\"zne mitigated exp for \", string, \": \", zne_exp)\n",
    "    # print(\"ideal expectation = \", ideal_expectations[i])\n",
    "    abs_error = np.abs(ideal_expectations[i] - zne_exp)\n",
    "    zne_abs_errors.append(abs_error)\n",
    "zne_avg_error = np.mean(zne_abs_errors)\n",
    "print(f\"Average absolute error for ZNE: {zne_avg_error:.5f}\")"
   ]
  },
  {
   "cell_type": "code",
   "execution_count": 199,
   "id": "4807968b-6a91-449f-b572-3a680c9595b8",
   "metadata": {},
   "outputs": [
    {
     "name": "stdout",
     "output_type": "stream",
     "text": [
      "i = 0 out of 10\n",
      "i = 1 out of 10\n",
      "i = 2 out of 10\n",
      "i = 3 out of 10\n",
      "i = 4 out of 10\n",
      "i = 5 out of 10\n",
      "i = 6 out of 10\n",
      "i = 7 out of 10\n",
      "i = 8 out of 10\n",
      "i = 9 out of 10\n",
      "Average absolute error for PCE: 0.02106\n"
     ]
    }
   ],
   "source": [
    "pce_abs_errors = []\n",
    "for i, pauli_string in enumerate(pauli_strings):\n",
    "    print(\"i =\", i, \"out of\", num_observables)\n",
    "    # Compute expectation for each number of layers\n",
    "    expectation_values = []\n",
    "    for j in range(num_checks):\n",
    "        # print(j)\n",
    "        pcs_circ = circs_list[j]\n",
    "        signs = signs_list[j]\n",
    "        expectation_value = ibmq_executor_pcs(pcs_circ, pauli_string, num_qubits = num_qubits, signs=signs)\n",
    "        expectation_values.append(expectation_value)\n",
    "\n",
    "    # Compute exptrapolated expectation\n",
    "    check_numbers = list(range(1, num_checks + 1))\n",
    "    polynomial_coefficients = np.polyfit(check_numbers, expectation_values, 1)\n",
    "    polynomial = np.poly1d(polynomial_coefficients)\n",
    "    target_checks = 2 * num_qubits # Extrapolate to a specific target number of checks (e.g., 2n)\n",
    "    pce_exp = polynomial(target_checks)\n",
    "\n",
    "    # print(\"pce exp for \", string, \": \", pce_exp)\n",
    "    # print(\"ideal expectation = \", ideal_expectations[i])\n",
    "    abs_error = np.abs(ideal_expectations[i] - pce_exp)\n",
    "    pce_abs_errors.append(abs_error)\n",
    "\n",
    "pce_avg_error = np.mean(pce_abs_errors)\n",
    "print(f\"Average absolute error for PCE: {pce_avg_error:.5f}\")"
   ]
  },
  {
   "cell_type": "code",
   "execution_count": 201,
   "id": "091a9318-1e4d-4948-9acb-18ee2b2e64b3",
   "metadata": {},
   "outputs": [
    {
     "name": "stdout",
     "output_type": "stream",
     "text": [
      "Average absolute error for ZNE: 0.03672\n",
      "Average absolute error for PCE: 0.02106\n"
     ]
    }
   ],
   "source": [
    "print(f\"Average absolute error for ZNE: {zne_avg_error:.5f}\")\n",
    "print(f\"Average absolute error for PCE: {pce_avg_error:.5f}\")"
   ]
  },
  {
   "cell_type": "code",
   "execution_count": 203,
   "id": "9c120988-6e80-47d5-ada3-bbc6978f31f6",
   "metadata": {},
   "outputs": [],
   "source": [
    "import os\n",
    "\n",
    "os.makedirs(\"data_PCE_vs_ZNE\", exist_ok=True)\n",
    "\n",
    "import csv\n",
    "\n",
    "def save_avg_errors(filename, zne_avg_error, pcs_avg_error):\n",
    "    filepath = os.path.join(\"data_PCE_vs_ZNE\", filename)\n",
    "    with open(filepath, mode='w', newline='') as file:\n",
    "        writer = csv.writer(file)\n",
    "        writer.writerow([\"Method\", \"Average Absolute Error\"])\n",
    "        writer.writerow([\"ZNE\", zne_avg_error])\n",
    "        writer.writerow([\"PCE\", pce_avg_error])\n",
    "\n",
    "file_name = f\"avg_errors_num_obs={num_observables}_num_samp={10_000}.csv\"\n",
    "# save_avg_errors(file_name, zne_avg_error, pce_avg_error)"
   ]
  },
  {
   "cell_type": "code",
   "execution_count": null,
   "id": "6443e45b-9339-4bca-bb88-f222c4918e16",
   "metadata": {},
   "outputs": [],
   "source": []
  }
 ],
 "metadata": {
  "kernelspec": {
   "display_name": "Python [conda env:pcs]",
   "language": "python",
   "name": "conda-env-pcs-py"
  },
  "language_info": {
   "codemirror_mode": {
    "name": "ipython",
    "version": 3
   },
   "file_extension": ".py",
   "mimetype": "text/x-python",
   "name": "python",
   "nbconvert_exporter": "python",
   "pygments_lexer": "ipython3",
   "version": "3.12.7"
  }
 },
 "nbformat": 4,
 "nbformat_minor": 5
}
