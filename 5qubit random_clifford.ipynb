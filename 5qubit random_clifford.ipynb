{
 "cells": [
  {
   "cell_type": "code",
   "execution_count": 1,
   "id": "c34d9d71",
   "metadata": {},
   "outputs": [],
   "source": [
    "import qiskit\n",
    "import itertools"
   ]
  },
  {
   "cell_type": "code",
   "execution_count": 2,
   "id": "abccb4a8",
   "metadata": {},
   "outputs": [],
   "source": [
    "from qiskit import *\n",
    "from qiskit.quantum_info import Clifford, random_clifford\n",
    "from qiskit.synthesis import synth_clifford_full\n",
    "from qiskit.quantum_info import hellinger_fidelity as hf"
   ]
  },
  {
   "cell_type": "code",
   "execution_count": 3,
   "id": "6804ff37",
   "metadata": {},
   "outputs": [],
   "source": [
    "from pauli_checks import ChecksFinder, add_pauli_checks, add_meas_pauli_checks, add_linear_meas_pauli_checks,  search_for_pauli_list\n",
    "from pauli_checks import gen_initial_layout, gen_final_layout, complete_postprocess, filter_results\n",
    "\n",
    "from utils.utils import norm_dict, total_counts\n",
    "from utils.vqe_utils import evaluation"
   ]
  },
  {
   "cell_type": "code",
   "execution_count": 4,
   "id": "645d6cf2",
   "metadata": {},
   "outputs": [],
   "source": [
    "#creating a 5 qubit random clifford circuit\n",
    "qubits = 5\n",
    "total_shots = 100000"
   ]
  },
  {
   "cell_type": "code",
   "execution_count": 5,
   "id": "fe8c2739",
   "metadata": {},
   "outputs": [],
   "source": [
    "rdm_clifford = random_clifford(qubits, seed = 10)"
   ]
  },
  {
   "cell_type": "code",
   "execution_count": 6,
   "id": "2a7dd6df",
   "metadata": {},
   "outputs": [],
   "source": [
    "clif_qc = synth_clifford_full(rdm_clifford)"
   ]
  },
  {
   "cell_type": "code",
   "execution_count": 7,
   "id": "d4971278",
   "metadata": {},
   "outputs": [
    {
     "data": {
      "image/png": "[encoded data removed]",
      "text/plain": [
       "<Figure size 929.397x325.08 with 1 Axes>"
      ]
     },
     "execution_count": 7,
     "metadata": {},
     "output_type": "execute_result"
    }
   ],
   "source": [
    "clif_qc.draw(\"mpl\")"
   ]
  },
  {
   "cell_type": "code",
   "execution_count": 8,
   "id": "95d815d2",
   "metadata": {},
   "outputs": [],
   "source": [
    "characters = ['I', 'Z']\n",
    "strings = [''.join(p) for p in itertools.product(characters, repeat=qubits)]"
   ]
  },
  {
   "cell_type": "code",
   "execution_count": 9,
   "id": "fae634c1",
   "metadata": {},
   "outputs": [],
   "source": [
    "test_finder = ChecksFinder(qubits, clif_qc)"
   ]
  },
  {
   "cell_type": "code",
   "execution_count": 10,
   "id": "8184665e",
   "metadata": {},
   "outputs": [],
   "source": [
    "p1_list = []\n",
    "for string in strings:\n",
    "    string_list = list(string)\n",
    "    result = test_finder.find_checks_sym(pauli_group_elem = string_list)\n",
    "    #print(result.p1_str, result.p2_str)\n",
    "    p1_list.append([result.p1_str, result.p2_str])"
   ]
  },
  {
   "cell_type": "code",
   "execution_count": 11,
   "id": "76298768",
   "metadata": {},
   "outputs": [],
   "source": [
    "sorted_list = sorted(p1_list, key=lambda s: s[1].count('I'))"
   ]
  },
  {
   "cell_type": "code",
   "execution_count": 12,
   "id": "393926fc",
   "metadata": {},
   "outputs": [
    {
     "data": {
      "text/plain": [
       "32"
      ]
     },
     "execution_count": 12,
     "metadata": {},
     "output_type": "execute_result"
    }
   ],
   "source": [
    "len(sorted_list)"
   ]
  },
  {
   "cell_type": "code",
   "execution_count": 13,
   "id": "468e872e",
   "metadata": {},
   "outputs": [],
   "source": [
    "#first find the smallest I count, "
   ]
  },
  {
   "cell_type": "code",
   "execution_count": 14,
   "id": "8ae50480",
   "metadata": {},
   "outputs": [
    {
     "data": {
      "text/plain": [
       "[['+1IZYIY', '+1IIIIZ'],\n",
       " ['+1ZZIII', '+1IIIZI'],\n",
       " ['-1XXZII', '+1IIZII'],\n",
       " ['-1IIIXI', '+1IZIII'],\n",
       " ['+1IZYII', '+1ZIIII']]"
      ]
     },
     "execution_count": 14,
     "metadata": {},
     "output_type": "execute_result"
    }
   ],
   "source": [
    "new_list = sorted_list[-qubits -1:-1]\n",
    "new_list"
   ]
  },
  {
   "cell_type": "code",
   "execution_count": 15,
   "id": "59b80c6f",
   "metadata": {},
   "outputs": [
    {
     "data": {
      "text/plain": [
       "[['+1IZYIY', '+1IIIIZ'],\n",
       " ['-1XXZII', '+1IIZII'],\n",
       " ['+1ZZIII', '+1IIIZI'],\n",
       " ['+1IZYII', '+1ZIIII'],\n",
       " ['-1IIIXI', '+1IZIII']]"
      ]
     },
     "execution_count": 15,
     "metadata": {},
     "output_type": "execute_result"
    }
   ],
   "source": [
    "sorted_new_list = sorted(new_list, key=lambda s: s[0].count('I'))\n",
    "sorted_new_list"
   ]
  },
  {
   "cell_type": "code",
   "execution_count": 16,
   "id": "8a1a67b1-f742-4393-a00b-e0cbd951a031",
   "metadata": {},
   "outputs": [
    {
     "data": {
      "text/plain": [
       "[['-1IIIXI', '+1IZIII'],\n",
       " ['+1IZYII', '+1ZIIII'],\n",
       " ['+1ZZIII', '+1IIIZI'],\n",
       " ['-1XXZII', '+1IIZII'],\n",
       " ['+1IZYIY', '+1IIIIZ']]"
      ]
     },
     "execution_count": 16,
     "metadata": {},
     "output_type": "execute_result"
    }
   ],
   "source": [
    "sorted_pauli_strings = sorted_new_list[::-1]\n",
    "sorted_pauli_strings"
   ]
  },
  {
   "cell_type": "code",
   "execution_count": 17,
   "id": "b825a595",
   "metadata": {},
   "outputs": [
    {
     "name": "stderr",
     "output_type": "stream",
     "text": [
      "/Users/revilooliver/Documents/quantum_computing/anaconda/anaconda3/envs/quantum/lib/python3.7/site-packages/ipykernel_launcher.py:1: DeprecationWarning: The package qiskit.providers.ibmq is being deprecated. Please see https://ibm.biz/provider_migration_guide to get instructions on how to migrate to qiskit-ibm-provider (https://github.com/Qiskit/qiskit-ibm-provider) and qiskit-ibm-runtime (https://github.com/Qiskit/qiskit-ibm-runtime).\n",
      "  \"\"\"Entry point for launching an IPython kernel.\n",
      "/Users/revilooliver/Documents/quantum_computing/anaconda/anaconda3/envs/quantum/lib/python3.7/site-packages/ipykernel_launcher.py:1: DeprecationWarning: The qiskit.IBMQ entrypoint and the qiskit-ibmq-provider package (accessible from 'qiskit.providers.ibmq`) are deprecated and will be removed in a future release. Instead you should use the qiskit-ibm-provider package which is accessible from 'qiskit_ibm_provider'. You can install it with 'pip install qiskit_ibm_provider'. Just replace 'qiskit.IBMQ' with 'qiskit_ibm_provider.IBMProvider'\n",
      "  \"\"\"Entry point for launching an IPython kernel.\n"
     ]
    },
    {
     "data": {
      "text/plain": [
       "[<IBMQSimulator('ibmq_qasm_simulator') from IBMQ(hub='ibm-q-ornl', group='anl', project='chm185')>,\n",
       " <IBMQBackend('ibmq_kolkata') from IBMQ(hub='ibm-q-ornl', group='anl', project='chm185')>,\n",
       " <IBMQBackend('ibmq_mumbai') from IBMQ(hub='ibm-q-ornl', group='anl', project='chm185')>,\n",
       " <IBMQSimulator('simulator_statevector') from IBMQ(hub='ibm-q-ornl', group='anl', project='chm185')>,\n",
       " <IBMQSimulator('simulator_mps') from IBMQ(hub='ibm-q-ornl', group='anl', project='chm185')>,\n",
       " <IBMQSimulator('simulator_extended_stabilizer') from IBMQ(hub='ibm-q-ornl', group='anl', project='chm185')>,\n",
       " <IBMQSimulator('simulator_stabilizer') from IBMQ(hub='ibm-q-ornl', group='anl', project='chm185')>,\n",
       " <IBMQBackend('ibm_hanoi') from IBMQ(hub='ibm-q-ornl', group='anl', project='chm185')>,\n",
       " <IBMQBackend('ibm_algiers') from IBMQ(hub='ibm-q-ornl', group='anl', project='chm185')>,\n",
       " <IBMQBackend('ibm_cairo') from IBMQ(hub='ibm-q-ornl', group='anl', project='chm185')>,\n",
       " <IBMQBackend('ibm_sherbrooke') from IBMQ(hub='ibm-q-ornl', group='anl', project='chm185')>,\n",
       " <IBMQBackend('ibm_brisbane') from IBMQ(hub='ibm-q-ornl', group='anl', project='chm185')>,\n",
       " <IBMQBackend('ibm_nazca') from IBMQ(hub='ibm-q-ornl', group='anl', project='chm185')>,\n",
       " <IBMQBackend('ibm_cusco') from IBMQ(hub='ibm-q-ornl', group='anl', project='chm185')>]"
      ]
     },
     "execution_count": 17,
     "metadata": {},
     "output_type": "execute_result"
    }
   ],
   "source": [
    "IBMQ.load_account()\n",
    "provider = IBMQ.get_provider(hub='ibm-q-ornl', group='anl', project='chm185')\n",
    "provider.backends()"
   ]
  },
  {
   "cell_type": "code",
   "execution_count": 18,
   "id": "95382e9f",
   "metadata": {},
   "outputs": [],
   "source": [
    "from qiskit.converters import circuit_to_dag\n",
    "from qiskit.visualization import dag_drawer, plot_histogram\n",
    "from qiskit.compiler import assemble\n",
    "\n",
    "from qiskit.tools.monitor import job_monitor, backend_monitor, backend_overview\n",
    "\n",
    "import qiskit.providers.aer.noise as noise\n",
    "from qiskit.providers.aer.noise import NoiseModel"
   ]
  },
  {
   "cell_type": "code",
   "execution_count": 19,
   "id": "9282cc98",
   "metadata": {},
   "outputs": [
    {
     "data": {
      "text/plain": [
       "<IBMQBackend('ibm_hanoi') from IBMQ(hub='ibm-q-ornl', group='anl', project='chm185')>"
      ]
     },
     "execution_count": 19,
     "metadata": {},
     "output_type": "execute_result"
    }
   ],
   "source": [
    "hanoi_device = provider.get_backend('ibm_hanoi')\n",
    "hanoi_device"
   ]
  },
  {
   "cell_type": "code",
   "execution_count": 20,
   "id": "cd3a476b",
   "metadata": {},
   "outputs": [],
   "source": [
    "classical_simulator = provider.get_backend('ibmq_qasm_simulator')"
   ]
  },
  {
   "cell_type": "code",
   "execution_count": 21,
   "id": "638ecb39",
   "metadata": {},
   "outputs": [],
   "source": [
    "prob_1 = 0.003  # 1-qubit gate\n",
    "prob_2 = 0.03   # 2-qubit gate\n",
    "\n",
    "# Depolarizing quantum errors\n",
    "error_1 = noise.depolarizing_error(prob_1, 1)\n",
    "error_2 = noise.depolarizing_error(prob_2, 2)\n",
    "\n",
    "# Add errors to noise model\n",
    "noise_model = noise.NoiseModel()\n",
    "noise_model.add_all_qubit_quantum_error(error_1, ['u1', 'u2', 'u3', 'sx', 'x'])\n",
    "noise_model.add_all_qubit_quantum_error(error_2, ['cx'])"
   ]
  },
  {
   "cell_type": "code",
   "execution_count": 22,
   "id": "720123e2",
   "metadata": {},
   "outputs": [],
   "source": [
    "# noise_model = NoiseModel.from_backend(hanoi_device, gate_error=True, readout_error=True, thermal_relaxation=False)\n",
    "# print(noise_model)"
   ]
  },
  {
   "cell_type": "code",
   "execution_count": 23,
   "id": "45d369f9",
   "metadata": {},
   "outputs": [],
   "source": [
    "clif_qc_meas = clif_qc.copy()\n",
    "clif_qc_meas.measure_active()"
   ]
  },
  {
   "cell_type": "code",
   "execution_count": 24,
   "id": "43cad7bc",
   "metadata": {},
   "outputs": [
    {
     "data": {
      "image/png": "[encoded data removed]",
      "text/plain": [
       "<Figure size 1355.49x385.28 with 1 Axes>"
      ]
     },
     "execution_count": 24,
     "metadata": {},
     "output_type": "execute_result"
    }
   ],
   "source": [
    "clif_qc_meas.draw(output = 'mpl')"
   ]
  },
  {
   "cell_type": "code",
   "execution_count": 25,
   "id": "bf07edcd",
   "metadata": {},
   "outputs": [],
   "source": [
    "hanoi_qc_meas = transpile(clif_qc_meas, hanoi_device, routing_method = 'sabre', optimization_level = 3, seed_transpiler = 0)"
   ]
  },
  {
   "cell_type": "code",
   "execution_count": 26,
   "id": "8b266636",
   "metadata": {},
   "outputs": [],
   "source": [
    "hanoi_qc = hanoi_qc_meas.remove_final_measurements(inplace=False)"
   ]
  },
  {
   "cell_type": "code",
   "execution_count": 27,
   "id": "428d5688",
   "metadata": {},
   "outputs": [
    {
     "name": "stdout",
     "output_type": "stream",
     "text": [
      "\r",
      "Job Status: job has successfully run\n"
     ]
    }
   ],
   "source": [
    "#THIS IS THE NOISELESS SIMULATION\n",
    "job = execute(clif_qc_meas, classical_simulator, shots = total_shots)\n",
    "job_monitor(job)\n",
    "results = job.result()\n",
    "ideal_dist = results.get_counts()"
   ]
  },
  {
   "cell_type": "code",
   "execution_count": 28,
   "id": "2069e27d",
   "metadata": {},
   "outputs": [
    {
     "name": "stdout",
     "output_type": "stream",
     "text": [
      "Job Status: job has successfully run\n"
     ]
    }
   ],
   "source": [
    "#THIS IS THE NOISY SIMULATION ON IBM_HANOI\n",
    "noisy_job = execute(hanoi_qc_meas, classical_simulator, noise_model = noise_model, shots = total_shots)\n",
    "job_monitor(noisy_job)\n",
    "noisy_results = noisy_job.result()\n",
    "noisy_dist = noisy_results.get_counts()"
   ]
  },
  {
   "cell_type": "code",
   "execution_count": 29,
   "id": "4f1f7557",
   "metadata": {},
   "outputs": [
    {
     "data": {
      "text/plain": [
       "0.8689680761992924"
      ]
     },
     "execution_count": 29,
     "metadata": {},
     "output_type": "execute_result"
    }
   ],
   "source": [
    "hf(norm_dict(noisy_dist), norm_dict(ideal_dist))"
   ]
  },
  {
   "cell_type": "code",
   "execution_count": 30,
   "id": "e38117f6",
   "metadata": {},
   "outputs": [
    {
     "data": {
      "text/plain": [
       "'-1IIIXI'"
      ]
     },
     "execution_count": 30,
     "metadata": {},
     "output_type": "execute_result"
    }
   ],
   "source": [
    "sorted_pauli_strings[0][0]"
   ]
  },
  {
   "cell_type": "code",
   "execution_count": 31,
   "id": "67d7141a",
   "metadata": {},
   "outputs": [],
   "source": [
    "initial_layout = {}\n",
    "for i in range(0, qubits):\n",
    "    initial_layout[i] = [i]\n",
    "    \n",
    "final_layout = {}\n",
    "for i in range(0, qubits):\n",
    "    final_layout[i] = [i]"
   ]
  },
  {
   "cell_type": "code",
   "execution_count": 32,
   "id": "b860e86b",
   "metadata": {},
   "outputs": [
    {
     "data": {
      "text/plain": [
       "[['-1IIIXI', '+1IZIII'],\n",
       " ['+1IZYII', '+1ZIIII'],\n",
       " ['+1ZZIII', '+1IIIZI'],\n",
       " ['-1XXZII', '+1IIZII'],\n",
       " ['+1IZYIY', '+1IIIIZ']]"
      ]
     },
     "execution_count": 32,
     "metadata": {},
     "output_type": "execute_result"
    }
   ],
   "source": [
    "sorted_pauli_strings"
   ]
  },
  {
   "cell_type": "code",
   "execution_count": 33,
   "id": "5d48b0fe",
   "metadata": {},
   "outputs": [
    {
     "data": {
      "text/plain": [
       "5"
      ]
     },
     "execution_count": 33,
     "metadata": {},
     "output_type": "execute_result"
    }
   ],
   "source": [
    "len(sorted_pauli_strings)"
   ]
  },
  {
   "cell_type": "code",
   "execution_count": 34,
   "id": "2b9e7c9e",
   "metadata": {},
   "outputs": [],
   "source": [
    "#add pauli check on two sides:\n",
    "#specify the left and right pauli strings\n",
    "pl = sorted_pauli_strings[0][0][2:]\n",
    "pr = sorted_pauli_strings[0][1][2:]\n",
    "sign = sorted_pauli_strings[0][0][2:]\n",
    "checked_qc = add_pauli_checks(clif_qc, pl, pr, initial_layout, final_layout, False, False, True, True, True)\n",
    "        "
   ]
  },
  {
   "cell_type": "code",
   "execution_count": 35,
   "id": "61099d2f",
   "metadata": {},
   "outputs": [],
   "source": [
    "#add pauli check on two sides:\n",
    "#specify the left and right pauli strings\n",
    "pcs_qc_list = []\n",
    "sign_list = []\n",
    "pl_list = []\n",
    "pr_list = []\n",
    "\n",
    "for i in range(0, len(sorted_pauli_strings)):\n",
    "    pl = sorted_pauli_strings[i][0][2:]\n",
    "    pr = sorted_pauli_strings[i][1][2:]\n",
    "    if i == 0:\n",
    "        temp_qc = add_pauli_checks(clif_qc, pl, pr, initial_layout, final_layout, False, False, False, True, True)\n",
    "        save_qc = add_pauli_checks(clif_qc, pl, pr, initial_layout, final_layout, False, False, True, True, True)\n",
    "        prev_qc = temp_qc\n",
    "    else:\n",
    "        temp_qc = add_pauli_checks(prev_qc, pl, pr, initial_layout, final_layout, False, False, False, True, True)\n",
    "        save_qc = add_pauli_checks(prev_qc, pl, pr, initial_layout, final_layout, False, False, True, True, True) \n",
    "        prev_qc = temp_qc\n",
    "    pl_list.append(pl)\n",
    "    pr_list.append(pr)\n",
    "    sign_list.append(sorted_pauli_strings[i][0][:2])\n",
    "    pcs_qc_list.append(save_qc)"
   ]
  },
  {
   "cell_type": "code",
   "execution_count": 36,
   "id": "9ba42c51",
   "metadata": {},
   "outputs": [
    {
     "data": {
      "text/html": [
       "<pre style=\"word-wrap: normal;white-space: pre;background: #fff0;line-height: 1.1;font-family: &quot;Courier New&quot;,Courier,monospace\">              ┌───┐         ░                    ░             ░              »\n",
       "    q_0: ─────┤ Y ├─────────░────────────────────░─────────────░──────────────»\n",
       "              └─┬─┘         ░                    ░             ░              »\n",
       "    q_1: ───────┼───────────░────────────────────░─────────────░──────────────»\n",
       "                │  ┌───┐    ░                    ░             ░      ┌───┐   »\n",
       "    q_2: ───────┼──┤ Y ├────░───────■────────────░─────────────░──────┤ Y ├───»\n",
       "                │  └─┬─┘    ░       │ ┌───┐      ░             ░      └─┬─┘   »\n",
       "    q_3: ───────┼────┼───■──░───────┼─┤ X ├──────░───────■─────░────────┼───■─»\n",
       "                │    │   │  ░       │ └─┬─┘┌───┐ ░       │     ░        │   │ »\n",
       "    q_4: ───────┼────┼───┼──░───────┼───┼──┤ X ├─░───────┼──■──░────────┼───┼─»\n",
       "                │    │   │  ░       │   │  └─┬─┘ ░       │  │  ░        │   │ »\n",
       "    q_5: ───────┼────┼───┼──░───────┼───┼────┼───░───────┼──┼──░────────┼───┼─»\n",
       "                │    │   │  ░       │   │    │   ░       │  │  ░ ┌───┐  │   │ »\n",
       "    q_6: ───────┼────┼───┼──░───────┼───┼────┼───░───────┼──┼──░─┤ H ├──■───■─»\n",
       "                │    │   │  ░       │   │    │   ░ ┌───┐ │  │  ░ └───┘        »\n",
       "    q_7: ───────┼────┼───┼──░───────┼───┼────┼───░─┤ H ├─■──■──░──────────────»\n",
       "                │    │   │  ░ ┌───┐ │   │    │   ░ └───┘       ░              »\n",
       "    q_8: ───────┼────┼───┼──░─┤ H ├─■───■────■───░────────────────────────────»\n",
       "         ┌───┐  │    │   │  ░ └───┘              ░                            »\n",
       "    q_9: ┤ H ├──■────■───■──░─────────────────────────────────────────────────»\n",
       "         └───┘              ░                                                 »\n",
       "IZIII: 1/═════════════════════════════════════════════════════════════════════»\n",
       "                                                                              »\n",
       "ZIIII: 1/═════════════════════════════════════════════════════════════════════»\n",
       "                                                                              »\n",
       "IIIZI: 1/═════════════════════════════════════════════════════════════════════»\n",
       "                                                                              »\n",
       "IIZII: 1/═════════════════════════════════════════════════════════════════════»\n",
       "                                                                              »\n",
       "IIIIZ: 1/═════════════════════════════════════════════════════════════════════»\n",
       "                                                                              »\n",
       " meas: 5/═════════════════════════════════════════════════════════════════════»\n",
       "                                                                              »\n",
       "«          ░            ░ ┌───┐┌───┐┌───┐┌───┐┌───┐                         »\n",
       "«    q_0: ─░────────────░─┤ S ├┤ H ├┤ X ├┤ X ├┤ Z ├─────────────────────────»\n",
       "«          ░      ┌───┐ ░ ├───┤├───┤└─┬─┘└─┬─┘└───┘          ┌───┐     ┌───┐»\n",
       "«    q_1: ─░──────┤ X ├─░─┤ H ├┤ S ├──┼────┼────X────────────┤ X ├──■──┤ X ├»\n",
       "«          ░      └─┬─┘ ░ ├───┤├───┤  │    │    │  ┌───┐     └─┬─┘┌─┴─┐└─┬─┘»\n",
       "«    q_2: ─░────────┼───░─┤ S ├┤ H ├──■────┼────┼──┤ X ├───────┼──┤ X ├──┼──»\n",
       "«          ░        │   ░ └───┘└───┘       │    │  └─┬─┘       │  ├───┤  │  »\n",
       "«    q_3: ─░────────┼───░──────────────────■────X────■────■────■──┤ Y ├──┼──»\n",
       "«          ░        │   ░                               ┌─┴─┐     └───┘  │  »\n",
       "«    q_4: ─░────────┼───░───────────────────────────────┤ X ├────────────■──»\n",
       "«          ░ ┌───┐  │   ░                               └───┘               »\n",
       "«    q_5: ─░─┤ H ├──■───░───────────────────────────────────────────────────»\n",
       "«          ░ └───┘      ░                                                   »\n",
       "«    q_6: ─░────────────────────────────────────────────────────────────────»\n",
       "«          ░                                                                »\n",
       "«    q_7: ──────────────────────────────────────────────────────────────────»\n",
       "«                                                                           »\n",
       "«    q_8: ──────────────────────────────────────────────────────────────────»\n",
       "«                                                                           »\n",
       "«    q_9: ──────────────────────────────────────────────────────────────────»\n",
       "«                                                                           »\n",
       "«IZIII: 1/══════════════════════════════════════════════════════════════════»\n",
       "«                                                                           »\n",
       "«ZIIII: 1/══════════════════════════════════════════════════════════════════»\n",
       "«                                                                           »\n",
       "«IIIZI: 1/══════════════════════════════════════════════════════════════════»\n",
       "«                                                                           »\n",
       "«IIZII: 1/══════════════════════════════════════════════════════════════════»\n",
       "«                                                                           »\n",
       "«IIIIZ: 1/══════════════════════════════════════════════════════════════════»\n",
       "«                                                                           »\n",
       "« meas: 5/══════════════════════════════════════════════════════════════════»\n",
       "«                                                                           »\n",
       "«                              ░             ░             ░             ░    »\n",
       "«    q_0: ─────────────────────░─────────────░─────────────░─────────────░────»\n",
       "«         ┌───┐                ░             ░             ░             ░    »\n",
       "«    q_1: ┤ Z ├────────────────░─────────────░─────────────░──■──────────░────»\n",
       "«         └───┘┌───┐┌───┐┌───┐ ░             ░             ░  │          ░    »\n",
       "«    q_2: ──X──┤ H ├┤ S ├┤ Y ├─░─────────────░─────────────░──┼──────────░──■─»\n",
       "«           │  └───┘└───┘└───┘ ░             ░             ░  │          ░  │ »\n",
       "«    q_3: ──┼──────────────────░──■──────────░─────────────░──┼──────────░──┼─»\n",
       "«           │  ┌───┐           ░  │          ░             ░  │          ░  │ »\n",
       "«    q_4: ──X──┤ Y ├───────────░──┼──────────░──■──────────░──┼──────────░──┼─»\n",
       "«              └───┘           ░  │ ┌───┐┌─┐ ░  │          ░  │          ░  │ »\n",
       "«    q_5: ─────────────────────░──■─┤ H ├┤M├─░──┼──────────░──┼──────────░──┼─»\n",
       "«                              ░    └───┘└╥┘ ░  │ ┌───┐┌─┐ ░  │          ░  │ »\n",
       "«    q_6: ────────────────────────────────╫──░──■─┤ H ├┤M├─░──┼──────────░──┼─»\n",
       "«                                         ║  ░    └───┘└╥┘ ░  │ ┌───┐┌─┐ ░  │ »\n",
       "«    q_7: ────────────────────────────────╫─────────────╫──░──■─┤ H ├┤M├─░──┼─»\n",
       "«                                         ║             ║  ░    └───┘└╥┘ ░  │ »\n",
       "«    q_8: ────────────────────────────────╫─────────────╫─────────────╫──░──■─»\n",
       "«                                         ║             ║             ║  ░    »\n",
       "«    q_9: ────────────────────────────────╫─────────────╫─────────────╫───────»\n",
       "«                                         ║             ║             ║       »\n",
       "«IZIII: 1/════════════════════════════════╩═════════════╬═════════════╬═══════»\n",
       "«                                         0             ║             ║       »\n",
       "«ZIIII: 1/══════════════════════════════════════════════╩═════════════╬═══════»\n",
       "«                                                       0             ║       »\n",
       "«IIIZI: 1/════════════════════════════════════════════════════════════╩═══════»\n",
       "«                                                                     0       »\n",
       "«IIZII: 1/════════════════════════════════════════════════════════════════════»\n",
       "«                                                                             »\n",
       "«IIIIZ: 1/════════════════════════════════════════════════════════════════════»\n",
       "«                                                                             »\n",
       "« meas: 5/════════════════════════════════════════════════════════════════════»\n",
       "«                                                                             »\n",
       "«                  ░                     ┌─┐   \n",
       "«    q_0: ─────────░──■──────────────────┤M├───\n",
       "«                  ░  │ ┌─┐              └╥┘   \n",
       "«    q_1: ─────────░──┼─┤M├───────────────╫────\n",
       "«                  ░  │ └╥┘┌─┐            ║    \n",
       "«    q_2: ─────────░──┼──╫─┤M├────────────╫────\n",
       "«                  ░  │  ║ └╥┘┌─┐         ║    \n",
       "«    q_3: ─────────░──┼──╫──╫─┤M├─────────╫────\n",
       "«                  ░  │  ║  ║ └╥┘┌─┐      ║    \n",
       "«    q_4: ─────────░──┼──╫──╫──╫─┤M├──────╫────\n",
       "«                  ░  │  ║  ║  ║ └╥┘      ║    \n",
       "«    q_5: ─────────░──┼──╫──╫──╫──╫───────╫────\n",
       "«                  ░  │  ║  ║  ║  ║       ║    \n",
       "«    q_6: ─────────░──┼──╫──╫──╫──╫───────╫────\n",
       "«                  ░  │  ║  ║  ║  ║       ║    \n",
       "«    q_7: ─────────░──┼──╫──╫──╫──╫───────╫────\n",
       "«         ┌───┐┌─┐ ░  │  ║  ║  ║  ║       ║    \n",
       "«    q_8: ┤ H ├┤M├─░──┼──╫──╫──╫──╫───────╫────\n",
       "«         └───┘└╥┘ ░  │  ║  ║  ║  ║ ┌───┐ ║ ┌─┐\n",
       "«    q_9: ──────╫──░──■──╫──╫──╫──╫─┤ H ├─╫─┤M├\n",
       "«               ║  ░     ║  ║  ║  ║ └───┘ ║ └╥┘\n",
       "«IZIII: 1/══════╬════════╬══╬══╬══╬═══════╬══╬═\n",
       "«               ║        ║  ║  ║  ║       ║  ║ \n",
       "«ZIIII: 1/══════╬════════╬══╬══╬══╬═══════╬══╬═\n",
       "«               ║        ║  ║  ║  ║       ║  ║ \n",
       "«IIIZI: 1/══════╬════════╬══╬══╬══╬═══════╬══╬═\n",
       "«               ║        ║  ║  ║  ║       ║  ║ \n",
       "«IIZII: 1/══════╩════════╬══╬══╬══╬═══════╬══╬═\n",
       "«               0        ║  ║  ║  ║       ║  ║ \n",
       "«IIIIZ: 1/═══════════════╬══╬══╬══╬═══════╬══╩═\n",
       "«                        ║  ║  ║  ║       ║  0 \n",
       "« meas: 5/═══════════════╩══╩══╩══╩═══════╩════\n",
       "«                        1  2  3  4       0    </pre>"
      ],
      "text/plain": [
       "              ┌───┐         ░                    ░             ░              »\n",
       "    q_0: ─────┤ Y ├─────────░────────────────────░─────────────░──────────────»\n",
       "              └─┬─┘         ░                    ░             ░              »\n",
       "    q_1: ───────┼───────────░────────────────────░─────────────░──────────────»\n",
       "                │  ┌───┐    ░                    ░             ░      ┌───┐   »\n",
       "    q_2: ───────┼──┤ Y ├────░───────■────────────░─────────────░──────┤ Y ├───»\n",
       "                │  └─┬─┘    ░       │ ┌───┐      ░             ░      └─┬─┘   »\n",
       "    q_3: ───────┼────┼───■──░───────┼─┤ X ├──────░───────■─────░────────┼───■─»\n",
       "                │    │   │  ░       │ └─┬─┘┌───┐ ░       │     ░        │   │ »\n",
       "    q_4: ───────┼────┼───┼──░───────┼───┼──┤ X ├─░───────┼──■──░────────┼───┼─»\n",
       "                │    │   │  ░       │   │  └─┬─┘ ░       │  │  ░        │   │ »\n",
       "    q_5: ───────┼────┼───┼──░───────┼───┼────┼───░───────┼──┼──░────────┼───┼─»\n",
       "                │    │   │  ░       │   │    │   ░       │  │  ░ ┌───┐  │   │ »\n",
       "    q_6: ───────┼────┼───┼──░───────┼───┼────┼───░───────┼──┼──░─┤ H ├──■───■─»\n",
       "                │    │   │  ░       │   │    │   ░ ┌───┐ │  │  ░ └───┘        »\n",
       "    q_7: ───────┼────┼───┼──░───────┼───┼────┼───░─┤ H ├─■──■──░──────────────»\n",
       "                │    │   │  ░ ┌───┐ │   │    │   ░ └───┘       ░              »\n",
       "    q_8: ───────┼────┼───┼──░─┤ H ├─■───■────■───░────────────────────────────»\n",
       "         ┌───┐  │    │   │  ░ └───┘              ░                            »\n",
       "    q_9: ┤ H ├──■────■───■──░─────────────────────────────────────────────────»\n",
       "         └───┘              ░                                                 »\n",
       "IZIII: 1/═════════════════════════════════════════════════════════════════════»\n",
       "                                                                              »\n",
       "ZIIII: 1/═════════════════════════════════════════════════════════════════════»\n",
       "                                                                              »\n",
       "IIIZI: 1/═════════════════════════════════════════════════════════════════════»\n",
       "                                                                              »\n",
       "IIZII: 1/═════════════════════════════════════════════════════════════════════»\n",
       "                                                                              »\n",
       "IIIIZ: 1/═════════════════════════════════════════════════════════════════════»\n",
       "                                                                              »\n",
       " meas: 5/═════════════════════════════════════════════════════════════════════»\n",
       "                                                                              »\n",
       "«          ░            ░ ┌───┐┌───┐┌───┐┌───┐┌───┐                         »\n",
       "«    q_0: ─░────────────░─┤ S ├┤ H ├┤ X ├┤ X ├┤ Z ├─────────────────────────»\n",
       "«          ░      ┌───┐ ░ ├───┤├───┤└─┬─┘└─┬─┘└───┘          ┌───┐     ┌───┐»\n",
       "«    q_1: ─░──────┤ X ├─░─┤ H ├┤ S ├──┼────┼────X────────────┤ X ├──■──┤ X ├»\n",
       "«          ░      └─┬─┘ ░ ├───┤├───┤  │    │    │  ┌───┐     └─┬─┘┌─┴─┐└─┬─┘»\n",
       "«    q_2: ─░────────┼───░─┤ S ├┤ H ├──■────┼────┼──┤ X ├───────┼──┤ X ├──┼──»\n",
       "«          ░        │   ░ └───┘└───┘       │    │  └─┬─┘       │  ├───┤  │  »\n",
       "«    q_3: ─░────────┼───░──────────────────■────X────■────■────■──┤ Y ├──┼──»\n",
       "«          ░        │   ░                               ┌─┴─┐     └───┘  │  »\n",
       "«    q_4: ─░────────┼───░───────────────────────────────┤ X ├────────────■──»\n",
       "«          ░ ┌───┐  │   ░                               └───┘               »\n",
       "«    q_5: ─░─┤ H ├──■───░───────────────────────────────────────────────────»\n",
       "«          ░ └───┘      ░                                                   »\n",
       "«    q_6: ─░────────────────────────────────────────────────────────────────»\n",
       "«          ░                                                                »\n",
       "«    q_7: ──────────────────────────────────────────────────────────────────»\n",
       "«                                                                           »\n",
       "«    q_8: ──────────────────────────────────────────────────────────────────»\n",
       "«                                                                           »\n",
       "«    q_9: ──────────────────────────────────────────────────────────────────»\n",
       "«                                                                           »\n",
       "«IZIII: 1/══════════════════════════════════════════════════════════════════»\n",
       "«                                                                           »\n",
       "«ZIIII: 1/══════════════════════════════════════════════════════════════════»\n",
       "«                                                                           »\n",
       "«IIIZI: 1/══════════════════════════════════════════════════════════════════»\n",
       "«                                                                           »\n",
       "«IIZII: 1/══════════════════════════════════════════════════════════════════»\n",
       "«                                                                           »\n",
       "«IIIIZ: 1/══════════════════════════════════════════════════════════════════»\n",
       "«                                                                           »\n",
       "« meas: 5/══════════════════════════════════════════════════════════════════»\n",
       "«                                                                           »\n",
       "«                              ░             ░             ░             ░    »\n",
       "«    q_0: ─────────────────────░─────────────░─────────────░─────────────░────»\n",
       "«         ┌───┐                ░             ░             ░             ░    »\n",
       "«    q_1: ┤ Z ├────────────────░─────────────░─────────────░──■──────────░────»\n",
       "«         └───┘┌───┐┌───┐┌───┐ ░             ░             ░  │          ░    »\n",
       "«    q_2: ──X──┤ H ├┤ S ├┤ Y ├─░─────────────░─────────────░──┼──────────░──■─»\n",
       "«           │  └───┘└───┘└───┘ ░             ░             ░  │          ░  │ »\n",
       "«    q_3: ──┼──────────────────░──■──────────░─────────────░──┼──────────░──┼─»\n",
       "«           │  ┌───┐           ░  │          ░             ░  │          ░  │ »\n",
       "«    q_4: ──X──┤ Y ├───────────░──┼──────────░──■──────────░──┼──────────░──┼─»\n",
       "«              └───┘           ░  │ ┌───┐┌─┐ ░  │          ░  │          ░  │ »\n",
       "«    q_5: ─────────────────────░──■─┤ H ├┤M├─░──┼──────────░──┼──────────░──┼─»\n",
       "«                              ░    └───┘└╥┘ ░  │ ┌───┐┌─┐ ░  │          ░  │ »\n",
       "«    q_6: ────────────────────────────────╫──░──■─┤ H ├┤M├─░──┼──────────░──┼─»\n",
       "«                                         ║  ░    └───┘└╥┘ ░  │ ┌───┐┌─┐ ░  │ »\n",
       "«    q_7: ────────────────────────────────╫─────────────╫──░──■─┤ H ├┤M├─░──┼─»\n",
       "«                                         ║             ║  ░    └───┘└╥┘ ░  │ »\n",
       "«    q_8: ────────────────────────────────╫─────────────╫─────────────╫──░──■─»\n",
       "«                                         ║             ║             ║  ░    »\n",
       "«    q_9: ────────────────────────────────╫─────────────╫─────────────╫───────»\n",
       "«                                         ║             ║             ║       »\n",
       "«IZIII: 1/════════════════════════════════╩═════════════╬═════════════╬═══════»\n",
       "«                                         0             ║             ║       »\n",
       "«ZIIII: 1/══════════════════════════════════════════════╩═════════════╬═══════»\n",
       "«                                                       0             ║       »\n",
       "«IIIZI: 1/════════════════════════════════════════════════════════════╩═══════»\n",
       "«                                                                     0       »\n",
       "«IIZII: 1/════════════════════════════════════════════════════════════════════»\n",
       "«                                                                             »\n",
       "«IIIIZ: 1/════════════════════════════════════════════════════════════════════»\n",
       "«                                                                             »\n",
       "« meas: 5/════════════════════════════════════════════════════════════════════»\n",
       "«                                                                             »\n",
       "«                  ░                     ┌─┐   \n",
       "«    q_0: ─────────░──■──────────────────┤M├───\n",
       "«                  ░  │ ┌─┐              └╥┘   \n",
       "«    q_1: ─────────░──┼─┤M├───────────────╫────\n",
       "«                  ░  │ └╥┘┌─┐            ║    \n",
       "«    q_2: ─────────░──┼──╫─┤M├────────────╫────\n",
       "«                  ░  │  ║ └╥┘┌─┐         ║    \n",
       "«    q_3: ─────────░──┼──╫──╫─┤M├─────────╫────\n",
       "«                  ░  │  ║  ║ └╥┘┌─┐      ║    \n",
       "«    q_4: ─────────░──┼──╫──╫──╫─┤M├──────╫────\n",
       "«                  ░  │  ║  ║  ║ └╥┘      ║    \n",
       "«    q_5: ─────────░──┼──╫──╫──╫──╫───────╫────\n",
       "«                  ░  │  ║  ║  ║  ║       ║    \n",
       "«    q_6: ─────────░──┼──╫──╫──╫──╫───────╫────\n",
       "«                  ░  │  ║  ║  ║  ║       ║    \n",
       "«    q_7: ─────────░──┼──╫──╫──╫──╫───────╫────\n",
       "«         ┌───┐┌─┐ ░  │  ║  ║  ║  ║       ║    \n",
       "«    q_8: ┤ H ├┤M├─░──┼──╫──╫──╫──╫───────╫────\n",
       "«         └───┘└╥┘ ░  │  ║  ║  ║  ║ ┌───┐ ║ ┌─┐\n",
       "«    q_9: ──────╫──░──■──╫──╫──╫──╫─┤ H ├─╫─┤M├\n",
       "«               ║  ░     ║  ║  ║  ║ └───┘ ║ └╥┘\n",
       "«IZIII: 1/══════╬════════╬══╬══╬══╬═══════╬══╬═\n",
       "«               ║        ║  ║  ║  ║       ║  ║ \n",
       "«ZIIII: 1/══════╬════════╬══╬══╬══╬═══════╬══╬═\n",
       "«               ║        ║  ║  ║  ║       ║  ║ \n",
       "«IIIZI: 1/══════╬════════╬══╬══╬══╬═══════╬══╬═\n",
       "«               ║        ║  ║  ║  ║       ║  ║ \n",
       "«IIZII: 1/══════╩════════╬══╬══╬══╬═══════╬══╬═\n",
       "«               0        ║  ║  ║  ║       ║  ║ \n",
       "«IIIIZ: 1/═══════════════╬══╬══╬══╬═══════╬══╩═\n",
       "«                        ║  ║  ║  ║       ║  0 \n",
       "« meas: 5/═══════════════╩══╩══╩══╩═══════╩════\n",
       "«                        1  2  3  4       0    "
      ]
     },
     "execution_count": 36,
     "metadata": {},
     "output_type": "execute_result"
    }
   ],
   "source": [
    "pcs_qc_list[-1].draw()"
   ]
  },
  {
   "cell_type": "code",
   "execution_count": 37,
   "id": "4204e673-704b-42df-92f6-b5da0bc056c6",
   "metadata": {},
   "outputs": [
    {
     "name": "stdout",
     "output_type": "stream",
     "text": [
      "cllpalbrqn01g5tgd2c0\n",
      "Job Status: job has successfully run\n"
     ]
    }
   ],
   "source": [
    "real_job = execute(pcs_qc_list, classical_simulator, noise_model = noise_model, shots = total_shots)\n",
    "print(real_job.job_id())\n",
    "job_monitor(real_job)\n",
    "real_results = real_job.result()\n",
    "real_dist = real_results.get_counts()"
   ]
  },
  {
   "cell_type": "code",
   "execution_count": 38,
   "id": "b319860c-ae31-42be-b555-b56db2970f0a",
   "metadata": {},
   "outputs": [
    {
     "name": "stdout",
     "output_type": "stream",
     "text": [
      "{'10011': 321, '10111': 319, '10110': 329, '00110': 356, '00011': 320, '01010': 360, '11010': 350, '00111': 324, '00001': 5457, '10101': 5573, '11000': 5522, '01001': 5524, '00010': 325, '11011': 356, '00100': 5606, '01000': 5469, '11001': 5549, '00000': 5532, '10010': 335, '10000': 5497, '00101': 5544, '11100': 5580, '10100': 5769, '01101': 5557, '11111': 348, '10001': 5570, '01011': 336, '01110': 318, '11101': 5523, '01111': 346, '11110': 352, '01100': 5498}\n",
      "check 1 0.9426343500496764 94165\n",
      "{'10110': 162, '11011': 179, '00011': 178, '01110': 196, '10001': 5409, '11111': 156, '00100': 5365, '01011': 165, '10000': 5331, '01010': 199, '01001': 5415, '01000': 5352, '10101': 5301, '11000': 5356, '11101': 5436, '00001': 5490, '10100': 5418, '00111': 162, '01101': 5444, '11001': 5273, '11100': 5322, '01100': 5390, '11110': 174, '00101': 5323, '00000': 5298, '00110': 173, '01111': 162, '11010': 168, '00010': 164, '10111': 148, '10011': 171, '10010': 173}\n",
      "check 2 0.9691602793443033 88653\n",
      "{'00101': 5351, '01000': 5351, '11000': 5437, '10101': 5286, '00000': 5264, '00001': 5341, '10100': 5312, '11101': 5377, '11100': 5373, '11001': 5500, '01101': 5388, '10000': 5425, '10001': 5248, '00100': 5355, '01100': 5361, '01001': 5399}\n",
      "check 3 0.9999135091224001 85768\n",
      "{'01010': 79, '11010': 63, '10111': 63, '00111': 92, '00001': 4975, '01001': 5054, '01110': 88, '01000': 4929, '00101': 4842, '01100': 4923, '00011': 100, '11100': 4919, '11110': 79, '01101': 4919, '10101': 4996, '10001': 5095, '10010': 87, '11101': 4943, '10011': 81, '11001': 4885, '11111': 79, '10000': 4878, '00100': 4919, '10100': 4826, '11011': 76, '00110': 101, '00000': 4877, '00010': 93, '11000': 4793, '01011': 92, '01111': 83, '10110': 67}\n",
      "check 4 0.9833579884245136 80096\n",
      "{'11110': 60, '11011': 52, '00111': 59, '00100': 4922, '10011': 52, '00000': 4929, '01011': 63, '10110': 56, '01111': 49, '10111': 49, '00001': 4795, '01100': 4739, '11101': 4923, '01110': 64, '10010': 46, '01001': 4870, '11001': 4934, '10101': 4787, '11100': 4802, '01101': 4818, '10100': 4893, '11000': 4868, '00010': 51, '11111': 55, '01010': 59, '10000': 4845, '01000': 4888, '11010': 71, '00110': 57, '00011': 62, '00101': 4830, '10001': 4703}\n",
      "check 5 0.9883653996384806 78451\n"
     ]
    }
   ],
   "source": [
    "single_side = False\n",
    "for check_count in range(1, qubits + 1):\n",
    "    bit_list = ['1' if i == '+1' else '0' for i in sign_list[check_count - 1::-1]]\n",
    "    meas_pcs_dist = real_dist[check_count - 1]\n",
    "    if single_side is True:\n",
    "        output_dict = complete_postprocess(meas_pcs_dist, qubits, check_count, pr_list)\n",
    "    else:\n",
    "        output_dict = meas_pcs_dist\n",
    "    filted_dist = filter_results(output_dict, qubits, [i for i in range(0, check_count)], bit_list)\n",
    "    print(filted_dist)\n",
    "    print(\"check\", check_count, hf(norm_dict(filted_dist), norm_dict(ideal_dist)), total_counts(filted_dist))"
   ]
  },
  {
   "cell_type": "code",
   "execution_count": null,
   "id": "d5c9b272",
   "metadata": {},
   "outputs": [],
   "source": []
  },
  {
   "cell_type": "code",
   "execution_count": null,
   "id": "2862e138",
   "metadata": {},
   "outputs": [],
   "source": []
  }
 ],
 "metadata": {
  "kernelspec": {
   "display_name": "Python 3 (ipykernel)",
   "language": "python",
   "name": "python3"
  },
  "language_info": {
   "codemirror_mode": {
    "name": "ipython",
    "version": 3
   },
   "file_extension": ".py",
   "mimetype": "text/x-python",
   "name": "python",
   "nbconvert_exporter": "python",
   "pygments_lexer": "ipython3",
   "version": "3.7.11"
  }
 },
 "nbformat": 4,
 "nbformat_minor": 5
}
