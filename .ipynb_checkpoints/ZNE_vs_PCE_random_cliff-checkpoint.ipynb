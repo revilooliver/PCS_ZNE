{
 "cells": [
  {
   "cell_type": "markdown",
   "id": "e0ce0df0-ab0c-4542-a424-c7a5c35a7c54",
   "metadata": {},
   "source": [
    "Mitq tutorial: https://mitiq.readthedocs.io/en/stable/examples/ibmq-backends.html"
   ]
  },
  {
   "cell_type": "markdown",
   "id": "27b6e32623f053a5",
   "metadata": {},
   "source": [
    "# Imports"
   ]
  },
  {
   "cell_type": "code",
   "execution_count": null,
   "id": "2c5bab06-e04b-4dee-ab22-6aa89f4a095b",
   "metadata": {
    "ExecuteTime": {
     "end_time": "2025-05-07T19:32:47.730576Z",
     "start_time": "2025-05-07T19:32:46.134052Z"
    }
   },
   "outputs": [],
   "source": [
    "import numpy as np\n",
    "\n",
    "from qiskit_ibm_runtime import QiskitRuntimeService\n",
    "from qiskit_aer import AerSimulator\n",
    "import qiskit_aer.noise as noise\n",
    "\n",
    "from utils.pce_vs_zne_utils import *\n",
    "\n",
    "from qiskit import *\n",
    "\n",
    "from utils.pauli_checks import convert_to_PCS_circ # new util\n",
    "\n",
    "from mitiq import zne\n",
    "\n",
    "from utils.pce_vs_zne_utils import *\n",
    "\n",
    "from qiskit_ibm_runtime.fake_provider import *\n",
    "from qiskit_aer import AerSimulator\n",
    "\n",
    "np.set_printoptions(precision=6, edgeitems=10, linewidth=150, suppress=True)"
   ]
  },
  {
   "cell_type": "markdown",
   "id": "327318b6-e3d7-47b5-a3cf-90bb448db9ca",
   "metadata": {},
   "source": [
    "#### Backend settings"
   ]
  },
  {
   "cell_type": "code",
   "execution_count": null,
   "id": "3958caf4-1244-43a3-9db8-dd8d90359f69",
   "metadata": {
    "ExecuteTime": {
     "end_time": "2025-05-07T19:32:47.814758Z",
     "start_time": "2025-05-07T19:32:47.813311Z"
    }
   },
   "outputs": [],
   "source": [
    "USE_REAL_HARDWARE = False"
   ]
  },
  {
   "cell_type": "code",
   "execution_count": null,
   "id": "6df8a972",
   "metadata": {},
   "outputs": [],
   "source": [
    "# Fake backend noise model\n",
    "# fake_backend = FakeMelbourneV2()\n",
    "# noise_model = noise.NoiseModel.from_backend(fake_backend)"
   ]
  },
  {
   "cell_type": "code",
   "execution_count": null,
   "id": "1c88a86a-955e-473b-af03-7bfb1b688405",
   "metadata": {
    "ExecuteTime": {
     "end_time": "2025-05-07T19:32:47.826551Z",
     "start_time": "2025-05-07T19:32:47.821851Z"
    }
   },
   "outputs": [],
   "source": [
    "# Custom nosie model\n",
    "prob_1 = 1e-3 # 1-qubit gate\n",
    "prob_2 = 1e-2  # 2-qubit gate\n",
    "\n",
    "error_1 = noise.depolarizing_error(prob_1, 1)\n",
    "error_2 = noise.depolarizing_error(prob_2, 2)\n",
    "\n",
    "noise_model = noise.NoiseModel()\n",
    "noise_model.add_all_qubit_quantum_error(error_1, ['u1', 'u2', 'u3', 'sx', 'x'])\n",
    "noise_model.add_all_qubit_quantum_error(error_2, ['cx'])\n",
    "\n",
    "# test set\n",
    "# noise_model.add_all_qubit_quantum_error(error_1, ['z', 'y', 'x', 's', 'sdg', 'h'])\n",
    "# noise_model.add_all_qubit_quantum_error(error_2, ['cx'])"
   ]
  },
  {
   "cell_type": "code",
   "execution_count": null,
   "id": "68a587247a4da63",
   "metadata": {
    "ExecuteTime": {
     "end_time": "2025-05-07T19:32:52.269528Z",
     "start_time": "2025-05-07T19:32:48.113086Z"
    }
   },
   "outputs": [],
   "source": [
    "service = QiskitRuntimeService()\n",
    "print(service.instances())"
   ]
  },
  {
   "cell_type": "code",
   "execution_count": null,
   "id": "8e79eb0f-7149-46dd-9def-b5dcb94c90ad",
   "metadata": {
    "ExecuteTime": {
     "end_time": "2025-05-07T19:32:52.282708Z",
     "start_time": "2025-05-07T19:32:52.279624Z"
    }
   },
   "outputs": [],
   "source": [
    "if QiskitRuntimeService.saved_accounts() and USE_REAL_HARDWARE:\n",
    "    service = QiskitRuntimeService()\n",
    "    backend = service.least_busy(operational=True, simulator=False)\n",
    "    noise_model = False\n",
    "else:\n",
    "    backend = AerSimulator(noise_model=noise_model, method=\"stabilizer\")\n",
    "\n",
    "print(backend)"
   ]
  },
  {
   "cell_type": "markdown",
   "id": "4d014b5b-47aa-4ef5-a6a0-265b85b23c6e",
   "metadata": {},
   "source": [
    "# Setup"
   ]
  },
  {
   "cell_type": "code",
   "execution_count": null,
   "id": "b6ed435ae8188c1a",
   "metadata": {
    "ExecuteTime": {
     "end_time": "2025-05-07T19:58:10.752619Z",
     "start_time": "2025-05-07T19:58:10.749707Z"
    }
   },
   "outputs": [],
   "source": [
    "# circuit parameters\n",
    "num_qubits = 14\n",
    "circuit_depth = 40\n",
    "num_circs = 20\n",
    "\n",
    "# observable we're estimating\n",
    "pauli_string = 'Z' * num_qubits\n",
    "\n",
    "# pce parameters\n",
    "num_checks = num_qubits//2\n",
    "print(f\"num_checks = {num_checks}\")\n",
    "num_checks_to_fit = num_checks\n",
    "extrap_checks = range(num_checks_to_fit + 1, num_qubits + 1)\n",
    "only_Z_checks = True\n",
    "\n",
    "# number of shots per check layer\n",
    "shots_per_check = 10_000\n",
    "\n",
    "# zne parameters\n",
    "verbose = True"
   ]
  },
  {
   "cell_type": "code",
   "execution_count": null,
   "id": "8e9e4aadabfbcef3",
   "metadata": {
    "ExecuteTime": {
     "end_time": "2025-05-07T20:01:46.132117Z",
     "start_time": "2025-05-07T19:58:13.580126Z"
    }
   },
   "outputs": [],
   "source": [
    "# cliff_circs = random_cliff_mirror_circs(num_qubits, num_circs)\n",
    "cliff_circs = random_cliff_circs(num_qubits, circuit_depth, num_circs, pauli_string)\n",
    "print(len(cliff_circs))\n",
    "cliff_circs[-1].draw(\"mpl\", fold=-1)"
   ]
  },
  {
   "cell_type": "code",
   "execution_count": null,
   "id": "9e6df0ec385fda1",
   "metadata": {
    "ExecuteTime": {
     "end_time": "2025-05-07T20:01:46.460275Z",
     "start_time": "2025-05-07T20:01:46.315672Z"
    }
   },
   "outputs": [],
   "source": [
    "ideal_expectations = []\n",
    "for circ in cliff_circs:\n",
    "    ideal_expect = get_ideal_expectation(circ, pauli_string)\n",
    "    ideal_expectations.append(ideal_expect)\n",
    "\n",
    "print(ideal_expectations)"
   ]
  },
  {
   "cell_type": "code",
   "execution_count": null,
   "id": "476fa8b195b02dfd",
   "metadata": {
    "ExecuteTime": {
     "end_time": "2025-05-07T20:02:03.896727Z",
     "start_time": "2025-05-07T20:01:46.607155Z"
    },
    "scrolled": true
   },
   "outputs": [],
   "source": [
    "pcs_circs = [[] for _ in range(num_circs)]\n",
    "signs_list = [[] for _ in range(num_circs)]\n",
    "\n",
    "for i, circ in enumerate(cliff_circs):\n",
    "    print(\"i =\", i+1, \"out of\", num_circs)\n",
    "    for check_id in range(1, num_checks + 1):\n",
    "        print(\"check_id =\", check_id)\n",
    "        sign, pcs_circ = convert_to_PCS_circ(circ, num_qubits, check_id, only_Z_checks=only_Z_checks, barriers=True)\n",
    "        pcs_circs[i].append(pcs_circ)\n",
    "        signs_list[i].append(sign)\n",
    "\n",
    "print(len(pcs_circs))\n",
    "print(len(pcs_circs[0]))\n",
    "# print(signs_list)\n",
    "\n",
    "# pcs_circs[0][0].draw(\"mpl\", fold=-1)"
   ]
  },
  {
   "cell_type": "markdown",
   "id": "8519e535bbc107a",
   "metadata": {},
   "source": [
    "# Run Tests"
   ]
  },
  {
   "cell_type": "code",
   "execution_count": null,
   "id": "fca23d6cad8fab7e",
   "metadata": {
    "ExecuteTime": {
     "end_time": "2025-05-07T20:04:48.178296Z",
     "start_time": "2025-05-07T20:02:04.084068Z"
    },
    "scrolled": true
   },
   "outputs": [],
   "source": [
    "# Updated ZNE tests: sweeping over methods, scale factor sets, and folding techniques\n",
    "\n",
    "# List of ZNE methods\n",
    "zne_methods_list = [\"linear\", \"richardson\"]\n",
    "\n",
    "# List of scale factor sets to test\n",
    "scale_factors_list = [\n",
    "    [1, 1.1, 1.2],\n",
    "    [1, 3, 5],\n",
    "    [1, 2, 3, 4, 5],\n",
    "    [1, 1.1, 1.2, 1.3, 1.4]\n",
    "    # You can add additional scale factor sets here\n",
    "]\n",
    "\n",
    "# List of folding techniques (global and local)\n",
    "# fold_methods_list = [zne.scaling.fold_global, zne.scaling.fold_gates_at_random]\n",
    "fold_methods_list = [zne.scaling.fold_gates_at_random]\n",
    "\n",
    "# Dictionary to store the averaged errors\n",
    "zne_avg_errors = {}\n",
    "\n",
    "# Iterate over each ZNE method, scale factors set, and fold method\n",
    "for zne_m in zne_methods_list:\n",
    "    for scale_factors in scale_factors_list:\n",
    "        # Automatically skip tests if using Richardson with non-integer scale factors.\n",
    "        if zne_m == \"richardson\" and not all(isinstance(sf, int) for sf in scale_factors):\n",
    "            print(f\"Skipping test for method: {zne_m}, scale factors: {scale_factors}\"\n",
    "                  \"because partial folding (non-integer scale factors) is not supported with Richardson extrapolation.\")\n",
    "            continue\n",
    "\n",
    "        for fold_method in fold_methods_list:\n",
    "            print(f\"Running ZNE tests with method: {zne_m}, scale factors: {scale_factors}, fold method: {fold_method.__name__}\")\n",
    "            zne_abs_errors = []\n",
    "\n",
    "            zne_shots_per_circ = (shots_per_check * num_checks_to_fit) // len(scale_factors)\n",
    "            print(f\"ZNE shots per circuit: {zne_shots_per_circ}\")\n",
    "\n",
    "            # Run the circuits for the current combination\n",
    "            for i, circ in enumerate(cliff_circs):\n",
    "                zne_exp = mitigate_zne(\n",
    "                    circ,\n",
    "                    backend,\n",
    "                    pauli_string,\n",
    "                    shots = zne_shots_per_circ,\n",
    "                    method=zne_m,\n",
    "                    scale_factors=scale_factors,\n",
    "                    fold_method=fold_method,\n",
    "                )\n",
    "                print(f\"ZNE ({zne_m}, scale_factors={scale_factors}, fold_method={fold_method.__name__}) mitigated exp for {pauli_string}: {zne_exp}\")\n",
    "                print(f\"Ideal expectation = {ideal_expectations[i]}\")\n",
    "\n",
    "                abs_error = np.abs(ideal_expectations[i] - zne_exp)\n",
    "                zne_abs_errors.append(abs_error)\n",
    "\n",
    "            avg_error = np.mean(zne_abs_errors)\n",
    "            key = f\"ZNE_{zne_m}_{'_'.join(str(s) for s in scale_factors)}_{fold_method.__name__}\"\n",
    "            zne_avg_errors[key] = avg_error\n",
    "            print(f\"Average absolute error for {key}: {avg_error:.5f}\\n\")\n",
    "\n",
    "print(\"Final ZNE results:\")\n",
    "print(zne_avg_errors)"
   ]
  },
  {
   "cell_type": "code",
   "execution_count": null,
   "id": "4cbe66543f82131a",
   "metadata": {
    "ExecuteTime": {
     "end_time": "2025-05-07T20:21:26.756035Z",
     "start_time": "2025-05-07T20:04:48.502084Z"
    },
    "scrolled": true
   },
   "outputs": [],
   "source": [
    "# List of extrapolation methods to test: linear and exponential\n",
    "extrapolation_methods = [\"linear\", \"exponential\"]\n",
    "\n",
    "# Dictionary to store the averaged errors for PCE\n",
    "pce_avg_errors = {}\n",
    "\n",
    "# Loop over each extrapolation method\n",
    "for ext_method in extrapolation_methods:\n",
    "    pce_abs_errors = []\n",
    "    print(f\"\\nProcessing PCE with extrapolation method: {ext_method}\\n\")\n",
    "\n",
    "    # Loop over each circuit\n",
    "    for i, cliff_circ in enumerate(cliff_circs):\n",
    "        print(f\"Processing PCE for circuit {i+1} out of {num_circs}\")\n",
    "        expectation_values = []\n",
    "\n",
    "        # Loop over each number of checks for the current circuit\n",
    "        for j in range(num_checks):\n",
    "            pcs_circ = pcs_circs[i][j]\n",
    "            signs = signs_list[i][j]\n",
    "            expectation_value = ibmq_executor_pcs(\n",
    "                pcs_circ,\n",
    "                backend=backend,\n",
    "                pauli_string=pauli_string,\n",
    "                num_qubits=num_qubits,\n",
    "                signs=signs\n",
    "            )\n",
    "            expectation_values.append(expectation_value)\n",
    "\n",
    "        print(f\"Expectation values: {expectation_values}\")\n",
    "\n",
    "        # Extrapolate the expectation values using the current extrapolation method\n",
    "        extrapolated_values, poly = extrapolate_checks(\n",
    "            num_checks_to_fit,\n",
    "            extrap_checks,\n",
    "            expectation_values,\n",
    "            method=ext_method\n",
    "        )\n",
    "        pce_exp = extrapolated_values[-1]\n",
    "\n",
    "        print(f\"PCE exp for {pauli_string} using {ext_method}: {pce_exp}\")\n",
    "        print(f\"Ideal expectation = {ideal_expectations[i]}\")\n",
    "\n",
    "        abs_error = np.abs(ideal_expectations[i] - pce_exp)\n",
    "        print(f\"Absolute error = {abs_error}\\n\")\n",
    "        pce_abs_errors.append(abs_error)\n",
    "\n",
    "    # Compute average absolute error for the current extrapolation method\n",
    "    pce_avg_error = np.mean(pce_abs_errors)\n",
    "    key = f\"PCE_{ext_method}\"\n",
    "    pce_avg_errors[key] = pce_avg_error\n",
    "    print(f\"Average absolute error for {key}: {pce_avg_error:.5f}\\n\")\n",
    "\n",
    "print(\"Final PCE results:\")\n",
    "print(pce_avg_errors)"
   ]
  },
  {
   "cell_type": "code",
   "execution_count": null,
   "id": "de3b39f3bf1aec09",
   "metadata": {
    "ExecuteTime": {
     "end_time": "2025-05-07T20:21:26.881443Z",
     "start_time": "2025-05-07T20:21:26.878920Z"
    }
   },
   "outputs": [],
   "source": [
    "# Combine all errors in a single dictionary\n",
    "avg_errors = zne_avg_errors.copy()\n",
    "avg_errors.update(pce_avg_errors)\n",
    "\n",
    "print(avg_errors)"
   ]
  },
  {
   "cell_type": "code",
   "execution_count": null,
   "id": "8219204bc02e65b7",
   "metadata": {
    "ExecuteTime": {
     "end_time": "2025-05-07T20:21:26.989916Z",
     "start_time": "2025-05-07T20:21:26.986978Z"
    }
   },
   "outputs": [],
   "source": [
    "circ_folder = \"data_PCE_vs_ZNE/rand_cliffs\"\n",
    "file_name = f\"avg_errors_n={num_qubits}_d={circuit_depth}_num_circs={num_circs}_num_samp={10_000}.csv\"\n",
    "save_avg_errors(circ_folder, file_name, avg_errors, overwrite=True)"
   ]
  },
  {
   "cell_type": "markdown",
   "id": "d486db1b92a04b1e",
   "metadata": {},
   "source": [
    "# Plots"
   ]
  },
  {
   "cell_type": "code",
   "execution_count": null,
   "id": "f54cd41a9521a95b",
   "metadata": {
    "ExecuteTime": {
     "end_time": "2025-05-07T20:23:22.161223Z",
     "start_time": "2025-05-07T20:23:21.927571Z"
    }
   },
   "outputs": [],
   "source": [
    "# Set the directory and parameters to match your saved CSV file.\n",
    "data_dir = \"data_PCE_vs_ZNE/rand_cliffs\"\n",
    "num_circs = 20\n",
    "# depth = 10\n",
    "depth = circuit_depth\n",
    "num_samples = 10_000\n",
    "\n",
    "# Load the saved average errors.\n",
    "data = load_avg_errors(data_dir, num_circs=num_circs, num_samples=num_samples, depth=depth)\n",
    "print(\"Loaded data:\")\n",
    "print(data)\n",
    "\n",
    "# Plot the data.\n",
    "plot_save_path = os.path.join(data_dir, f\"error_plot_num_circs={num_circs}_num_samps={num_samples}_d={depth}.png\")\n",
    "plot_avg_errors_by_qubit(data, num_samples=num_samples, num_circs=num_circs, depth=depth, save_path=plot_save_path)"
   ]
  },
  {
   "cell_type": "code",
   "execution_count": null,
   "id": "6dded62a271504c7",
   "metadata": {},
   "outputs": [],
   "source": []
  }
 ],
 "metadata": {
  "kernelspec": {
   "display_name": "Python [conda env:pcs]",
   "language": "python",
   "name": "conda-env-pcs-py"
  },
  "language_info": {
   "codemirror_mode": {
    "name": "ipython",
    "version": 3
   },
   "file_extension": ".py",
   "mimetype": "text/x-python",
   "name": "python",
   "nbconvert_exporter": "python",
   "pygments_lexer": "ipython3",
   "version": "3.12.7"
  }
 },
 "nbformat": 4,
 "nbformat_minor": 5
}
