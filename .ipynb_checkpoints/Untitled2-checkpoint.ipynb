{
 "cells": [
  {
   "cell_type": "code",
   "execution_count": 2,
   "id": "07f819b0-2ec5-4f1c-a14e-7473738701a2",
   "metadata": {},
   "outputs": [],
   "source": [
    "import time, random\n",
    "import numpy as np\n",
    "# import pennylane as qml\n",
    "# from qiskit import Aer, transpile, execute\n",
    "from qiskit.circuit import QuantumCircuit\n",
    "from qiskit.quantum_info import random_clifford, Pauli, Statevector\n",
    "import matplotlib.pyplot as plt\n",
    "\n",
    "np.set_printoptions(precision=6, edgeitems=10, linewidth=150, suppress=True)"
   ]
  },
  {
   "cell_type": "code",
   "execution_count": 5,
   "id": "2c3def47-748f-4cd5-bfff-60f22e4ba79c",
   "metadata": {},
   "outputs": [],
   "source": [
    "import qiskit\n",
    "import itertools\n",
    "from qiskit import *\n",
    "from qiskit.quantum_info import Clifford, random_clifford\n",
    "from qiskit.synthesis import synth_clifford_full\n",
    "from qiskit.quantum_info import hellinger_fidelity as hf\n",
    "\n",
    "from utils.pauli_checks import ChecksFinder, add_pauli_checks, add_meas_pauli_checks, add_linear_meas_pauli_checks,  search_for_pauli_list\n",
    "from utils.pauli_checks import gen_initial_layout, gen_final_layout, filter_results, pauli_strings_commute\n",
    "\n",
    "from utils.utils import norm_dict, total_counts\n",
    "# from utils.vqe_utils import evaluation\n",
    "from utils.postprocess import singlecheck_postprocess, rightchecks_postprocess, filter_results_reindex"
   ]
  },
  {
   "cell_type": "markdown",
   "id": "e4002634-170a-4e35-a7de-e92b72919fd1",
   "metadata": {},
   "source": [
    "#### Generate Circuit"
   ]
  },
  {
   "cell_type": "code",
   "execution_count": 62,
   "id": "9ff26ff7-d4e6-44bb-8d20-defcc7770d76",
   "metadata": {},
   "outputs": [
    {
     "name": "stdout",
     "output_type": "stream",
     "text": [
      "               ┌───┐     ┌───┐                                           \n",
      "q_0: ──────────┤ X ├──■──┤ Y ├───────────────────────────────────────────\n",
      "     ┌───┐     └─┬─┘  │  └───┘          ┌───┐┌───┐        ┌───┐          \n",
      "q_1: ┤ H ├───────┼────┼─────────────────┤ X ├┤ H ├─X───■──┤ Z ├──────────\n",
      "     └───┘       │  ┌─┴─┐┌───┐┌───┐     └─┬─┘├───┤ │   │  └───┘          \n",
      "q_2: ───────■────┼──┤ X ├┤ H ├┤ S ├──■────■──┤ Y ├─┼───┼─────────────────\n",
      "     ┌───┐┌─┴─┐  │  └───┘└───┘└───┘┌─┴─┐     └───┘ │ ┌─┴─┐┌───┐┌───┐┌───┐\n",
      "q_3: ┤ S ├┤ X ├──■─────────────────┤ X ├───────────X─┤ X ├┤ S ├┤ H ├┤ X ├\n",
      "     └───┘└───┘                    └───┘             └───┘└───┘└───┘└───┘\n"
     ]
    }
   ],
   "source": [
    "num_qubits = 4\n",
    "Clifford = random_clifford(num_qubits)\n",
    "circuit = Clifford.to_circuit()\n",
    "print(circuit)"
   ]
  },
  {
   "cell_type": "markdown",
   "id": "9f7b9784-2083-4b05-b027-81b4f5323669",
   "metadata": {},
   "source": [
    "#### Apply Checks"
   ]
  },
  {
   "cell_type": "code",
   "execution_count": 65,
   "id": "d0756b6c-1824-4a18-a0be-424a72d281f2",
   "metadata": {},
   "outputs": [
    {
     "name": "stdout",
     "output_type": "stream",
     "text": [
      "[['-1ZZIZ', '+1IIIZ'], ['-1XYII', '+1IIZI'], ['+1YXII', '+1IZII'], ['+1ZZYI', '+1ZIII']]\n"
     ]
    }
   ],
   "source": [
    "characters = ['I', 'Z']\n",
    "strings = [''.join(p) for p in itertools.product(characters, repeat=num_qubits)]\n",
    "\n",
    "test_finder = ChecksFinder(num_qubits, circuit)\n",
    "p1_list = []\n",
    "for string in strings:\n",
    "    string_list = list(string)\n",
    "    result = test_finder.find_checks_sym(pauli_group_elem = string_list)\n",
    "    #print(result.p1_str, result.p2_str)\n",
    "    p1_list.append([result.p1_str, result.p2_str])\n",
    "    \n",
    "sorted_list = sorted(p1_list, key=lambda s: s[1].count('I'))\n",
    "pauli_list = sorted_list[-num_qubits -1:-1]\n",
    "print(pauli_list)"
   ]
  },
  {
   "cell_type": "code",
   "execution_count": 67,
   "id": "dd026414-4438-46c1-b502-cb07ef1b5aa1",
   "metadata": {},
   "outputs": [],
   "source": [
    "initial_layout = {}\n",
    "for i in range(0, num_qubits):\n",
    "    initial_layout[i] = [i]\n",
    "\n",
    "final_layout = {}\n",
    "for i in range(0, num_qubits):\n",
    "    final_layout[i] = [i]"
   ]
  },
  {
   "cell_type": "code",
   "execution_count": 69,
   "id": "858ba798-1046-4083-ae5b-2aa3b401292f",
   "metadata": {},
   "outputs": [],
   "source": [
    "num_checks = 1\n",
    "single_side = False\n",
    "\n",
    "#add pauli check on two sides:\n",
    "#specify the left and right pauli strings\n",
    "pcs_qc_list = []\n",
    "sign_list = []\n",
    "pl_list = []\n",
    "pr_list = []\n",
    "\n",
    "for i in range(0, num_checks):\n",
    "    pl = pauli_list[i][0][2:]\n",
    "    pr = pauli_list[i][1][2:]\n",
    "    if i == 0:\n",
    "        temp_qc = add_pauli_checks(circuit, pl, pr, initial_layout, final_layout, False, single_side, False, False, False, 0)\n",
    "        save_qc = add_pauli_checks(circuit, pl, pr, initial_layout, final_layout, False, single_side, False, False, False, 0)\n",
    "        prev_qc = temp_qc\n",
    "    else:\n",
    "        temp_qc = add_pauli_checks(prev_qc, pl, pr, initial_layout, final_layout, False, single_side, False, False, False, 0)\n",
    "        save_qc = add_pauli_checks(prev_qc, pl, pr, initial_layout, final_layout, False, single_side, False, False, False, 0) \n",
    "        prev_qc = temp_qc\n",
    "    pl_list.append(pl)\n",
    "    pr_list.append(pr)\n",
    "    sign_list.append(pauli_list[i][0][:2])\n",
    "    pcs_qc_list.append(save_qc)"
   ]
  },
  {
   "cell_type": "code",
   "execution_count": 71,
   "id": "f971679e-04f7-44f6-bc49-31504ce03265",
   "metadata": {},
   "outputs": [
    {
     "name": "stdout",
     "output_type": "stream",
     "text": [
      "                                ┌───┐     ┌───┐                               »\n",
      "   q_0: ──────■─────────────────┤ X ├──■──┤ Y ├──────■────────────────────────»\n",
      "        ┌───┐ │                 └─┬─┘  │  └───┘      │      ┌───┐┌───┐        »\n",
      "   q_1: ┤ H ├─┼───────────────────┼────┼─────────────┼──────┤ X ├┤ H ├─X───■──»\n",
      "        └───┘ │                   │  ┌─┴─┐┌───┐┌───┐ │      └─┬─┘├───┤ │   │  »\n",
      "   q_2: ──────┼──■───────────■────┼──┤ X ├┤ H ├┤ S ├─┼───■────■──┤ Y ├─┼───┼──»\n",
      "              │  │    ┌───┐┌─┴─┐  │  └───┘└───┘└───┘ │ ┌─┴─┐     └───┘ │ ┌─┴─┐»\n",
      "   q_3: ──────┼──┼──■─┤ S ├┤ X ├──■──────────────────┼─┤ X ├───────────X─┤ X ├»\n",
      "        ┌───┐ │  │  │ └───┘└───┘                     │ ├───┤             └───┘»\n",
      "   q_4: ┤ H ├─■──■──■────────────────────────────────■─┤ H ├──────────────────»\n",
      "        └───┘                                          └───┘                  »\n",
      "meas: 5/══════════════════════════════════════════════════════════════════════»\n",
      "                                                                              »\n",
      "«                        ░ ┌─┐            \n",
      "«   q_0: ────────────────░─┤M├────────────\n",
      "«        ┌───┐           ░ └╥┘┌─┐         \n",
      "«   q_1: ┤ Z ├───────────░──╫─┤M├─────────\n",
      "«        └───┘           ░  ║ └╥┘┌─┐      \n",
      "«   q_2: ────────────────░──╫──╫─┤M├──────\n",
      "«        ┌───┐┌───┐┌───┐ ░  ║  ║ └╥┘┌─┐   \n",
      "«   q_3: ┤ S ├┤ H ├┤ X ├─░──╫──╫──╫─┤M├───\n",
      "«        └───┘└───┘└───┘ ░  ║  ║  ║ └╥┘┌─┐\n",
      "«   q_4: ────────────────░──╫──╫──╫──╫─┤M├\n",
      "«                        ░  ║  ║  ║  ║ └╥┘\n",
      "«meas: 5/═══════════════════╩══╩══╩══╩══╩═\n",
      "«                           0  1  2  3  4 \n",
      "(['-1'], ['ZZIZ'], ['IIIZ'])\n"
     ]
    }
   ],
   "source": [
    "total_qubits = num_qubits + num_checks\n",
    "qc = QuantumCircuit(total_qubits)\n",
    "\n",
    "qc.compose(pcs_qc_list[-1], qubits=[i for i in range(0, total_qubits)], inplace=True)\n",
    "qc.measure_all()\n",
    "print(qc)\n",
    "print((sign_list, pl_list, pr_list))"
   ]
  },
  {
   "cell_type": "markdown",
   "id": "11eac23a-ca5d-4c3f-a5a1-ae6eee6c661c",
   "metadata": {},
   "source": [
    "#### Compute Expectation"
   ]
  },
  {
   "cell_type": "code",
   "execution_count": null,
   "id": "a3278a41-c4d6-403b-88f4-57d257c6cb0b",
   "metadata": {},
   "outputs": [],
   "source": []
  }
 ],
 "metadata": {
  "kernelspec": {
   "display_name": "Python [conda env:pcs]",
   "language": "python",
   "name": "conda-env-pcs-py"
  },
  "language_info": {
   "codemirror_mode": {
    "name": "ipython",
    "version": 3
   },
   "file_extension": ".py",
   "mimetype": "text/x-python",
   "name": "python",
   "nbconvert_exporter": "python",
   "pygments_lexer": "ipython3",
   "version": "3.12.7"
  }
 },
 "nbformat": 4,
 "nbformat_minor": 5
}
