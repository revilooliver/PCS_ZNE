{
 "cells": [
  {
   "cell_type": "code",
   "execution_count": 1,
   "metadata": {},
   "outputs": [],
   "source": [
    "import numpy as np\n",
    "import os\n",
    "\n",
    "from qiskit_ibm_runtime import QiskitRuntimeService\n",
    "from qiskit_aer import AerSimulator\n",
    "import qiskit_aer.noise as noise\n",
    "\n",
    "from utils.pce_vs_zne_utils import *\n",
    "\n",
    "from qiskit import *\n",
    "\n",
    "from utils.pauli_checks import convert_to_PCS_circ # new util\n",
    "\n",
    "from mitiq import zne\n",
    "\n",
    "from utils.pce_vs_zne_utils import *\n",
    "\n",
    "from qiskit_ibm_runtime.fake_provider import *\n",
    "from qiskit_aer import AerSimulator\n",
    "\n",
    "np.set_printoptions(precision=6, edgeitems=10, linewidth=150, suppress=True)"
   ]
  },
  {
   "cell_type": "code",
   "execution_count": 2,
   "metadata": {},
   "outputs": [],
   "source": [
    "# Custom nosie model\n",
    "prob_1 = 0.01 # 0.0005\n",
    "prob_2 = 0 # 0.005\n",
    "\n",
    "error_1 = noise.depolarizing_error(prob_1, 1)\n",
    "error_2 = noise.depolarizing_error(prob_2, 2)\n",
    "\n",
    "noise_model = noise.NoiseModel()\n",
    "noise_model.add_all_qubit_quantum_error(error_1, ['u1', 'u2', 'u3', 'sx', 'x'])\n",
    "# noise_model.add_all_qubit_quantum_error(error_1, ['x'])\n",
    "noise_model.add_all_qubit_quantum_error(error_2, ['cx'])\n",
    "\n",
    "backend = AerSimulator(noise_model=noise_model, method=\"stabilizer\")"
   ]
  },
  {
   "cell_type": "code",
   "execution_count": 3,
   "metadata": {},
   "outputs": [
    {
     "data": {
      "image/png": "[encoded data removed]",
      "text/plain": [
       "<Figure size 1792.5x284.278 with 1 Axes>"
      ]
     },
     "execution_count": 3,
     "metadata": {},
     "output_type": "execute_result"
    }
   ],
   "source": [
    "num_qubits = 3\n",
    "\n",
    "p = 20\n",
    "qc = QuantumCircuit(num_qubits)\n",
    "for _ in range(p):\n",
    "    for i in range(num_qubits):\n",
    "        qc.x(i)\n",
    "\n",
    "qc.draw(\"mpl\", fold=-1)"
   ]
  },
  {
   "cell_type": "code",
   "execution_count": 4,
   "metadata": {},
   "outputs": [
    {
     "name": "stdout",
     "output_type": "stream",
     "text": [
      "[['+1'], ['+1', '+1'], ['+1', '+1', '+1']]\n"
     ]
    }
   ],
   "source": [
    "only_Z_checks = True\n",
    "\n",
    "num_checks = 3\n",
    "\n",
    "pcs_circs = []\n",
    "signs_list = []\n",
    "for cid in range(1, num_checks + 1):\n",
    "    sign, pcs = convert_to_PCS_circ(\n",
    "        qc, num_qubits, cid,\n",
    "        only_Z_checks=only_Z_checks,\n",
    "        barriers=True\n",
    "    )\n",
    "    pcs_circs.append(pcs)\n",
    "    signs_list.append(sign)\n",
    "\n",
    "print(signs_list)"
   ]
  },
  {
   "cell_type": "code",
   "execution_count": 5,
   "metadata": {},
   "outputs": [
    {
     "name": "stdout",
     "output_type": "stream",
     "text": [
      "              ░ ┌───┐┌───┐┌───┐┌───┐┌───┐┌───┐┌───┐┌───┐┌───┐┌───┐┌───┐┌───┐»\n",
      "q_0: ──────■──░─┤ X ├┤ X ├┤ X ├┤ X ├┤ X ├┤ X ├┤ X ├┤ X ├┤ X ├┤ X ├┤ X ├┤ X ├»\n",
      "           │  ░ ├───┤├───┤├───┤├───┤├───┤├───┤├───┤├───┤├───┤├───┤├───┤├───┤»\n",
      "q_1: ──────┼──░─┤ X ├┤ X ├┤ X ├┤ X ├┤ X ├┤ X ├┤ X ├┤ X ├┤ X ├┤ X ├┤ X ├┤ X ├»\n",
      "           │  ░ ├───┤├───┤├───┤├───┤├───┤├───┤├───┤├───┤├───┤├───┤├───┤├───┤»\n",
      "q_2: ──────┼──░─┤ X ├┤ X ├┤ X ├┤ X ├┤ X ├┤ X ├┤ X ├┤ X ├┤ X ├┤ X ├┤ X ├┤ X ├»\n",
      "     ┌───┐ │  ░ └───┘└───┘└───┘└───┘└───┘└───┘└───┘└───┘└───┘└───┘└───┘└───┘»\n",
      "q_3: ┤ H ├─■──░─────────────────────────────────────────────────────────────»\n",
      "     └───┘    ░                                                             »\n",
      "«     ┌───┐┌───┐┌───┐┌───┐┌───┐┌───┐┌───┐┌───┐ ░         \n",
      "«q_0: ┤ X ├┤ X ├┤ X ├┤ X ├┤ X ├┤ X ├┤ X ├┤ X ├─░──■──────\n",
      "«     ├───┤├───┤├───┤├───┤├───┤├───┤├───┤├───┤ ░  │      \n",
      "«q_1: ┤ X ├┤ X ├┤ X ├┤ X ├┤ X ├┤ X ├┤ X ├┤ X ├─░──┼──────\n",
      "«     ├───┤├───┤├───┤├───┤├───┤├───┤├───┤├───┤ ░  │      \n",
      "«q_2: ┤ X ├┤ X ├┤ X ├┤ X ├┤ X ├┤ X ├┤ X ├┤ X ├─░──┼──────\n",
      "«     └───┘└───┘└───┘└───┘└───┘└───┘└───┘└───┘ ░  │ ┌───┐\n",
      "«q_3: ─────────────────────────────────────────░──■─┤ H ├\n",
      "«                                              ░    └───┘\n",
      "              ░          ░ ┌───┐┌───┐┌───┐┌───┐┌───┐┌───┐┌───┐┌───┐┌───┐┌───┐»\n",
      "q_0: ─────────░───────■──░─┤ X ├┤ X ├┤ X ├┤ X ├┤ X ├┤ X ├┤ X ├┤ X ├┤ X ├┤ X ├»\n",
      "              ░       │  ░ ├───┤├───┤├───┤├───┤├───┤├───┤├───┤├───┤├───┤├───┤»\n",
      "q_1: ──────■──░───────┼──░─┤ X ├┤ X ├┤ X ├┤ X ├┤ X ├┤ X ├┤ X ├┤ X ├┤ X ├┤ X ├»\n",
      "           │  ░       │  ░ ├───┤├───┤├───┤├───┤├───┤├───┤├───┤├───┤├───┤├───┤»\n",
      "q_2: ──────┼──░───────┼──░─┤ X ├┤ X ├┤ X ├┤ X ├┤ X ├┤ X ├┤ X ├┤ X ├┤ X ├┤ X ├»\n",
      "           │  ░ ┌───┐ │  ░ └───┘└───┘└───┘└───┘└───┘└───┘└───┘└───┘└───┘└───┘»\n",
      "q_3: ──────┼──░─┤ H ├─■──░───────────────────────────────────────────────────»\n",
      "     ┌───┐ │  ░ └───┘    ░                                                   »\n",
      "q_4: ┤ H ├─■──░──────────────────────────────────────────────────────────────»\n",
      "     └───┘    ░                                                              »\n",
      "«     ┌───┐┌───┐┌───┐┌───┐┌───┐┌───┐┌───┐┌───┐┌───┐┌───┐ ░          ░         \n",
      "«q_0: ┤ X ├┤ X ├┤ X ├┤ X ├┤ X ├┤ X ├┤ X ├┤ X ├┤ X ├┤ X ├─░──■───────░─────────\n",
      "«     ├───┤├───┤├───┤├───┤├───┤├───┤├───┤├───┤├───┤├───┤ ░  │       ░         \n",
      "«q_1: ┤ X ├┤ X ├┤ X ├┤ X ├┤ X ├┤ X ├┤ X ├┤ X ├┤ X ├┤ X ├─░──┼───────░──■──────\n",
      "«     ├───┤├───┤├───┤├───┤├───┤├───┤├───┤├───┤├───┤├───┤ ░  │       ░  │      \n",
      "«q_2: ┤ X ├┤ X ├┤ X ├┤ X ├┤ X ├┤ X ├┤ X ├┤ X ├┤ X ├┤ X ├─░──┼───────░──┼──────\n",
      "«     └───┘└───┘└───┘└───┘└───┘└───┘└───┘└───┘└───┘└───┘ ░  │ ┌───┐ ░  │      \n",
      "«q_3: ───────────────────────────────────────────────────░──■─┤ H ├─░──┼──────\n",
      "«                                                        ░    └───┘ ░  │ ┌───┐\n",
      "«q_4: ──────────────────────────────────────────────────────────────░──■─┤ H ├\n",
      "«                                                                   ░    └───┘\n",
      "              ░          ░          ░ ┌───┐┌───┐┌───┐┌───┐┌───┐┌───┐┌───┐┌───┐»\n",
      "q_0: ─────────░──────────░───────■──░─┤ X ├┤ X ├┤ X ├┤ X ├┤ X ├┤ X ├┤ X ├┤ X ├»\n",
      "              ░          ░       │  ░ ├───┤├───┤├───┤├───┤├───┤├───┤├───┤├───┤»\n",
      "q_1: ─────────░───────■──░───────┼──░─┤ X ├┤ X ├┤ X ├┤ X ├┤ X ├┤ X ├┤ X ├┤ X ├»\n",
      "              ░       │  ░       │  ░ ├───┤├───┤├───┤├───┤├───┤├───┤├───┤├───┤»\n",
      "q_2: ──────■──░───────┼──░───────┼──░─┤ X ├┤ X ├┤ X ├┤ X ├┤ X ├┤ X ├┤ X ├┤ X ├»\n",
      "           │  ░       │  ░ ┌───┐ │  ░ └───┘└───┘└───┘└───┘└───┘└───┘└───┘└───┘»\n",
      "q_3: ──────┼──░───────┼──░─┤ H ├─■──░─────────────────────────────────────────»\n",
      "           │  ░ ┌───┐ │  ░ └───┘    ░                                         »\n",
      "q_4: ──────┼──░─┤ H ├─■──░────────────────────────────────────────────────────»\n",
      "     ┌───┐ │  ░ └───┘    ░                                                    »\n",
      "q_5: ┤ H ├─■──░───────────────────────────────────────────────────────────────»\n",
      "     └───┘    ░                                                               »\n",
      "«     ┌───┐┌───┐┌───┐┌───┐┌───┐┌───┐┌───┐┌───┐┌───┐┌───┐┌───┐┌───┐ ░         »\n",
      "«q_0: ┤ X ├┤ X ├┤ X ├┤ X ├┤ X ├┤ X ├┤ X ├┤ X ├┤ X ├┤ X ├┤ X ├┤ X ├─░──■──────»\n",
      "«     ├───┤├───┤├───┤├───┤├───┤├───┤├───┤├───┤├───┤├───┤├───┤├───┤ ░  │      »\n",
      "«q_1: ┤ X ├┤ X ├┤ X ├┤ X ├┤ X ├┤ X ├┤ X ├┤ X ├┤ X ├┤ X ├┤ X ├┤ X ├─░──┼──────»\n",
      "«     ├───┤├───┤├───┤├───┤├───┤├───┤├───┤├───┤├───┤├───┤├───┤├───┤ ░  │      »\n",
      "«q_2: ┤ X ├┤ X ├┤ X ├┤ X ├┤ X ├┤ X ├┤ X ├┤ X ├┤ X ├┤ X ├┤ X ├┤ X ├─░──┼──────»\n",
      "«     └───┘└───┘└───┘└───┘└───┘└───┘└───┘└───┘└───┘└───┘└───┘└───┘ ░  │ ┌───┐»\n",
      "«q_3: ─────────────────────────────────────────────────────────────░──■─┤ H ├»\n",
      "«                                                                  ░    └───┘»\n",
      "«q_4: ───────────────────────────────────────────────────────────────────────»\n",
      "«                                                                            »\n",
      "«q_5: ───────────────────────────────────────────────────────────────────────»\n",
      "«                                                                            »\n",
      "«      ░          ░         \n",
      "«q_0: ─░──────────░─────────\n",
      "«      ░          ░         \n",
      "«q_1: ─░──■───────░─────────\n",
      "«      ░  │       ░         \n",
      "«q_2: ─░──┼───────░──■──────\n",
      "«      ░  │       ░  │      \n",
      "«q_3: ─░──┼───────░──┼──────\n",
      "«      ░  │ ┌───┐ ░  │      \n",
      "«q_4: ─░──■─┤ H ├─░──┼──────\n",
      "«      ░    └───┘ ░  │ ┌───┐\n",
      "«q_5: ────────────░──■─┤ H ├\n",
      "«                 ░    └───┘\n"
     ]
    }
   ],
   "source": [
    "for circ in pcs_circs:\n",
    "    print(circ)"
   ]
  },
  {
   "cell_type": "code",
   "execution_count": 6,
   "metadata": {},
   "outputs": [
    {
     "name": "stdout",
     "output_type": "stream",
     "text": [
      ">>> Circuit ops (ISA): OrderedDict({'x': 60, 'rz': 12, 'sx': 6, 'measure': 4, 'barrier': 3, 'cx': 2})\n",
      "unmitigated counts:  {'0000': 32, '1001': 7, '0100': 3, '1101': 1, '1000': 3, '0010': 3, '0110': 1}\n",
      "signs list =  ['+1']\n",
      "curr sign =  +1\n",
      "error found in:  1001\n",
      "error free =  0\n",
      "ancialla output =  1\n",
      "error found in:  1101\n",
      "error free =  0\n",
      "ancialla output =  1\n",
      "error found in:  1000\n",
      "error free =  0\n",
      "ancialla output =  1\n",
      "filtered counts:  {'000': 32, '100': 3, '010': 3, '110': 1}\n",
      "post selection rate:  0.78\n",
      "number of filtered counts:  39\n",
      ">>> Circuit ops (ISA): OrderedDict({'x': 60, 'rz': 24, 'sx': 12, 'barrier': 5, 'measure': 5, 'cx': 4})\n",
      "unmitigated counts:  {'00000': 31, '01001': 4, '01000': 1, '10010': 5, '10110': 1, '00100': 5, '00001': 2, '00010': 1}\n",
      "signs list =  ['+1', '+1']\n",
      "curr sign =  +1\n",
      "curr sign =  +1\n",
      "error found in:  01001\n",
      "error free =  00\n",
      "ancialla output =  01\n",
      "error found in:  01000\n",
      "error free =  00\n",
      "ancialla output =  01\n",
      "error found in:  10010\n",
      "error free =  00\n",
      "ancialla output =  10\n",
      "error found in:  10110\n",
      "error free =  00\n",
      "ancialla output =  10\n",
      "filtered counts:  {'000': 31, '100': 5, '001': 2, '010': 1}\n",
      "post selection rate:  0.78\n",
      "number of filtered counts:  39\n",
      ">>> Circuit ops (ISA): OrderedDict({'x': 60, 'rz': 36, 'sx': 18, 'barrier': 7, 'cx': 6, 'measure': 6})\n",
      "unmitigated counts:  {'100000': 1, '000000': 33, '000001': 1, '001001': 5, '100100': 4, '010010': 4, '000010': 1, '010110': 1}\n",
      "signs list =  ['+1', '+1', '+1']\n",
      "curr sign =  +1\n",
      "curr sign =  +1\n",
      "curr sign =  +1\n",
      "error found in:  100000\n",
      "error free =  000\n",
      "ancialla output =  100\n",
      "error found in:  001001\n",
      "error free =  000\n",
      "ancialla output =  001\n",
      "error found in:  100100\n",
      "error free =  000\n",
      "ancialla output =  100\n",
      "error found in:  010010\n",
      "error free =  000\n",
      "ancialla output =  010\n",
      "error found in:  010110\n",
      "error free =  000\n",
      "ancialla output =  010\n",
      "filtered counts:  {'000': 33, '001': 1, '010': 1}\n",
      "post selection rate:  0.7\n",
      "number of filtered counts:  35\n",
      "0.6923076923076923\n",
      "0.5897435897435898\n",
      "0.8857142857142857\n"
     ]
    }
   ],
   "source": [
    "shots_per_check = 50\n",
    "pauli_string = 'Z'*num_qubits\n",
    "\n",
    "expectation_values = []\n",
    "for i in range(num_checks):\n",
    "    ev = ibmq_executor_pcs(\n",
    "            pcs_circs[i],\n",
    "            backend=backend,\n",
    "            pauli_string=pauli_string,\n",
    "            num_qubits=num_qubits,\n",
    "            shots=shots_per_check,\n",
    "            signs=signs_list[i]\n",
    "        )\n",
    "    expectation_values.append(ev)\n",
    "    \n",
    "for expectation in expectation_values:\n",
    "    print(expectation)"
   ]
  },
  {
   "cell_type": "code",
   "execution_count": 7,
   "metadata": {},
   "outputs": [
    {
     "name": "stdout",
     "output_type": "stream",
     "text": [
      "(1+0j)\n"
     ]
    }
   ],
   "source": [
    "ideal_expectation = get_ideal_expectation(qc, pauli_string)\n",
    "print(ideal_expectation)"
   ]
  },
  {
   "cell_type": "code",
   "execution_count": 8,
   "metadata": {},
   "outputs": [
    {
     "data": {
      "image/png": "[encoded data removed]",
      "text/plain": [
       "<Figure size 1792.5x284.278 with 1 Axes>"
      ]
     },
     "execution_count": 8,
     "metadata": {},
     "output_type": "execute_result"
    }
   ],
   "source": [
    "qc.draw(\"mpl\", fold=-1)"
   ]
  },
  {
   "cell_type": "code",
   "execution_count": 9,
   "metadata": {},
   "outputs": [
    {
     "name": "stdout",
     "output_type": "stream",
     "text": [
      "ideal (no‐noise) expectation: 1.0\n"
     ]
    }
   ],
   "source": [
    "from qiskit_aer import AerSimulator\n",
    "from qiskit_ibm_runtime import SamplerV2 as Sampler\n",
    "\n",
    "\n",
    "ideal_sim = AerSimulator(method='statevector')\n",
    "\n",
    "measurement_circuit = qc.copy()\n",
    "apply_measurement_basis(measurement_circuit, pauli_string)\n",
    "measurement_circuit.measure_all()\n",
    "\n",
    "sampler = Sampler(mode=ideal_sim)\n",
    "job = sampler.run([measurement_circuit], shots=50_000)\n",
    "results = job.result()\n",
    "counts = results[0].data.meas.get_counts()\n",
    "raw_exp = compute_expectation_value(\n",
    "    counts,\n",
    "    pauli_string\n",
    ")\n",
    "print(\"ideal (no‐noise) expectation:\", raw_exp)\n"
   ]
  },
  {
   "cell_type": "code",
   "execution_count": 15,
   "metadata": {},
   "outputs": [
    {
     "name": "stdout",
     "output_type": "stream",
     "text": [
      ">>> Circuit ops (ISA): OrderedDict({'x': 60, 'rz': 36, 'sx': 18, 'barrier': 7, 'cx': 6, 'measure': 6})\n",
      "unmitigated counts:  {'000000': 27, '010010': 9, '100100': 6, '110110': 1, '101101': 1, '001000': 2, '000001': 1, '001001': 3}\n",
      "signs list =  ['+1', '+1', '+1']\n",
      "curr sign =  +1\n",
      "curr sign =  +1\n",
      "curr sign =  +1\n",
      "error found in:  010010\n",
      "error free =  000\n",
      "ancialla output =  010\n",
      "error found in:  100100\n",
      "error free =  000\n",
      "ancialla output =  100\n",
      "error found in:  110110\n",
      "error free =  000\n",
      "ancialla output =  110\n",
      "error found in:  101101\n",
      "error free =  000\n",
      "ancialla output =  101\n",
      "error found in:  001000\n",
      "error free =  000\n",
      "ancialla output =  001\n",
      "error found in:  001001\n",
      "error free =  000\n",
      "ancialla output =  001\n",
      "filtered counts:  {'000': 27, '001': 1}\n",
      "post selection rate:  0.56\n",
      "number of filtered counts:  28\n",
      ">>> Circuit ops (ISA): OrderedDict({'x': 60, 'rz': 36, 'sx': 18, 'barrier': 7, 'cx': 6, 'measure': 6})\n",
      "unmitigated counts:  {'000000': 37, '001001': 2, '100100': 4, '010010': 5, '001011': 1, '000100': 1}\n",
      "signs list =  ['+1', '+1', '+1']\n",
      "curr sign =  +1\n",
      "curr sign =  +1\n",
      "curr sign =  +1\n",
      "error found in:  001001\n",
      "error free =  000\n",
      "ancialla output =  001\n",
      "error found in:  100100\n",
      "error free =  000\n",
      "ancialla output =  100\n",
      "error found in:  010010\n",
      "error free =  000\n",
      "ancialla output =  010\n",
      "error found in:  001011\n",
      "error free =  000\n",
      "ancialla output =  001\n",
      "filtered counts:  {'000': 37, '100': 1}\n",
      "post selection rate:  0.76\n",
      "number of filtered counts:  38\n",
      ">>> Circuit ops (ISA): OrderedDict({'x': 60, 'rz': 36, 'sx': 18, 'barrier': 7, 'cx': 6, 'measure': 6})\n",
      "unmitigated counts:  {'000000': 35, '100100': 4, '001000': 1, '000100': 2, '010000': 1, '101101': 1, '010010': 2, '001001': 4}\n",
      "signs list =  ['+1', '+1', '+1']\n",
      "curr sign =  +1\n",
      "curr sign =  +1\n",
      "curr sign =  +1\n",
      "error found in:  100100\n",
      "error free =  000\n",
      "ancialla output =  100\n",
      "error found in:  001000\n",
      "error free =  000\n",
      "ancialla output =  001\n",
      "error found in:  010000\n",
      "error free =  000\n",
      "ancialla output =  010\n",
      "error found in:  101101\n",
      "error free =  000\n",
      "ancialla output =  101\n",
      "error found in:  010010\n",
      "error free =  000\n",
      "ancialla output =  010\n",
      "error found in:  001001\n",
      "error free =  000\n",
      "ancialla output =  001\n",
      "filtered counts:  {'000': 35, '100': 2}\n",
      "post selection rate:  0.74\n",
      "number of filtered counts:  37\n",
      ">>> Circuit ops (ISA): OrderedDict({'x': 60, 'rz': 36, 'sx': 18, 'barrier': 7, 'cx': 6, 'measure': 6})\n",
      "unmitigated counts:  {'000000': 36, '100100': 4, '011011': 2, '001001': 4, '010010': 2, '010000': 1, '100000': 1}\n",
      "signs list =  ['+1', '+1', '+1']\n",
      "curr sign =  +1\n",
      "curr sign =  +1\n",
      "curr sign =  +1\n",
      "error found in:  100100\n",
      "error free =  000\n",
      "ancialla output =  100\n",
      "error found in:  011011\n",
      "error free =  000\n",
      "ancialla output =  011\n",
      "error found in:  001001\n",
      "error free =  000\n",
      "ancialla output =  001\n",
      "error found in:  010010\n",
      "error free =  000\n",
      "ancialla output =  010\n",
      "error found in:  010000\n",
      "error free =  000\n",
      "ancialla output =  010\n",
      "error found in:  100000\n",
      "error free =  000\n",
      "ancialla output =  100\n",
      "filtered counts:  {'000': 36}\n",
      "post selection rate:  0.72\n",
      "number of filtered counts:  36\n",
      ">>> Circuit ops (ISA): OrderedDict({'x': 60, 'rz': 36, 'sx': 18, 'barrier': 7, 'cx': 6, 'measure': 6})\n",
      "unmitigated counts:  {'000000': 37, '100100': 3, '010010': 4, '110110': 2, '000001': 1, '000100': 1, '001001': 1, '000010': 1}\n",
      "signs list =  ['+1', '+1', '+1']\n",
      "curr sign =  +1\n",
      "curr sign =  +1\n",
      "curr sign =  +1\n",
      "error found in:  100100\n",
      "error free =  000\n",
      "ancialla output =  100\n",
      "error found in:  010010\n",
      "error free =  000\n",
      "ancialla output =  010\n",
      "error found in:  110110\n",
      "error free =  000\n",
      "ancialla output =  110\n",
      "error found in:  001001\n",
      "error free =  000\n",
      "ancialla output =  001\n",
      "filtered counts:  {'000': 37, '001': 1, '100': 1, '010': 1}\n",
      "post selection rate:  0.8\n",
      "number of filtered counts:  40\n"
     ]
    },
    {
     "data": {
      "image/png": "[encoded data removed]",
      "text/plain": [
       "<Figure size 640x480 with 1 Axes>"
      ]
     },
     "metadata": {},
     "output_type": "display_data"
    }
   ],
   "source": [
    "shots_list = [50, 200, 1_000, 5_000, 50_000]\n",
    "exps = []\n",
    "cid = 3\n",
    "for s in shots_list:\n",
    "    ev = ibmq_executor_pcs(\n",
    "            pcs_circs[cid-1],\n",
    "            backend=backend,\n",
    "            pauli_string=pauli_string,\n",
    "            num_qubits=num_qubits,\n",
    "            shots=shots_per_check,\n",
    "            signs=signs_list[cid-1]\n",
    "        )\n",
    "    exps.append(ev)\n",
    "plt.errorbar(shots_list, exps,\n",
    "             yerr=[np.sqrt((1 - np.array(exps)**2)/np.array(shots_list))],\n",
    "             marker='o')\n",
    "plt.xscale('log')\n",
    "plt.xlabel(\"Shots\"); plt.ylabel(\"⟨Z⟩\"); plt.title(\"Convergence vs shots\")\n",
    "plt.show()\n"
   ]
  },
  {
   "cell_type": "code",
   "execution_count": 11,
   "metadata": {},
   "outputs": [
    {
     "name": "stdout",
     "output_type": "stream",
     "text": [
      "signs list =  ['+1']\n",
      "curr sign =  +1\n",
      "error found in:  10\n",
      "error free =  0\n",
      "ancialla output =  1\n",
      "error found in:  11\n",
      "error free =  0\n",
      "ancialla output =  1\n",
      "filtered: {'0': 25, '1': 25}\n"
     ]
    }
   ],
   "source": [
    "# e.g. qc = QuantumCircuit(1); qc.h(0)\n",
    "# build a single‐check circuit by hand that flips ancilla if outcome should be rejected...\n",
    "counts = {'00': 25, '01': 25, '10': 0, '11': 0}\n",
    "print(\"filtered:\", filter_counts(1, ['+1'], counts))\n",
    "# expect only keys starting with '0' on the check‐bit: {'0':50}\n"
   ]
  },
  {
   "cell_type": "code",
   "execution_count": 12,
   "metadata": {},
   "outputs": [
    {
     "name": "stdout",
     "output_type": "stream",
     "text": [
      "                 ░ ┌───┐┌───┐┌───┐┌───┐┌───┐┌───┐┌───┐┌───┐┌───┐┌───┐┌───┐┌───┐»\n",
      "   q_0: ──────■──░─┤ X ├┤ X ├┤ X ├┤ X ├┤ X ├┤ X ├┤ X ├┤ X ├┤ X ├┤ X ├┤ X ├┤ X ├»\n",
      "              │  ░ ├───┤├───┤├───┤├───┤├───┤├───┤├───┤├───┤├───┤├───┤├───┤├───┤»\n",
      "   q_1: ──────┼──░─┤ X ├┤ X ├┤ X ├┤ X ├┤ X ├┤ X ├┤ X ├┤ X ├┤ X ├┤ X ├┤ X ├┤ X ├»\n",
      "              │  ░ ├───┤├───┤├───┤├───┤├───┤├───┤├───┤├───┤├───┤├───┤├───┤├───┤»\n",
      "   q_2: ──────┼──░─┤ X ├┤ X ├┤ X ├┤ X ├┤ X ├┤ X ├┤ X ├┤ X ├┤ X ├┤ X ├┤ X ├┤ X ├»\n",
      "        ┌───┐ │  ░ └───┘└───┘└───┘└───┘└───┘└───┘└───┘└───┘└───┘└───┘└───┘└───┘»\n",
      "   q_3: ┤ H ├─■──░─────────────────────────────────────────────────────────────»\n",
      "        └───┘    ░                                                             »\n",
      "meas: 4/═══════════════════════════════════════════════════════════════════════»\n",
      "                                                                               »\n",
      "«        ┌───┐┌───┐┌───┐┌───┐┌───┐┌───┐┌───┐┌───┐ ░          ░ ┌─┐         \n",
      "«   q_0: ┤ X ├┤ X ├┤ X ├┤ X ├┤ X ├┤ X ├┤ X ├┤ X ├─░──■───────░─┤M├─────────\n",
      "«        ├───┤├───┤├───┤├───┤├───┤├───┤├───┤├───┤ ░  │       ░ └╥┘┌─┐      \n",
      "«   q_1: ┤ X ├┤ X ├┤ X ├┤ X ├┤ X ├┤ X ├┤ X ├┤ X ├─░──┼───────░──╫─┤M├──────\n",
      "«        ├───┤├───┤├───┤├───┤├───┤├───┤├───┤├───┤ ░  │       ░  ║ └╥┘┌─┐   \n",
      "«   q_2: ┤ X ├┤ X ├┤ X ├┤ X ├┤ X ├┤ X ├┤ X ├┤ X ├─░──┼───────░──╫──╫─┤M├───\n",
      "«        └───┘└───┘└───┘└───┘└───┘└───┘└───┘└───┘ ░  │ ┌───┐ ░  ║  ║ └╥┘┌─┐\n",
      "«   q_3: ─────────────────────────────────────────░──■─┤ H ├─░──╫──╫──╫─┤M├\n",
      "«                                                 ░    └───┘ ░  ║  ║  ║ └╥┘\n",
      "«meas: 4/═══════════════════════════════════════════════════════╩══╩══╩══╩═\n",
      "«                                                               0  1  2  3 \n",
      "ideal PCS circ expectation (no noise): 0.76\n"
     ]
    }
   ],
   "source": [
    "pcs = pcs_circs[0]\n",
    "apply_measurement_basis(pcs, pauli_string)\n",
    "pcs.measure_all()\n",
    "print(pcs)\n",
    "\n",
    "sv = AerSimulator(method='statevector')\n",
    "ideal_pcs = compute_expectation_value(\n",
    "    backend.run([pcs], shots=50).result().get_counts(),\n",
    "    pauli_string\n",
    ")\n",
    "print(f\"ideal PCS circ expectation (no noise): {ideal_pcs}\")\n"
   ]
  },
  {
   "cell_type": "code",
   "execution_count": null,
   "metadata": {},
   "outputs": [],
   "source": []
  }
 ],
 "metadata": {
  "kernelspec": {
   "display_name": "pcs",
   "language": "python",
   "name": "python3"
  },
  "language_info": {
   "codemirror_mode": {
    "name": "ipython",
    "version": 3
   },
   "file_extension": ".py",
   "mimetype": "text/x-python",
   "name": "python",
   "nbconvert_exporter": "python",
   "pygments_lexer": "ipython3",
   "version": "3.12.7"
  }
 },
 "nbformat": 4,
 "nbformat_minor": 2
}
