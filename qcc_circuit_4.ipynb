{
 "cells": [
  {
   "cell_type": "code",
   "execution_count": 1,
   "id": "42d4e4dd",
   "metadata": {},
   "outputs": [],
   "source": [
    "import numpy as np\n",
    "\n",
    "from qiskit.circuit import QuantumCircuit, Parameter, ParameterVector"
   ]
  },
  {
   "cell_type": "code",
   "execution_count": 2,
   "id": "178feadb",
   "metadata": {},
   "outputs": [],
   "source": [
    "def hydrogen_trial_circuit(num_qubits):\n",
    "    qc = QuantumCircuit(num_qubits)\n",
    "    # prepare the Hartree-Fock state\n",
    "    qc.x(0)\n",
    "    qc.x(1)\n",
    "    \n",
    "    qc.rx(np.pi/2, 0)\n",
    "    qc.h(1)\n",
    "    qc.h(2)\n",
    "    qc.h(3)\n",
    "    \n",
    "    qc.cx(0,1)\n",
    "    qc.cx(1,2)\n",
    "    qc.cx(2,3)\n",
    "    \n",
    "    qc.rz(1.0, 3)\n",
    "    \n",
    "    qc.cx(2,3)\n",
    "    qc.cx(1,2)\n",
    "    qc.cx(0,1)\n",
    "    \n",
    "    qc.rx(-np.pi/2, 0)\n",
    "    qc.h(1)\n",
    "    qc.h(2)\n",
    "    qc.h(3)\n",
    "    \n",
    "    return qc"
   ]
  },
  {
   "cell_type": "code",
   "execution_count": 3,
   "id": "75061bb3",
   "metadata": {},
   "outputs": [
    {
     "data": {
      "text/html": [
       "<pre style=\"word-wrap: normal;white-space: pre;background: #fff0;line-height: 1.1;font-family: &quot;Courier New&quot;,Courier,monospace\">     ┌───┐┌─────────┐                                       ┌──────────┐\n",
       "q_0: ┤ X ├┤ Rx(π/2) ├──■─────────────────────────────────■──┤ Rx(-π/2) ├\n",
       "     ├───┤└──┬───┬──┘┌─┴─┐                             ┌─┴─┐└──┬───┬───┘\n",
       "q_1: ┤ X ├───┤ H ├───┤ X ├──■───────────────────────■──┤ X ├───┤ H ├────\n",
       "     ├───┤   └───┘   └───┘┌─┴─┐                   ┌─┴─┐├───┤   └───┘    \n",
       "q_2: ┤ H ├────────────────┤ X ├──■─────────────■──┤ X ├┤ H ├────────────\n",
       "     ├───┤                └───┘┌─┴─┐┌───────┐┌─┴─┐├───┤└───┘            \n",
       "q_3: ┤ H ├─────────────────────┤ X ├┤ Rz(1) ├┤ X ├┤ H ├─────────────────\n",
       "     └───┘                     └───┘└───────┘└───┘└───┘                 </pre>"
      ],
      "text/plain": [
       "     ┌───┐┌─────────┐                                       ┌──────────┐\n",
       "q_0: ┤ X ├┤ Rx(π/2) ├──■─────────────────────────────────■──┤ Rx(-π/2) ├\n",
       "     ├───┤└──┬───┬──┘┌─┴─┐                             ┌─┴─┐└──┬───┬───┘\n",
       "q_1: ┤ X ├───┤ H ├───┤ X ├──■───────────────────────■──┤ X ├───┤ H ├────\n",
       "     ├───┤   └───┘   └───┘┌─┴─┐                   ┌─┴─┐├───┤   └───┘    \n",
       "q_2: ┤ H ├────────────────┤ X ├──■─────────────■──┤ X ├┤ H ├────────────\n",
       "     ├───┤                └───┘┌─┴─┐┌───────┐┌─┴─┐├───┤└───┘            \n",
       "q_3: ┤ H ├─────────────────────┤ X ├┤ Rz(1) ├┤ X ├┤ H ├─────────────────\n",
       "     └───┘                     └───┘└───────┘└───┘└───┘                 "
      ]
     },
     "execution_count": 3,
     "metadata": {},
     "output_type": "execute_result"
    }
   ],
   "source": [
    "H_circ = hydrogen_trial_circuit(4)\n",
    "H_circ.draw()"
   ]
  },
  {
   "cell_type": "code",
   "execution_count": null,
   "id": "50638432-f7c1-4ab8-9421-ef07aee7dec9",
   "metadata": {},
   "outputs": [],
   "source": []
  },
  {
   "cell_type": "code",
   "execution_count": null,
   "id": "4a6f878b-1c3c-4424-9956-f61ee9c26b16",
   "metadata": {},
   "outputs": [],
   "source": []
  }
 ],
 "metadata": {
  "kernelspec": {
   "display_name": "Python [conda env:pcs]",
   "language": "python",
   "name": "conda-env-pcs-py"
  },
  "language_info": {
   "codemirror_mode": {
    "name": "ipython",
    "version": 3
   },
   "file_extension": ".py",
   "mimetype": "text/x-python",
   "name": "python",
   "nbconvert_exporter": "python",
   "pygments_lexer": "ipython3",
   "version": "3.12.7"
  }
 },
 "nbformat": 4,
 "nbformat_minor": 5
}
