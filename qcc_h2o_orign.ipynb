{
 "cells": [
  {
   "cell_type": "code",
   "execution_count": 1,
   "id": "6441bb84",
   "metadata": {},
   "outputs": [],
   "source": [
    "# Import necessary libraries and packages\n",
    "import math\n",
    "import numpy as np\n",
    "from tqdm import tqdm\n",
    "\n",
    "import warnings\n",
    "warnings.filterwarnings('ignore')\n",
    "\n",
    "from qiskit import Aer, IBMQ, QuantumCircuit\n",
    "from qiskit.primitives import Estimator\n",
    "from qiskit.utils import QuantumInstance\n",
    "from qiskit.circuit import QuantumCircuit, Parameter, ParameterVector\n",
    "from qiskit.opflow import PauliSumOp, commutator, CircuitStateFn\n",
    "from qiskit.opflow.converters import AbelianGrouper\n",
    "from qiskit.compiler import transpile\n",
    "\n",
    "# Import Qiskit libraries for VQE\n",
    "# from qiskit.algorithms import NumPyMinimumEigensolver, VQE\n",
    "# from qiskit.algorithms.optimizers import SLSQP, SPSA, COBYLA\n",
    "\n",
    "# Import Qiskit Nature libraries\n",
    "# from qiskit_nature.algorithms import GroundStateEigensolver, VQEUCCFactory\n",
    "# from qiskit_nature.circuit.library import UCC, UCCSD\n",
    "# from qiskit_nature.drivers import Molecule\n",
    "# from qiskit_nature.drivers.second_quantization import (ElectronicStructureDriverType,\n",
    "#                                                        ElectronicStructureMoleculeDriver)\n",
    "# from qiskit_nature.converters.second_quantization import QubitConverter\n",
    "# from qiskit_nature.mappers.second_quantization import BravyiKitaevMapper, JordanWignerMapper, ParityMapper\n",
    "# from qiskit_nature.problems.second_quantization.electronic import ElectronicStructureProblem\n",
    "# from qiskit_nature.transformers.second_quantization.electronic import ActiveSpaceTransformer\n",
    "\n",
    "# from qiskit_nature.settings import settings\n",
    "# settings.dict_aux_operators = True"
   ]
  },
  {
   "cell_type": "code",
   "execution_count": 2,
   "id": "c52f1c9f",
   "metadata": {},
   "outputs": [],
   "source": [
    "import numpy as np"
   ]
  },
  {
   "cell_type": "code",
   "execution_count": 3,
   "id": "3693bd74",
   "metadata": {},
   "outputs": [
    {
     "ename": "ModuleNotFoundError",
     "evalue": "No module named 'numpy.math'",
     "output_type": "error",
     "traceback": [
      "\u001b[0;31m---------------------------------------------------------------------------\u001b[0m",
      "\u001b[0;31mModuleNotFoundError\u001b[0m                       Traceback (most recent call last)",
      "Cell \u001b[0;32mIn[3], line 1\u001b[0m\n\u001b[0;32m----> 1\u001b[0m \u001b[38;5;28;01mfrom\u001b[39;00m \u001b[38;5;21;01mnumpy\u001b[39;00m\u001b[38;5;21;01m.\u001b[39;00m\u001b[38;5;21;01mmath\u001b[39;00m \u001b[38;5;28;01mimport\u001b[39;00m factorial\n",
      "\u001b[0;31mModuleNotFoundError\u001b[0m: No module named 'numpy.math'"
     ]
    }
   ],
   "source": [
    "from numpy.math import factorial"
   ]
  },
  {
   "cell_type": "code",
   "execution_count": 4,
   "id": "58017baf",
   "metadata": {},
   "outputs": [],
   "source": [
    "def calc(n, k):\n",
    "    summation = 0\n",
    "    for i in range(1, k + 1):\n",
    "        summation += np.math.factorial(n)/(np.math.factorial(i)*np.math.factorial(n-i))\n",
    "    exp = np.power(2, n)\n",
    "    return summation, exp"
   ]
  },
  {
   "cell_type": "code",
   "execution_count": 5,
   "id": "4a6e53a0",
   "metadata": {},
   "outputs": [
    {
     "name": "stdout",
     "output_type": "stream",
     "text": [
      "36.0 256 0.28125\n"
     ]
    }
   ],
   "source": [
    "length = 8\n",
    "nchoosek, exp = calc(length,int(length*0.25))\n",
    "print(nchoosek, exp, 2*nchoosek/exp)"
   ]
  },
  {
   "cell_type": "code",
   "execution_count": 6,
   "id": "bc7ebd44",
   "metadata": {},
   "outputs": [
    {
     "name": "stdout",
     "output_type": "stream",
     "text": [
      "36.0 256 0.28125\n"
     ]
    }
   ],
   "source": [
    "length = 8\n",
    "nchoosek, exp = calc(length,int(length*0.25))\n",
    "print(nchoosek, exp, 2*nchoosek/exp)"
   ]
  },
  {
   "cell_type": "markdown",
   "id": "b4d11e9e",
   "metadata": {},
   "source": [
    "First we test the active space to identify the proper orbitals to include."
   ]
  },
  {
   "cell_type": "code",
   "execution_count": 7,
   "id": "75ec05e6",
   "metadata": {},
   "outputs": [],
   "source": [
    "# active space test\n",
    "\n",
    "def get_qubit_op_1(dist):\n",
    "    \n",
    "    theta = (180 - 107.6)/2*np.pi/180\n",
    "    h2o = [[\"O\", [0.0, 0.0, 0.0]], \n",
    "           [\"H\", [dist*np.cos(theta), -dist*np.sin(theta), 0.0]], \n",
    "           [\"H\", [-dist*np.cos(theta), -dist*np.sin(theta), 0.0]]]\n",
    "    \n",
    "    water = Molecule(geometry=h2o, multiplicity=1, charge=0)\n",
    "    driver = ElectronicStructureMoleculeDriver(water,\n",
    "                                               basis=\"6-31g\",\n",
    "                                               driver_type=ElectronicStructureDriverType.PYSCF) \n",
    "    \n",
    "    transformer = ActiveSpaceTransformer(num_electrons=(2,2),\n",
    "                                         num_molecular_orbitals=4,\n",
    "                                         active_orbitals=[2,3,5,6])\n",
    "    \n",
    "    problem = ElectronicStructureProblem(driver, [transformer])\n",
    "    \n",
    "    # generate the second-quantized operators\n",
    "    second_q_ops = problem.second_q_ops()\n",
    "    converter = QubitConverter(mapper=JordanWignerMapper())\n",
    "    # map to qubit operators\n",
    "    qubit_op = converter.convert(second_q_ops.get('ElectronicEnergy'), num_particles=problem.num_particles)\n",
    "    \n",
    "    return qubit_op, converter, problem\n",
    "\n",
    "\n",
    "\n",
    "def get_qubit_op_2(dist):\n",
    "    \n",
    "    theta = (180 - 107.6)/2*np.pi/180\n",
    "    h2o = [[\"O\", [0.0, 0.0, 0.0]], \n",
    "           [\"H\", [dist*np.cos(theta), -dist*np.sin(theta), 0.0]], \n",
    "           [\"H\", [-dist*np.cos(theta), -dist*np.sin(theta), 0.0]]]\n",
    "    \n",
    "    water = Molecule(geometry=h2o, multiplicity=1, charge=0)\n",
    "    driver = ElectronicStructureMoleculeDriver(water,\n",
    "                                               basis=\"6-31g\",\n",
    "                                               driver_type=ElectronicStructureDriverType.PYSCF) \n",
    "    \n",
    "    transformer = ActiveSpaceTransformer(num_electrons=(2,2),\n",
    "                                         num_molecular_orbitals=4,\n",
    "                                         active_orbitals=[3,4,5,6])\n",
    "    \n",
    "    problem = ElectronicStructureProblem(driver, [transformer])\n",
    "    \n",
    "    # generate the second-quantized operators\n",
    "    second_q_ops = problem.second_q_ops()\n",
    "    converter = QubitConverter(mapper=JordanWignerMapper())\n",
    "    # map to qubit operators\n",
    "    qubit_op = converter.convert(second_q_ops.get('ElectronicEnergy'), num_particles=problem.num_particles)\n",
    "    \n",
    "    return qubit_op, converter, problem\n",
    "\n",
    "\n",
    "\n",
    "def get_qubit_op_3(dist):\n",
    "    \n",
    "    theta = (180 - 107.6)/2*np.pi/180\n",
    "    h2o = [[\"O\", [0.0, 0.0, 0.0]], \n",
    "           [\"H\", [dist*np.cos(theta), -dist*np.sin(theta), 0.0]], \n",
    "           [\"H\", [-dist*np.cos(theta), -dist*np.sin(theta), 0.0]]]\n",
    "    \n",
    "    water = Molecule(geometry=h2o, multiplicity=1, charge=0)\n",
    "    driver = ElectronicStructureMoleculeDriver(water,\n",
    "                                               basis=\"6-31g\",\n",
    "                                               driver_type=ElectronicStructureDriverType.PYSCF) \n",
    "    \n",
    "    transformer = ActiveSpaceTransformer(num_electrons=(2,2),\n",
    "                                         num_molecular_orbitals=4,\n",
    "                                         active_orbitals=[2,4,5,6])\n",
    "    \n",
    "    problem = ElectronicStructureProblem(driver, [transformer])\n",
    "    \n",
    "    # generate the second-quantized operators\n",
    "    second_q_ops = problem.second_q_ops()\n",
    "    converter = QubitConverter(mapper=JordanWignerMapper())\n",
    "    # map to qubit operators\n",
    "    qubit_op = converter.convert(second_q_ops.get('ElectronicEnergy'), num_particles=problem.num_particles)\n",
    "    \n",
    "    return qubit_op, converter, problem"
   ]
  },
  {
   "cell_type": "code",
   "execution_count": 8,
   "id": "b3f612b6",
   "metadata": {},
   "outputs": [
    {
     "ename": "NameError",
     "evalue": "name 'COBYLA' is not defined",
     "output_type": "error",
     "traceback": [
      "\u001b[0;31m---------------------------------------------------------------------------\u001b[0m",
      "\u001b[0;31mNameError\u001b[0m                                 Traceback (most recent call last)",
      "Cell \u001b[0;32mIn[8], line 2\u001b[0m\n\u001b[1;32m      1\u001b[0m distances \u001b[38;5;241m=\u001b[39m np\u001b[38;5;241m.\u001b[39marange(\u001b[38;5;241m0.7\u001b[39m, \u001b[38;5;241m2.9\u001b[39m, \u001b[38;5;241m0.055\u001b[39m)\n\u001b[0;32m----> 2\u001b[0m optimizer \u001b[38;5;241m=\u001b[39m \u001b[43mCOBYLA\u001b[49m()\n\u001b[1;32m      4\u001b[0m FCI_1 \u001b[38;5;241m=\u001b[39m []\n\u001b[1;32m      5\u001b[0m FCI_2 \u001b[38;5;241m=\u001b[39m []\n",
      "\u001b[0;31mNameError\u001b[0m: name 'COBYLA' is not defined"
     ]
    }
   ],
   "source": [
    "distances = np.arange(0.7, 2.9, 0.055)\n",
    "optimizer = COBYLA()\n",
    "\n",
    "FCI_1 = []\n",
    "FCI_2 = []\n",
    "FCI_3 = []\n",
    "\n",
    "for dist in tqdm(distances):\n",
    "    \n",
    "    for i in range(1,4):\n",
    "        globals()['qubit_op_%d' % i], converter, problem = globals()['get_qubit_op_%d' % i](dist)\n",
    "        numpy_solver = NumPyMinimumEigensolver()\n",
    "        calc = GroundStateEigensolver(converter, numpy_solver)\n",
    "        res = calc.solve(problem)\n",
    "        globals()['FCI_%d' % i].append(np.real(res.total_energies))"
   ]
  },
  {
   "cell_type": "code",
   "execution_count": 9,
   "id": "2ede691a",
   "metadata": {},
   "outputs": [
    {
     "ename": "NameError",
     "evalue": "name 'FCI_1' is not defined",
     "output_type": "error",
     "traceback": [
      "\u001b[0;31m---------------------------------------------------------------------------\u001b[0m",
      "\u001b[0;31mNameError\u001b[0m                                 Traceback (most recent call last)",
      "Cell \u001b[0;32mIn[9], line 4\u001b[0m\n\u001b[1;32m      1\u001b[0m \u001b[38;5;28;01mimport\u001b[39;00m \u001b[38;5;21;01mmatplotlib\u001b[39;00m\u001b[38;5;21;01m.\u001b[39;00m\u001b[38;5;21;01mpyplot\u001b[39;00m \u001b[38;5;28;01mas\u001b[39;00m \u001b[38;5;21;01mplt\u001b[39;00m\n\u001b[1;32m      3\u001b[0m plt\u001b[38;5;241m.\u001b[39mfigure(figsize\u001b[38;5;241m=\u001b[39m(\u001b[38;5;241m6\u001b[39m, \u001b[38;5;241m4\u001b[39m), dpi\u001b[38;5;241m=\u001b[39m\u001b[38;5;241m200\u001b[39m)\n\u001b[0;32m----> 4\u001b[0m plt\u001b[38;5;241m.\u001b[39mplot(distances, \u001b[43mFCI_1\u001b[49m, label\u001b[38;5;241m=\u001b[39m\u001b[38;5;124m'\u001b[39m\u001b[38;5;124m[2,3,5,6]\u001b[39m\u001b[38;5;124m'\u001b[39m, linewidth\u001b[38;5;241m=\u001b[39m\u001b[38;5;241m2\u001b[39m, color\u001b[38;5;241m=\u001b[39m\u001b[38;5;124m'\u001b[39m\u001b[38;5;124mtab:blue\u001b[39m\u001b[38;5;124m'\u001b[39m)\n\u001b[1;32m      5\u001b[0m plt\u001b[38;5;241m.\u001b[39mplot(distances, FCI_2, label\u001b[38;5;241m=\u001b[39m\u001b[38;5;124m'\u001b[39m\u001b[38;5;124m[3,4,5,6]\u001b[39m\u001b[38;5;124m'\u001b[39m, linewidth\u001b[38;5;241m=\u001b[39m\u001b[38;5;241m2\u001b[39m, color\u001b[38;5;241m=\u001b[39m\u001b[38;5;124m'\u001b[39m\u001b[38;5;124mtab:orange\u001b[39m\u001b[38;5;124m'\u001b[39m)\n\u001b[1;32m      6\u001b[0m plt\u001b[38;5;241m.\u001b[39mplot(distances, FCI_3, label\u001b[38;5;241m=\u001b[39m\u001b[38;5;124m'\u001b[39m\u001b[38;5;124m[2,4,5,6]\u001b[39m\u001b[38;5;124m'\u001b[39m, linewidth\u001b[38;5;241m=\u001b[39m\u001b[38;5;241m2\u001b[39m, color\u001b[38;5;241m=\u001b[39m\u001b[38;5;124m'\u001b[39m\u001b[38;5;124mtab:green\u001b[39m\u001b[38;5;124m'\u001b[39m)\n",
      "\u001b[0;31mNameError\u001b[0m: name 'FCI_1' is not defined"
     ]
    },
    {
     "data": {
      "text/plain": [
       "<Figure size 1200x800 with 0 Axes>"
      ]
     },
     "metadata": {},
     "output_type": "display_data"
    }
   ],
   "source": [
    "import matplotlib.pyplot as plt\n",
    "\n",
    "plt.figure(figsize=(6, 4), dpi=200)\n",
    "plt.plot(distances, FCI_1, label='[2,3,5,6]', linewidth=2, color='tab:blue')\n",
    "plt.plot(distances, FCI_2, label='[3,4,5,6]', linewidth=2, color='tab:orange')\n",
    "plt.plot(distances, FCI_3, label='[2,4,5,6]', linewidth=2, color='tab:green')\n",
    "plt.xlabel('Atomic distance (Angstrom)', fontsize=16)\n",
    "plt.ylabel('Energy [Ha]', fontsize=16)\n",
    "plt.xticks(fontsize=16)\n",
    "plt.yticks(fontsize=16)\n",
    "plt.tick_params(labelsize=16)\n",
    "plt.title(r'Potential Energy Surface of $H_2 O$', fontsize=16)\n",
    "plt.legend(fontsize=16, loc='best', edgecolor='black')\n",
    "plt.show()"
   ]
  },
  {
   "cell_type": "code",
   "execution_count": 10,
   "id": "9a3c7486",
   "metadata": {},
   "outputs": [],
   "source": [
    "def get_qubit_op(dist):\n",
    "    \n",
    "    theta = (180 - 107.6)/2*np.pi/180\n",
    "    h2o = [[\"O\", [0.0, 0.0, 0.0]], \n",
    "           [\"H\", [dist*np.cos(theta), -dist*np.sin(theta), 0.0]], \n",
    "           [\"H\", [-dist*np.cos(theta), -dist*np.sin(theta), 0.0]]]\n",
    "    \n",
    "    water = Molecule(geometry=h2o, multiplicity=1, charge=0)\n",
    "    driver = ElectronicStructureMoleculeDriver(water,\n",
    "                                               basis=\"6-31g\",\n",
    "                                               driver_type=ElectronicStructureDriverType.PYSCF) \n",
    "    if dist < 1.35:\n",
    "        active_orbitals = [2,3,5,6]\n",
    "    elif 1.35 < dist < 1.55:\n",
    "        active_orbitals = [2,4,5,6]\n",
    "    else:\n",
    "        active_orbitals = [3,4,5,6]\n",
    "        \n",
    "    transformer = ActiveSpaceTransformer(num_electrons=(2,2),\n",
    "                                         num_molecular_orbitals=4,\n",
    "                                         active_orbitals=active_orbitals)\n",
    "    \n",
    "    problem = ElectronicStructureProblem(driver, [transformer])\n",
    "    \n",
    "    # generate the second-quantized operators\n",
    "    second_q_ops = problem.second_q_ops()\n",
    "    converter = QubitConverter(mapper=ParityMapper(), two_qubit_reduction=True)\n",
    "    # map to qubit operators\n",
    "    qubit_op = converter.convert(second_q_ops.get('ElectronicEnergy'), num_particles=problem.num_particles)\n",
    "    \n",
    "    return qubit_op, converter, problem"
   ]
  },
  {
   "cell_type": "code",
   "execution_count": 11,
   "id": "70d0182c",
   "metadata": {},
   "outputs": [],
   "source": [
    "from itertools import product    \n",
    "\n",
    "def get_binary(length, x, y):\n",
    "    perm=product([x, y], repeat=length)\n",
    "    possible_bin=[]\n",
    "    for i in list(perm):  \n",
    "        my_bin=''.join(i) \n",
    "        possible_bin.append(my_bin)\n",
    "    return possible_bin\n",
    "\n",
    "\n",
    "def get_flip_index(pauli: str):\n",
    "    string = ''\n",
    "    num_qubits = len(pauli)\n",
    "    for i in pauli:\n",
    "        if i == 'X' or i == 'Y':\n",
    "            string += '1'\n",
    "        else:\n",
    "            string += '0'\n",
    "    \n",
    "    if len(string) != num_qubits:\n",
    "        raise 'Error of length'\n",
    "    \n",
    "    return string"
   ]
  },
  {
   "cell_type": "code",
   "execution_count": 12,
   "id": "f9348f86",
   "metadata": {},
   "outputs": [],
   "source": [
    "def Hamiltonian_grouper(qubit_op):\n",
    "    '''This function will group the qubit Hamiltonian into separate groups according to their flip indices.'''\n",
    "    \n",
    "    num_qubits = qubit_op.num_qubits\n",
    "    keys_list = get_binary(num_qubits, '0', '1')\n",
    "    \n",
    "    Hamiltonian_list = []\n",
    "    for i in qubit_op:\n",
    "        Hamiltonian_list.append(i.primitive.to_list()[0])\n",
    "    \n",
    "    # We create a dictionary to store each group as a PauliSumOperator, where the key is a string of '0's and\n",
    "    # '1's, where the '1's denote the flip indices.\n",
    "    H_Dict = {}\n",
    "    \n",
    "    for i in keys_list:\n",
    "        pauli_list = []\n",
    "        for j in Hamiltonian_list:\n",
    "            pauli = j[0]\n",
    "            if get_flip_index(pauli) == i:\n",
    "                pauli_list.append(j)\n",
    "                \n",
    "                # This algorithm can be accelated by removing the element being selected.\n",
    "        if pauli_list != []:\n",
    "            H_Dict.update({i: PauliSumOp.from_list(pauli_list)})\n",
    "    \n",
    "    return H_Dict"
   ]
  },
  {
   "cell_type": "code",
   "execution_count": 13,
   "id": "da927d9a",
   "metadata": {},
   "outputs": [],
   "source": [
    "def compute_gradient(H_Dict, circuit):\n",
    "    \n",
    "    '''This function computes the gradient of energy functional wrt a representative Pauli word from each group.\n",
    "    This implementation now only works with statevector simulator.'''\n",
    "    \n",
    "    # First we create a dictionary to store the gradient\n",
    "    gradient = {}\n",
    "    for i in H_Dict.keys():\n",
    "        num_flip_indices = i.count('1')\n",
    "        \n",
    "        if num_flip_indices > 0:\n",
    "            pauli = ''\n",
    "            for j in i:\n",
    "                if j == '0':\n",
    "                    pauli += 'I'\n",
    "                else:\n",
    "                    pauli += 'X'\n",
    "                    \n",
    "            for j in reversed(range(len(pauli))):\n",
    "                pauli = list(pauli)\n",
    "                if pauli[j] == 'X':\n",
    "                    pauli[j] = 'Y'\n",
    "                    break\n",
    "                    \n",
    "            pauli = ''.join(pauli)\n",
    "            pauli_list = [(pauli, 1.0 + 0.0j)]\n",
    "            P = PauliSumOp.from_list(pauli_list)\n",
    "            operator = H_Dict.get(i)@P            # according to Eqn 9. from JCTC. 2020, 16, 1055-1063\n",
    "            \n",
    "            psi = CircuitStateFn(circuit)\n",
    "            score = psi.adjoint().compose(operator).compose(psi).eval().imag\n",
    "            if abs(score) > 1E-5:\n",
    "                gradient.update({pauli: abs(score)})\n",
    "    \n",
    "    gradient = dict(sorted(gradient.items(), key=lambda item: item[1], reverse=False))\n",
    "    \n",
    "    return gradient"
   ]
  },
  {
   "cell_type": "code",
   "execution_count": 14,
   "id": "5b457a32",
   "metadata": {},
   "outputs": [
    {
     "data": {
      "text/html": [
       "<pre style=\"word-wrap: normal;white-space: pre;background: #fff0;line-height: 1.1;font-family: &quot;Courier New&quot;,Courier,monospace\">     ┌───┐\n",
       "q_0: ┤ X ├\n",
       "     └───┘\n",
       "q_1: ─────\n",
       "          \n",
       "q_2: ─────\n",
       "     ┌───┐\n",
       "q_3: ┤ X ├\n",
       "     └───┘\n",
       "q_4: ─────\n",
       "          \n",
       "q_5: ─────\n",
       "          </pre>"
      ],
      "text/plain": [
       "     ┌───┐\n",
       "q_0: ┤ X ├\n",
       "     └───┘\n",
       "q_1: ─────\n",
       "          \n",
       "q_2: ─────\n",
       "     ┌───┐\n",
       "q_3: ┤ X ├\n",
       "     └───┘\n",
       "q_4: ─────\n",
       "          \n",
       "q_5: ─────\n",
       "          "
      ]
     },
     "execution_count": 14,
     "metadata": {},
     "output_type": "execute_result"
    }
   ],
   "source": [
    "hf_circuit = QuantumCircuit(6)\n",
    "hf_circuit.x(0)\n",
    "hf_circuit.x(3)\n",
    "\n",
    "hf_circuit.draw()"
   ]
  },
  {
   "cell_type": "code",
   "execution_count": 15,
   "id": "04274ea7",
   "metadata": {},
   "outputs": [],
   "source": [
    "def construct_qcc_circuit(entanglers: list, backend, truncation=None):\n",
    "    '''This function defines the QCC ansatz circuit for VQE. Here we construct exponential blocks using\n",
    "    entanglers from QMF state as a proof of principle demonstration.\n",
    "    \n",
    "    Args:\n",
    "        entanglers: list storing Pauli words for construction of qcc_circuit.\n",
    "        backend: statevector, qasm simulator or a real backend.\n",
    "        truncation: a threshold number to truncate the blocks. Default: None.\n",
    "    Returns:\n",
    "        qcc_circuit\n",
    "    '''\n",
    "    if truncation != None:\n",
    "        if len(entanglers) > truncation:\n",
    "            num_blocks = truncation\n",
    "        else:\n",
    "            num_blocks = len(entanglers)\n",
    "    else:\n",
    "        num_blocks = len(entanglers)\n",
    "    \n",
    "    p = ParameterVector('p', num_blocks)\n",
    "    \n",
    "    num_qubits = len(entanglers[0])\n",
    "    qcc_circuit = QuantumCircuit(num_qubits)\n",
    "    for i in range(num_blocks):\n",
    "        circuit = QuantumCircuit(num_qubits)\n",
    "        key = entanglers[i]\n",
    "        coupler_map = []\n",
    "        \n",
    "        # We first construct coupler_map according to the key.\n",
    "        for j in range(num_qubits):\n",
    "            if key[num_qubits-1-j] != 'I':\n",
    "                coupler_map.append(j)\n",
    "                \n",
    "        # Then we construct the circuit.\n",
    "        if len(coupler_map) == 1:\n",
    "            # there is no CNOT gate.\n",
    "            c = coupler_map[0]\n",
    "            if key[num_qubits-1-c] == 'X':\n",
    "                circuit.h(c)\n",
    "                circuit.rz(p[i], c)\n",
    "                circuit.h(c)\n",
    "            elif key[num_qubits-1-c] == 'Y':\n",
    "                circuit.rx(-np.pi/2, c)\n",
    "                circuit.rz(p[i], c)\n",
    "                circuit.rx(np.pi/2, c)\n",
    "                \n",
    "            qcc_circuit += circuit\n",
    "        else:\n",
    "            # Here we would need CNOT gate.\n",
    "            for j in coupler_map:\n",
    "                if key[num_qubits-1-j] == 'X':\n",
    "                    circuit.h(j)\n",
    "                elif key[num_qubits-1-j] == 'Y':\n",
    "                    circuit.rx(-np.pi/2, j)\n",
    "                    \n",
    "            for j in range(len(coupler_map) - 1):\n",
    "                circuit.cx(coupler_map[j], coupler_map[j+1])\n",
    "                \n",
    "            param_gate = QuantumCircuit(num_qubits)\n",
    "            param_gate.rz(p[i], coupler_map[-1])\n",
    "            qcc_circuit += circuit + param_gate + circuit.inverse()\n",
    "    \n",
    "    # Would the optimization level setting to 3 represent the best Qiksit optimization?\n",
    "    trans_circuit = transpile(qcc_circuit, backend=backend, optimization_level=3)\n",
    "    \n",
    "    return trans_circuit"
   ]
  },
  {
   "cell_type": "code",
   "execution_count": 16,
   "id": "8cf0d24d",
   "metadata": {},
   "outputs": [
    {
     "ename": "NameError",
     "evalue": "name 'Molecule' is not defined",
     "output_type": "error",
     "traceback": [
      "\u001b[0;31m---------------------------------------------------------------------------\u001b[0m",
      "\u001b[0;31mNameError\u001b[0m                                 Traceback (most recent call last)",
      "Cell \u001b[0;32mIn[16], line 2\u001b[0m\n\u001b[1;32m      1\u001b[0m backend \u001b[38;5;241m=\u001b[39m Aer\u001b[38;5;241m.\u001b[39mget_backend(\u001b[38;5;124m\"\u001b[39m\u001b[38;5;124mstatevector_simulator\u001b[39m\u001b[38;5;124m\"\u001b[39m)\n\u001b[0;32m----> 2\u001b[0m qubit_op, converter, problem \u001b[38;5;241m=\u001b[39m \u001b[43mget_qubit_op\u001b[49m\u001b[43m(\u001b[49m\u001b[38;5;241;43m1.0\u001b[39;49m\u001b[43m)\u001b[49m\n\u001b[1;32m      3\u001b[0m H_Dict \u001b[38;5;241m=\u001b[39m Hamiltonian_grouper(qubit_op)\n\u001b[1;32m      5\u001b[0m gradient_Dict \u001b[38;5;241m=\u001b[39m compute_gradient(H_Dict, hf_circuit)\n",
      "Cell \u001b[0;32mIn[10], line 8\u001b[0m, in \u001b[0;36mget_qubit_op\u001b[0;34m(dist)\u001b[0m\n\u001b[1;32m      3\u001b[0m theta \u001b[38;5;241m=\u001b[39m (\u001b[38;5;241m180\u001b[39m \u001b[38;5;241m-\u001b[39m \u001b[38;5;241m107.6\u001b[39m)\u001b[38;5;241m/\u001b[39m\u001b[38;5;241m2\u001b[39m\u001b[38;5;241m*\u001b[39mnp\u001b[38;5;241m.\u001b[39mpi\u001b[38;5;241m/\u001b[39m\u001b[38;5;241m180\u001b[39m\n\u001b[1;32m      4\u001b[0m h2o \u001b[38;5;241m=\u001b[39m [[\u001b[38;5;124m\"\u001b[39m\u001b[38;5;124mO\u001b[39m\u001b[38;5;124m\"\u001b[39m, [\u001b[38;5;241m0.0\u001b[39m, \u001b[38;5;241m0.0\u001b[39m, \u001b[38;5;241m0.0\u001b[39m]], \n\u001b[1;32m      5\u001b[0m        [\u001b[38;5;124m\"\u001b[39m\u001b[38;5;124mH\u001b[39m\u001b[38;5;124m\"\u001b[39m, [dist\u001b[38;5;241m*\u001b[39mnp\u001b[38;5;241m.\u001b[39mcos(theta), \u001b[38;5;241m-\u001b[39mdist\u001b[38;5;241m*\u001b[39mnp\u001b[38;5;241m.\u001b[39msin(theta), \u001b[38;5;241m0.0\u001b[39m]], \n\u001b[1;32m      6\u001b[0m        [\u001b[38;5;124m\"\u001b[39m\u001b[38;5;124mH\u001b[39m\u001b[38;5;124m\"\u001b[39m, [\u001b[38;5;241m-\u001b[39mdist\u001b[38;5;241m*\u001b[39mnp\u001b[38;5;241m.\u001b[39mcos(theta), \u001b[38;5;241m-\u001b[39mdist\u001b[38;5;241m*\u001b[39mnp\u001b[38;5;241m.\u001b[39msin(theta), \u001b[38;5;241m0.0\u001b[39m]]]\n\u001b[0;32m----> 8\u001b[0m water \u001b[38;5;241m=\u001b[39m \u001b[43mMolecule\u001b[49m(geometry\u001b[38;5;241m=\u001b[39mh2o, multiplicity\u001b[38;5;241m=\u001b[39m\u001b[38;5;241m1\u001b[39m, charge\u001b[38;5;241m=\u001b[39m\u001b[38;5;241m0\u001b[39m)\n\u001b[1;32m      9\u001b[0m driver \u001b[38;5;241m=\u001b[39m ElectronicStructureMoleculeDriver(water,\n\u001b[1;32m     10\u001b[0m                                            basis\u001b[38;5;241m=\u001b[39m\u001b[38;5;124m\"\u001b[39m\u001b[38;5;124m6-31g\u001b[39m\u001b[38;5;124m\"\u001b[39m,\n\u001b[1;32m     11\u001b[0m                                            driver_type\u001b[38;5;241m=\u001b[39mElectronicStructureDriverType\u001b[38;5;241m.\u001b[39mPYSCF) \n\u001b[1;32m     12\u001b[0m \u001b[38;5;28;01mif\u001b[39;00m dist \u001b[38;5;241m<\u001b[39m \u001b[38;5;241m1.35\u001b[39m:\n",
      "\u001b[0;31mNameError\u001b[0m: name 'Molecule' is not defined"
     ]
    }
   ],
   "source": [
    "backend = Aer.get_backend(\"statevector_simulator\")\n",
    "qubit_op, converter, problem = get_qubit_op(1.0)\n",
    "H_Dict = Hamiltonian_grouper(qubit_op)\n",
    "\n",
    "gradient_Dict = compute_gradient(H_Dict, hf_circuit)\n",
    "print(gradient_Dict)"
   ]
  },
  {
   "cell_type": "code",
   "execution_count": 19,
   "id": "96bf1fbc",
   "metadata": {},
   "outputs": [
    {
     "ename": "TypeError",
     "evalue": "unsupported operand type(s) for +: 'QuantumCircuit' and 'QuantumCircuit'",
     "output_type": "error",
     "traceback": [
      "\u001b[0;31m---------------------------------------------------------------------------\u001b[0m",
      "\u001b[0;31mTypeError\u001b[0m                                 Traceback (most recent call last)",
      "Cell \u001b[0;32mIn[19], line 5\u001b[0m\n\u001b[1;32m      1\u001b[0m \u001b[38;5;66;03m# distances = np.arange(0.7, 2.9, 0.055)\u001b[39;00m\n\u001b[1;32m      2\u001b[0m \u001b[38;5;66;03m# optimizer = COBYLA()\u001b[39;00m\n\u001b[1;32m      4\u001b[0m entanglers \u001b[38;5;241m=\u001b[39m [\u001b[38;5;124m'\u001b[39m\u001b[38;5;124mXXXXXY\u001b[39m\u001b[38;5;124m'\u001b[39m, \u001b[38;5;124m'\u001b[39m\u001b[38;5;124mXXXIYI\u001b[39m\u001b[38;5;124m'\u001b[39m, \u001b[38;5;124m'\u001b[39m\u001b[38;5;124mIXIXXY\u001b[39m\u001b[38;5;124m'\u001b[39m, \u001b[38;5;124m'\u001b[39m\u001b[38;5;124mIXIIYI\u001b[39m\u001b[38;5;124m'\u001b[39m, \u001b[38;5;124m'\u001b[39m\u001b[38;5;124mIXXIXY\u001b[39m\u001b[38;5;124m'\u001b[39m, \u001b[38;5;124m'\u001b[39m\u001b[38;5;124mXXIXYI\u001b[39m\u001b[38;5;124m'\u001b[39m, \u001b[38;5;124m'\u001b[39m\u001b[38;5;124mIIIXIY\u001b[39m\u001b[38;5;124m'\u001b[39m, \u001b[38;5;124m'\u001b[39m\u001b[38;5;124mXIYIII\u001b[39m\u001b[38;5;124m'\u001b[39m]\n\u001b[0;32m----> 5\u001b[0m ansatz \u001b[38;5;241m=\u001b[39m hf_circuit\u001b[38;5;241m.\u001b[39mcompose(\u001b[43mconstruct_qcc_circuit\u001b[49m\u001b[43m(\u001b[49m\u001b[43mentanglers\u001b[49m\u001b[43m,\u001b[49m\u001b[43m \u001b[49m\u001b[43mbackend\u001b[49m\u001b[43m)\u001b[49m)\n\u001b[1;32m      6\u001b[0m \u001b[38;5;28mprint\u001b[39m(ansatz)\n\u001b[1;32m      8\u001b[0m FCI \u001b[38;5;241m=\u001b[39m []\n",
      "Cell \u001b[0;32mIn[15], line 61\u001b[0m, in \u001b[0;36mconstruct_qcc_circuit\u001b[0;34m(entanglers, backend, truncation)\u001b[0m\n\u001b[1;32m     59\u001b[0m         param_gate \u001b[38;5;241m=\u001b[39m QuantumCircuit(num_qubits)\n\u001b[1;32m     60\u001b[0m         param_gate\u001b[38;5;241m.\u001b[39mrz(p[i], coupler_map[\u001b[38;5;241m-\u001b[39m\u001b[38;5;241m1\u001b[39m])\n\u001b[0;32m---> 61\u001b[0m         qcc_circuit \u001b[38;5;241m+\u001b[39m\u001b[38;5;241m=\u001b[39m \u001b[43mcircuit\u001b[49m\u001b[43m \u001b[49m\u001b[38;5;241;43m+\u001b[39;49m\u001b[43m \u001b[49m\u001b[43mparam_gate\u001b[49m \u001b[38;5;241m+\u001b[39m circuit\u001b[38;5;241m.\u001b[39minverse()\n\u001b[1;32m     63\u001b[0m \u001b[38;5;66;03m# Would the optimization level setting to 3 represent the best Qiksit optimization?\u001b[39;00m\n\u001b[1;32m     64\u001b[0m trans_circuit \u001b[38;5;241m=\u001b[39m transpile(qcc_circuit, backend\u001b[38;5;241m=\u001b[39mbackend, optimization_level\u001b[38;5;241m=\u001b[39m\u001b[38;5;241m3\u001b[39m)\n",
      "\u001b[0;31mTypeError\u001b[0m: unsupported operand type(s) for +: 'QuantumCircuit' and 'QuantumCircuit'"
     ]
    }
   ],
   "source": [
    "distances = np.arange(0.7, 2.9, 0.055)\n",
    "optimizer = COBYLA()\n",
    "\n",
    "entanglers = ['XXXXXY', 'XXXIYI', 'IXIXXY', 'IXIIYI', 'IXXIXY', 'XXIXYI', 'IIIXIY', 'XIYIII']\n",
    "ansatz = hf_circuit.compose(construct_qcc_circuit(entanglers, backend))\n",
    "\n",
    "FCI = []\n",
    "QCC = []\n",
    "initial_point = np.array([0.0]*len(entanglers))\n",
    "for dist in tqdm(distances):\n",
    "    \n",
    "    qubit_op, converter, problem = get_qubit_op(dist)\n",
    "    numpy_solver = NumPyMinimumEigensolver()\n",
    "    calc = GroundStateEigensolver(converter, numpy_solver)\n",
    "    res = calc.solve(problem)\n",
    "    FCI.append(np.real(res.total_energies))\n",
    "    \n",
    "    vqe_solver = VQE(ansatz=ansatz, optimizer=optimizer, quantum_instance=backend, initial_point=initial_point)\n",
    "    calc = GroundStateEigensolver(converter, vqe_solver)\n",
    "    res = calc.solve(problem)\n",
    "    QCC.append(np.real(res.total_energies))"
   ]
  },
  {
   "cell_type": "code",
   "execution_count": 14,
   "id": "a939cf5d",
   "metadata": {},
   "outputs": [
    {
     "data": {
      "image/png": "[encoded data removed]",
      "text/plain": [
       "<Figure size 1200x800 with 1 Axes>"
      ]
     },
     "metadata": {
      "needs_background": "light"
     },
     "output_type": "display_data"
    }
   ],
   "source": [
    "import matplotlib.pyplot as plt\n",
    "\n",
    "plt.figure(figsize=(6, 4), dpi=200)\n",
    "plt.plot(distances, FCI, label='FCI', linewidth=2, color='tab:blue')\n",
    "plt.scatter(distances, QCC, label='QCC', s=80, marker='D', color='black', zorder=5)\n",
    "plt.xlabel('Atomic distance (Angstrom)', fontsize=16)\n",
    "plt.ylabel('Energy [Ha]', fontsize=16)\n",
    "plt.xticks(fontsize=16)\n",
    "plt.yticks(fontsize=16)\n",
    "plt.tick_params(labelsize=16)\n",
    "plt.title(r'Potential Energy Surface of $H_2 O$', fontsize=16)\n",
    "plt.legend(fontsize=16, loc='best', edgecolor='black')\n",
    "plt.show()"
   ]
  },
  {
   "cell_type": "code",
   "execution_count": null,
   "id": "74849ac1",
   "metadata": {},
   "outputs": [],
   "source": []
  }
 ],
 "metadata": {
  "kernelspec": {
   "display_name": "Python [conda env:pcs_zne]",
   "language": "python",
   "name": "conda-env-pcs_zne-py"
  },
  "language_info": {
   "codemirror_mode": {
    "name": "ipython",
    "version": 3
   },
   "file_extension": ".py",
   "mimetype": "text/x-python",
   "name": "python",
   "nbconvert_exporter": "python",
   "pygments_lexer": "ipython3",
   "version": "3.8.18"
  }
 },
 "nbformat": 4,
 "nbformat_minor": 5
}
